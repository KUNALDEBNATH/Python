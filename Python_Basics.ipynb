{
  "nbformat": 4,
  "nbformat_minor": 0,
  "metadata": {
    "colab": {
      "provenance": [],
      "authorship_tag": "ABX9TyOEHBEND+mHkMgTnDfW0eLw",
      "include_colab_link": true
    },
    "kernelspec": {
      "name": "python3",
      "display_name": "Python 3"
    },
    "language_info": {
      "name": "python"
    }
  },
  "cells": [
    {
      "cell_type": "markdown",
      "metadata": {
        "id": "view-in-github",
        "colab_type": "text"
      },
      "source": [
        "<a href=\"https://colab.research.google.com/github/KUNALDEBNATH/Python/blob/main/Python_Basics.ipynb\" target=\"_parent\"><img src=\"https://colab.research.google.com/assets/colab-badge.svg\" alt=\"Open In Colab\"/></a>"
      ]
    },
    {
      "cell_type": "code",
      "execution_count": null,
      "metadata": {
        "colab": {
          "base_uri": "https://localhost:8080/"
        },
        "id": "YIVRG7f1eu_W",
        "outputId": "803c80f5-2ec6-4205-ac3a-36bec5f09b88"
      },
      "outputs": [
        {
          "output_type": "execute_result",
          "data": {
            "text/plain": [
              "11"
            ]
          },
          "metadata": {},
          "execution_count": 1
        }
      ],
      "source": [
        "5+6"
      ]
    },
    {
      "cell_type": "code",
      "source": [
        "k=4"
      ],
      "metadata": {
        "id": "fgCTly2oe4PL"
      },
      "execution_count": null,
      "outputs": []
    },
    {
      "cell_type": "code",
      "source": [
        "type(k)"
      ],
      "metadata": {
        "colab": {
          "base_uri": "https://localhost:8080/"
        },
        "id": "psaLFT9rfimW",
        "outputId": "5ef030a6-0138-4c01-f0b0-310f897cc915"
      },
      "execution_count": null,
      "outputs": [
        {
          "output_type": "execute_result",
          "data": {
            "text/plain": [
              "int"
            ]
          },
          "metadata": {},
          "execution_count": 3
        }
      ]
    },
    {
      "cell_type": "code",
      "source": [
        "a=int(input())\n",
        "print(a)"
      ],
      "metadata": {
        "colab": {
          "base_uri": "https://localhost:8080/"
        },
        "id": "67LLoUwaflvh",
        "outputId": "2ff9b853-3d28-4e40-a55c-75cc76bb99b9"
      },
      "execution_count": null,
      "outputs": [
        {
          "output_type": "stream",
          "name": "stdout",
          "text": [
            "42\n",
            "42\n"
          ]
        }
      ]
    },
    {
      "cell_type": "code",
      "source": [
        "print(\"hello world\")"
      ],
      "metadata": {
        "id": "ZshC3IQihY8z",
        "colab": {
          "base_uri": "https://localhost:8080/"
        },
        "outputId": "9f9c4d4f-0003-4a21-a49c-fae066b2181b"
      },
      "execution_count": null,
      "outputs": [
        {
          "output_type": "stream",
          "name": "stdout",
          "text": [
            "hello world\n"
          ]
        }
      ]
    },
    {
      "cell_type": "markdown",
      "source": [
        "Variables : they are placeholders where we will keep varity of data which we can use to write logic\n"
      ],
      "metadata": {
        "id": "JOnEtQxGtZFI"
      }
    },
    {
      "cell_type": "markdown",
      "source": [
        "INT"
      ],
      "metadata": {
        "id": "zthSEkwvwB-H"
      }
    },
    {
      "cell_type": "code",
      "source": [
        "a=3\n",
        "a"
      ],
      "metadata": {
        "colab": {
          "base_uri": "https://localhost:8080/"
        },
        "id": "oQI-iy72tBfN",
        "outputId": "a4276265-9e85-48d5-dfcc-56d16d0d575f"
      },
      "execution_count": null,
      "outputs": [
        {
          "output_type": "execute_result",
          "data": {
            "text/plain": [
              "3"
            ]
          },
          "metadata": {},
          "execution_count": 10
        }
      ]
    },
    {
      "cell_type": "code",
      "source": [
        "type(a)"
      ],
      "metadata": {
        "colab": {
          "base_uri": "https://localhost:8080/"
        },
        "id": "G2tF-eA3tqrf",
        "outputId": "feaf4546-8e76-4f72-aa1b-c1ab2cf78465"
      },
      "execution_count": null,
      "outputs": [
        {
          "output_type": "execute_result",
          "data": {
            "text/plain": [
              "int"
            ]
          },
          "metadata": {},
          "execution_count": 9
        }
      ]
    },
    {
      "cell_type": "markdown",
      "source": [
        "FLOAT"
      ],
      "metadata": {
        "id": "QGEYau9FwIn-"
      }
    },
    {
      "cell_type": "code",
      "source": [
        "b=4.2\n",
        "b"
      ],
      "metadata": {
        "colab": {
          "base_uri": "https://localhost:8080/"
        },
        "id": "EYYoXu-lucPB",
        "outputId": "73ff2bfa-37bc-4965-c479-3e4c710d5a6c"
      },
      "execution_count": null,
      "outputs": [
        {
          "output_type": "execute_result",
          "data": {
            "text/plain": [
              "4.2"
            ]
          },
          "metadata": {},
          "execution_count": 4
        }
      ]
    },
    {
      "cell_type": "code",
      "source": [
        "type(b)"
      ],
      "metadata": {
        "colab": {
          "base_uri": "https://localhost:8080/"
        },
        "id": "3HHd3nrHukTb",
        "outputId": "69a7eb08-2ca9-475b-eb2a-6ea14bb7527f"
      },
      "execution_count": null,
      "outputs": [
        {
          "output_type": "execute_result",
          "data": {
            "text/plain": [
              "float"
            ]
          },
          "metadata": {},
          "execution_count": 5
        }
      ]
    },
    {
      "cell_type": "markdown",
      "source": [
        "STRING"
      ],
      "metadata": {
        "id": "Fv_a0uohwK3e"
      }
    },
    {
      "cell_type": "code",
      "source": [
        "a=\"Ajay\"\n",
        "a"
      ],
      "metadata": {
        "colab": {
          "base_uri": "https://localhost:8080/",
          "height": 35
        },
        "id": "YZ35vZLJumEh",
        "outputId": "ce19e9b7-d8d8-481a-c61d-3d777f1ffdfe"
      },
      "execution_count": null,
      "outputs": [
        {
          "output_type": "execute_result",
          "data": {
            "text/plain": [
              "'Ajay'"
            ],
            "application/vnd.google.colaboratory.intrinsic+json": {
              "type": "string"
            }
          },
          "metadata": {},
          "execution_count": 6
        }
      ]
    },
    {
      "cell_type": "code",
      "source": [
        "type(a)"
      ],
      "metadata": {
        "colab": {
          "base_uri": "https://localhost:8080/"
        },
        "id": "mXv3hhHbuyCA",
        "outputId": "b19fa0e3-b425-4da2-9058-46761e4b24f2"
      },
      "execution_count": null,
      "outputs": [
        {
          "output_type": "execute_result",
          "data": {
            "text/plain": [
              "str"
            ]
          },
          "metadata": {},
          "execution_count": 7
        }
      ]
    },
    {
      "cell_type": "markdown",
      "source": [
        "BOOLEAN"
      ],
      "metadata": {
        "id": "AcYRGm1gwN1W"
      }
    },
    {
      "cell_type": "code",
      "source": [
        "a=True\n",
        "a"
      ],
      "metadata": {
        "colab": {
          "base_uri": "https://localhost:8080/"
        },
        "id": "bBOjgB_zu3R8",
        "outputId": "a0e411bd-d6e0-4cbf-b248-2c31775357e0"
      },
      "execution_count": null,
      "outputs": [
        {
          "output_type": "execute_result",
          "data": {
            "text/plain": [
              "True"
            ]
          },
          "metadata": {},
          "execution_count": 12
        }
      ]
    },
    {
      "cell_type": "code",
      "source": [
        "type(a)"
      ],
      "metadata": {
        "colab": {
          "base_uri": "https://localhost:8080/"
        },
        "id": "iMK8F5advGfe",
        "outputId": "dae881c6-3875-45e0-c3e7-ff2735904281"
      },
      "execution_count": null,
      "outputs": [
        {
          "output_type": "execute_result",
          "data": {
            "text/plain": [
              "bool"
            ]
          },
          "metadata": {},
          "execution_count": 13
        }
      ]
    },
    {
      "cell_type": "code",
      "source": [
        "True-False #1-0=1"
      ],
      "metadata": {
        "colab": {
          "base_uri": "https://localhost:8080/"
        },
        "id": "ve3kbqp1vNAc",
        "outputId": "40ba0939-3ae3-47af-cd9f-707acea42314"
      },
      "execution_count": null,
      "outputs": [
        {
          "output_type": "execute_result",
          "data": {
            "text/plain": [
              "1"
            ]
          },
          "metadata": {},
          "execution_count": 14
        }
      ]
    },
    {
      "cell_type": "code",
      "source": [
        "True*False #1*0=0"
      ],
      "metadata": {
        "colab": {
          "base_uri": "https://localhost:8080/"
        },
        "id": "c57XL0uCvYtx",
        "outputId": "e50a284e-ffe0-4f3e-c94b-7d682f88635b"
      },
      "execution_count": null,
      "outputs": [
        {
          "output_type": "execute_result",
          "data": {
            "text/plain": [
              "0"
            ]
          },
          "metadata": {},
          "execution_count": 15
        }
      ]
    },
    {
      "cell_type": "code",
      "source": [
        "#True / False -> It will throw error"
      ],
      "metadata": {
        "id": "wY3E1tQtvevn"
      },
      "execution_count": null,
      "outputs": []
    },
    {
      "cell_type": "markdown",
      "source": [
        "COMPLEX NUMBER"
      ],
      "metadata": {
        "id": "h5d9FeEywUy5"
      }
    },
    {
      "cell_type": "code",
      "source": [
        "c=5+6j #x+iy"
      ],
      "metadata": {
        "id": "0I4HDflpv2lW"
      },
      "execution_count": null,
      "outputs": []
    },
    {
      "cell_type": "code",
      "source": [
        "type(c)"
      ],
      "metadata": {
        "colab": {
          "base_uri": "https://localhost:8080/"
        },
        "id": "x-7M6rXjweN7",
        "outputId": "f2605633-151f-43d9-8982-a7a86f75040c"
      },
      "execution_count": null,
      "outputs": [
        {
          "output_type": "execute_result",
          "data": {
            "text/plain": [
              "complex"
            ]
          },
          "metadata": {},
          "execution_count": 18
        }
      ]
    },
    {
      "cell_type": "code",
      "source": [
        "c.real"
      ],
      "metadata": {
        "colab": {
          "base_uri": "https://localhost:8080/"
        },
        "id": "iQS-zpkbwiCP",
        "outputId": "5c7ce1f1-7a45-4aea-e9d7-974d71fc397d"
      },
      "execution_count": null,
      "outputs": [
        {
          "output_type": "execute_result",
          "data": {
            "text/plain": [
              "5.0"
            ]
          },
          "metadata": {},
          "execution_count": 22
        }
      ]
    },
    {
      "cell_type": "code",
      "source": [
        "c.imag"
      ],
      "metadata": {
        "colab": {
          "base_uri": "https://localhost:8080/"
        },
        "id": "U3xEZw6cwnJp",
        "outputId": "af46debb-a7e3-417b-d7a8-7404eff3a997"
      },
      "execution_count": null,
      "outputs": [
        {
          "output_type": "execute_result",
          "data": {
            "text/plain": [
              "6.0"
            ]
          },
          "metadata": {},
          "execution_count": 21
        }
      ]
    },
    {
      "cell_type": "markdown",
      "source": [
        "Rules of defining variable : A variable start with a letter or underscore character"
      ],
      "metadata": {
        "id": "tfCPxeGqx5df"
      }
    },
    {
      "cell_type": "code",
      "source": [
        "_abc=\"Python\"\n",
        "I12=\"java\"\n",
        "ku_nal=\"hippo\""
      ],
      "metadata": {
        "id": "09yRyD5GwrzV"
      },
      "execution_count": null,
      "outputs": []
    },
    {
      "cell_type": "markdown",
      "source": [
        "Comments"
      ],
      "metadata": {
        "id": "9tWme0utyjQD"
      }
    },
    {
      "cell_type": "markdown",
      "source": [
        "Single line comment"
      ],
      "metadata": {
        "id": "iMj3MD8XyoGy"
      }
    },
    {
      "cell_type": "code",
      "source": [
        "#I am kunal\n",
        "#I am learning python"
      ],
      "metadata": {
        "id": "hbaERst0yQF9"
      },
      "execution_count": null,
      "outputs": []
    },
    {
      "cell_type": "markdown",
      "source": [
        "Multi line comment"
      ],
      "metadata": {
        "id": "BstV_lDry3fv"
      }
    },
    {
      "cell_type": "code",
      "source": [
        "\"\"\"\n",
        "there are\n",
        "many pigs\n",
        "in the field\n",
        "\"\"\""
      ],
      "metadata": {
        "colab": {
          "base_uri": "https://localhost:8080/",
          "height": 35
        },
        "id": "xrsNwdrRy56H",
        "outputId": "baa3bfc0-fb9c-470e-cb12-b1447e2c18db"
      },
      "execution_count": null,
      "outputs": [
        {
          "output_type": "execute_result",
          "data": {
            "text/plain": [
              "'\\nthere are\\nmany pigs\\nin the field\\n'"
            ],
            "application/vnd.google.colaboratory.intrinsic+json": {
              "type": "string"
            }
          },
          "metadata": {},
          "execution_count": 27
        }
      ]
    },
    {
      "cell_type": "code",
      "source": [
        "# hi tom     shortcut-> ctrl + /\n",
        "# how\n",
        "# are u"
      ],
      "metadata": {
        "id": "v5YKa1NozCts"
      },
      "execution_count": null,
      "outputs": []
    },
    {
      "cell_type": "markdown",
      "source": [
        "Keywords : keywords are predefined words in python do not use them as variables"
      ],
      "metadata": {
        "id": "S9oMcLIbzu8p"
      }
    },
    {
      "cell_type": "markdown",
      "source": [
        "Indentation"
      ],
      "metadata": {
        "id": "NNJQ-e7P2F9q"
      }
    },
    {
      "cell_type": "code",
      "source": [
        "if 3>2:\n",
        "  print(\"greater\")"
      ],
      "metadata": {
        "colab": {
          "base_uri": "https://localhost:8080/"
        },
        "id": "a-8JmfVw0Ium",
        "outputId": "ef38e304-31c2-4954-d5b4-623a53b2e248"
      },
      "execution_count": null,
      "outputs": [
        {
          "output_type": "stream",
          "name": "stdout",
          "text": [
            "greater\n"
          ]
        }
      ]
    },
    {
      "cell_type": "markdown",
      "source": [
        "Statement"
      ],
      "metadata": {
        "id": "zdIgsWYg2tHi"
      }
    },
    {
      "cell_type": "markdown",
      "source": [
        "Assingment Statement"
      ],
      "metadata": {
        "id": "yRxyQrSx2yj_"
      }
    },
    {
      "cell_type": "code",
      "source": [
        "a=3\n",
        "a"
      ],
      "metadata": {
        "colab": {
          "base_uri": "https://localhost:8080/"
        },
        "id": "2Lfm2r3L2O6c",
        "outputId": "9112133d-0118-47c6-c7e6-f2cc9cf70c50"
      },
      "execution_count": null,
      "outputs": [
        {
          "output_type": "execute_result",
          "data": {
            "text/plain": [
              "3"
            ]
          },
          "metadata": {},
          "execution_count": 37
        }
      ]
    },
    {
      "cell_type": "markdown",
      "source": [
        "Expression Statement"
      ],
      "metadata": {
        "id": "UzseJfoY2-Go"
      }
    },
    {
      "cell_type": "code",
      "source": [
        "a=2\n",
        "b=5\n",
        "a+b #expression"
      ],
      "metadata": {
        "colab": {
          "base_uri": "https://localhost:8080/"
        },
        "id": "jk2Q3kw53CC4",
        "outputId": "4c7468ba-6d37-45b0-badb-daa7bfe9d0e3"
      },
      "execution_count": null,
      "outputs": [
        {
          "output_type": "execute_result",
          "data": {
            "text/plain": [
              "7"
            ]
          },
          "metadata": {},
          "execution_count": 38
        }
      ]
    },
    {
      "cell_type": "markdown",
      "source": [
        "Input function"
      ],
      "metadata": {
        "id": "60ygtgiP3jWw"
      }
    },
    {
      "cell_type": "code",
      "source": [
        "a=input(\"Enter: \")"
      ],
      "metadata": {
        "colab": {
          "base_uri": "https://localhost:8080/"
        },
        "id": "AFsZtgy327Q6",
        "outputId": "52cf96c0-befd-4588-a757-50456e0d8af4"
      },
      "execution_count": null,
      "outputs": [
        {
          "name": "stdout",
          "output_type": "stream",
          "text": [
            "Enter: 1\n"
          ]
        }
      ]
    },
    {
      "cell_type": "code",
      "source": [
        "type(a)  #By default its String"
      ],
      "metadata": {
        "colab": {
          "base_uri": "https://localhost:8080/"
        },
        "id": "6v1OuwOZ3we5",
        "outputId": "7bdfc9dd-5a9b-48d7-c4ae-c3db360270b0"
      },
      "execution_count": null,
      "outputs": [
        {
          "output_type": "execute_result",
          "data": {
            "text/plain": [
              "str"
            ]
          },
          "metadata": {},
          "execution_count": 41
        }
      ]
    },
    {
      "cell_type": "code",
      "source": [
        "a=int(input(\"Enter: \"))"
      ],
      "metadata": {
        "colab": {
          "base_uri": "https://localhost:8080/"
        },
        "id": "YKu9L7DB36YL",
        "outputId": "9d93d8dd-65de-48b1-b26a-43243b0693ce"
      },
      "execution_count": null,
      "outputs": [
        {
          "name": "stdout",
          "output_type": "stream",
          "text": [
            "Enter: 1\n"
          ]
        }
      ]
    },
    {
      "cell_type": "code",
      "source": [
        "type(a)"
      ],
      "metadata": {
        "colab": {
          "base_uri": "https://localhost:8080/"
        },
        "id": "g8Q_9jdh4LMa",
        "outputId": "81593e23-7436-4802-a7a7-d2b26cd184af"
      },
      "execution_count": null,
      "outputs": [
        {
          "output_type": "execute_result",
          "data": {
            "text/plain": [
              "int"
            ]
          },
          "metadata": {},
          "execution_count": 46
        }
      ]
    },
    {
      "cell_type": "markdown",
      "source": [
        "Type Casting"
      ],
      "metadata": {
        "id": "s5XXVdpf5-sQ"
      }
    },
    {
      "cell_type": "code",
      "source": [
        "s=\"121\"\n",
        "type(s)"
      ],
      "metadata": {
        "colab": {
          "base_uri": "https://localhost:8080/",
          "height": 35
        },
        "id": "vhmaBvDV4fSg",
        "outputId": "2b2a2319-2c76-426f-b9d4-7a9b2f77f434"
      },
      "execution_count": null,
      "outputs": [
        {
          "output_type": "execute_result",
          "data": {
            "text/plain": [
              "'121'"
            ],
            "application/vnd.google.colaboratory.intrinsic+json": {
              "type": "string"
            }
          },
          "metadata": {},
          "execution_count": 56
        }
      ]
    },
    {
      "cell_type": "code",
      "source": [
        "int(s)"
      ],
      "metadata": {
        "colab": {
          "base_uri": "https://localhost:8080/"
        },
        "id": "4Nhpeez943Xe",
        "outputId": "f6f066e7-d529-4108-f6c3-0b29690628d9"
      },
      "execution_count": null,
      "outputs": [
        {
          "output_type": "execute_result",
          "data": {
            "text/plain": [
              "121"
            ]
          },
          "metadata": {},
          "execution_count": 54
        }
      ]
    },
    {
      "cell_type": "code",
      "source": [
        "s=\"1.21\"\n",
        "type(s)"
      ],
      "metadata": {
        "colab": {
          "base_uri": "https://localhost:8080/"
        },
        "id": "9ZWHyH3u48en",
        "outputId": "9bdceec6-e2ea-488e-c7a6-20c88d545be9"
      },
      "execution_count": null,
      "outputs": [
        {
          "output_type": "execute_result",
          "data": {
            "text/plain": [
              "str"
            ]
          },
          "metadata": {},
          "execution_count": 57
        }
      ]
    },
    {
      "cell_type": "code",
      "source": [
        "float(s)"
      ],
      "metadata": {
        "colab": {
          "base_uri": "https://localhost:8080/"
        },
        "id": "yVhFmoWq5Qpb",
        "outputId": "0cc35937-2001-49c2-cee9-8ed041e1ee0e"
      },
      "execution_count": null,
      "outputs": [
        {
          "output_type": "execute_result",
          "data": {
            "text/plain": [
              "1.21"
            ]
          },
          "metadata": {},
          "execution_count": 58
        }
      ]
    },
    {
      "cell_type": "code",
      "source": [
        "bool(0)"
      ],
      "metadata": {
        "colab": {
          "base_uri": "https://localhost:8080/"
        },
        "id": "M7YX16fB5SrU",
        "outputId": "d72532c1-c80c-495a-d0fc-b7ac5c35c31c"
      },
      "execution_count": null,
      "outputs": [
        {
          "output_type": "execute_result",
          "data": {
            "text/plain": [
              "False"
            ]
          },
          "metadata": {},
          "execution_count": 59
        }
      ]
    },
    {
      "cell_type": "code",
      "source": [
        "bool(1)"
      ],
      "metadata": {
        "colab": {
          "base_uri": "https://localhost:8080/"
        },
        "id": "60Njb7cx5Wn6",
        "outputId": "12c2a13a-11c6-4035-ddb1-e49e497d029c"
      },
      "execution_count": null,
      "outputs": [
        {
          "output_type": "execute_result",
          "data": {
            "text/plain": [
              "True"
            ]
          },
          "metadata": {},
          "execution_count": 60
        }
      ]
    },
    {
      "cell_type": "code",
      "source": [
        "# a=\"ajay\"\n",
        "# int(a)   It will throw an error"
      ],
      "metadata": {
        "id": "crTekxYt5jB6"
      },
      "execution_count": null,
      "outputs": []
    },
    {
      "cell_type": "markdown",
      "source": [
        "Python is Case Sensetive"
      ],
      "metadata": {
        "id": "piQnE3xs6BkX"
      }
    },
    {
      "cell_type": "markdown",
      "source": [
        "Mutability and Immutability"
      ],
      "metadata": {
        "id": "1Op0zrMCEn0K"
      }
    },
    {
      "cell_type": "code",
      "source": [
        "b=\"Ajay\""
      ],
      "metadata": {
        "id": "XFQqiJ0R5rcW"
      },
      "execution_count": null,
      "outputs": []
    },
    {
      "cell_type": "code",
      "source": [
        "b[1]"
      ],
      "metadata": {
        "colab": {
          "base_uri": "https://localhost:8080/",
          "height": 35
        },
        "id": "fejrUCyzE6Mc",
        "outputId": "a9d69794-df45-4dc2-a6b0-e6b497a5f3f7"
      },
      "execution_count": null,
      "outputs": [
        {
          "output_type": "execute_result",
          "data": {
            "text/plain": [
              "'j'"
            ],
            "application/vnd.google.colaboratory.intrinsic+json": {
              "type": "string"
            }
          },
          "metadata": {},
          "execution_count": 65
        }
      ]
    },
    {
      "cell_type": "code",
      "source": [
        "#another type of data container\n",
        "list_container=[1,2,3,\"Ajay\",3+5j,True,\"a\"]"
      ],
      "metadata": {
        "id": "Df6_ahyFE75e"
      },
      "execution_count": null,
      "outputs": []
    },
    {
      "cell_type": "code",
      "source": [
        "type(list_container)"
      ],
      "metadata": {
        "colab": {
          "base_uri": "https://localhost:8080/"
        },
        "id": "3Zc9uBxdFEsh",
        "outputId": "280072d9-fc9e-473b-f65c-e225c6522044"
      },
      "execution_count": null,
      "outputs": [
        {
          "output_type": "execute_result",
          "data": {
            "text/plain": [
              "list"
            ]
          },
          "metadata": {},
          "execution_count": 68
        }
      ]
    },
    {
      "cell_type": "code",
      "source": [
        "list_container[3]"
      ],
      "metadata": {
        "colab": {
          "base_uri": "https://localhost:8080/",
          "height": 35
        },
        "id": "mcAKC7IKFUBO",
        "outputId": "9d734c76-02a8-4a6a-cb09-f57bb01c6adf"
      },
      "execution_count": null,
      "outputs": [
        {
          "output_type": "execute_result",
          "data": {
            "text/plain": [
              "'Ajay'"
            ],
            "application/vnd.google.colaboratory.intrinsic+json": {
              "type": "string"
            }
          },
          "metadata": {},
          "execution_count": 69
        }
      ]
    },
    {
      "cell_type": "code",
      "source": [
        "list_container[3]=\"Bijay\""
      ],
      "metadata": {
        "id": "Qo-HoOdnFZS7"
      },
      "execution_count": null,
      "outputs": []
    },
    {
      "cell_type": "code",
      "source": [
        "list_container"
      ],
      "metadata": {
        "colab": {
          "base_uri": "https://localhost:8080/"
        },
        "id": "BkJhavsiFi4Q",
        "outputId": "71cb768c-2e8a-4c9b-d728-21fa2ea18a75"
      },
      "execution_count": null,
      "outputs": [
        {
          "output_type": "execute_result",
          "data": {
            "text/plain": [
              "[1, 2, 3, 'Bijay', (3+5j), True, 'a']"
            ]
          },
          "metadata": {},
          "execution_count": 71
        }
      ]
    },
    {
      "cell_type": "code",
      "source": [
        "#objects/conatiner whose state or value can be changed after they are created are called mutable objects"
      ],
      "metadata": {
        "id": "Ywf6sjZGFkWh"
      },
      "execution_count": null,
      "outputs": []
    },
    {
      "cell_type": "code",
      "source": [
        "b=\"kunal\""
      ],
      "metadata": {
        "id": "4UYBJewSGDsT"
      },
      "execution_count": null,
      "outputs": []
    },
    {
      "cell_type": "code",
      "source": [
        "b[2]"
      ],
      "metadata": {
        "colab": {
          "base_uri": "https://localhost:8080/",
          "height": 35
        },
        "id": "ort8r_9iGTsv",
        "outputId": "4a0c4237-01e6-4a6d-bba0-6ec006d998e8"
      },
      "execution_count": null,
      "outputs": [
        {
          "output_type": "execute_result",
          "data": {
            "text/plain": [
              "'n'"
            ],
            "application/vnd.google.colaboratory.intrinsic+json": {
              "type": "string"
            }
          },
          "metadata": {},
          "execution_count": 73
        }
      ]
    },
    {
      "cell_type": "code",
      "source": [
        "# b[2]=\"j\""
      ],
      "metadata": {
        "id": "gEaoQGSiGU_8"
      },
      "execution_count": null,
      "outputs": []
    },
    {
      "cell_type": "code",
      "source": [
        "#objects/conatiner whose state or value cannot be changed after they are created are called immutable objects"
      ],
      "metadata": {
        "id": "EmhbyMN9GYly"
      },
      "execution_count": null,
      "outputs": []
    },
    {
      "cell_type": "markdown",
      "source": [
        "Python Operators"
      ],
      "metadata": {
        "id": "hZjeT7uJHk5f"
      }
    },
    {
      "cell_type": "markdown",
      "source": [
        "Arithmatic Operators"
      ],
      "metadata": {
        "id": "-Yc_zZ4VIt9c"
      }
    },
    {
      "cell_type": "code",
      "source": [
        "#add\n",
        "a=5\n",
        "b=2\n",
        "a+b"
      ],
      "metadata": {
        "colab": {
          "base_uri": "https://localhost:8080/"
        },
        "id": "k2zfeIeqHoiB",
        "outputId": "9d05d3bb-120a-4b5e-ea28-6b9b30f6bc95"
      },
      "execution_count": null,
      "outputs": [
        {
          "output_type": "execute_result",
          "data": {
            "text/plain": [
              "7"
            ]
          },
          "metadata": {},
          "execution_count": 79
        }
      ]
    },
    {
      "cell_type": "code",
      "source": [
        "#Sub\n",
        "a-b"
      ],
      "metadata": {
        "colab": {
          "base_uri": "https://localhost:8080/"
        },
        "id": "UVpR6GJzI2ap",
        "outputId": "97ac57ef-8c55-436b-d213-d51aa2cf1542"
      },
      "execution_count": null,
      "outputs": [
        {
          "output_type": "execute_result",
          "data": {
            "text/plain": [
              "3"
            ]
          },
          "metadata": {},
          "execution_count": 80
        }
      ]
    },
    {
      "cell_type": "code",
      "source": [
        "#multi\n",
        "a*b"
      ],
      "metadata": {
        "colab": {
          "base_uri": "https://localhost:8080/"
        },
        "id": "EXDUwuBQJG5q",
        "outputId": "4a0da716-7d5c-41f5-c9e6-385ea6297e97"
      },
      "execution_count": null,
      "outputs": [
        {
          "output_type": "execute_result",
          "data": {
            "text/plain": [
              "10"
            ]
          },
          "metadata": {},
          "execution_count": 81
        }
      ]
    },
    {
      "cell_type": "code",
      "source": [
        "#Div\n",
        "a/b"
      ],
      "metadata": {
        "colab": {
          "base_uri": "https://localhost:8080/"
        },
        "id": "wL9nW3MYJMCp",
        "outputId": "1d22e2ac-4ccd-4fcd-e2f9-84a2fcc940f7"
      },
      "execution_count": null,
      "outputs": [
        {
          "output_type": "execute_result",
          "data": {
            "text/plain": [
              "2.5"
            ]
          },
          "metadata": {},
          "execution_count": 82
        }
      ]
    },
    {
      "cell_type": "code",
      "source": [
        "#Modulus\n",
        "a%b"
      ],
      "metadata": {
        "colab": {
          "base_uri": "https://localhost:8080/"
        },
        "id": "TNgY5OkgJPrK",
        "outputId": "4f38e872-0519-417b-b508-ff9639107297"
      },
      "execution_count": null,
      "outputs": [
        {
          "output_type": "execute_result",
          "data": {
            "text/plain": [
              "1"
            ]
          },
          "metadata": {},
          "execution_count": 83
        }
      ]
    },
    {
      "cell_type": "code",
      "source": [
        "#Power / expotential\n",
        "a**b"
      ],
      "metadata": {
        "colab": {
          "base_uri": "https://localhost:8080/"
        },
        "id": "CkS-vUbhJTGg",
        "outputId": "b163d02a-dcf9-4251-910d-2729d5d6fc48"
      },
      "execution_count": null,
      "outputs": [
        {
          "output_type": "execute_result",
          "data": {
            "text/plain": [
              "25"
            ]
          },
          "metadata": {},
          "execution_count": 84
        }
      ]
    },
    {
      "cell_type": "code",
      "source": [
        "#floar operator >> nearest integer after div\n",
        "a//b"
      ],
      "metadata": {
        "colab": {
          "base_uri": "https://localhost:8080/"
        },
        "id": "KEXqFi2bKgeV",
        "outputId": "2b79fc15-3b8d-46ac-84fd-0b57df6b9cdf"
      },
      "execution_count": null,
      "outputs": [
        {
          "output_type": "execute_result",
          "data": {
            "text/plain": [
              "2"
            ]
          },
          "metadata": {},
          "execution_count": 86
        }
      ]
    },
    {
      "cell_type": "markdown",
      "source": [
        "Comparision Operator"
      ],
      "metadata": {
        "id": "b77bAXcyJ1wn"
      }
    },
    {
      "cell_type": "code",
      "source": [
        "# >> compare two values and return boolean value\n",
        "2==2"
      ],
      "metadata": {
        "colab": {
          "base_uri": "https://localhost:8080/"
        },
        "id": "s_EA_9SpJnkv",
        "outputId": "1270becb-9deb-4fff-c262-2591c5cd0505"
      },
      "execution_count": null,
      "outputs": [
        {
          "output_type": "execute_result",
          "data": {
            "text/plain": [
              "True"
            ]
          },
          "metadata": {},
          "execution_count": 85
        }
      ]
    },
    {
      "cell_type": "code",
      "source": [
        "2!=2"
      ],
      "metadata": {
        "colab": {
          "base_uri": "https://localhost:8080/"
        },
        "id": "E-N4G2k9KOj0",
        "outputId": "cfaaa61b-b95f-47ba-e863-b4c96396e63a"
      },
      "execution_count": null,
      "outputs": [
        {
          "output_type": "execute_result",
          "data": {
            "text/plain": [
              "False"
            ]
          },
          "metadata": {},
          "execution_count": 87
        }
      ]
    },
    {
      "cell_type": "code",
      "source": [
        "5!=2"
      ],
      "metadata": {
        "colab": {
          "base_uri": "https://localhost:8080/"
        },
        "id": "QS4XRx8RKzXl",
        "outputId": "75455324-88c3-4afb-be9f-e25ef8e45755"
      },
      "execution_count": null,
      "outputs": [
        {
          "output_type": "execute_result",
          "data": {
            "text/plain": [
              "True"
            ]
          },
          "metadata": {},
          "execution_count": 88
        }
      ]
    },
    {
      "cell_type": "code",
      "source": [
        "10>=2"
      ],
      "metadata": {
        "colab": {
          "base_uri": "https://localhost:8080/"
        },
        "id": "qH8MFTVkK4Xe",
        "outputId": "cbdf8265-824f-4a36-ef2c-a39b27f9cb8f"
      },
      "execution_count": null,
      "outputs": [
        {
          "output_type": "execute_result",
          "data": {
            "text/plain": [
              "True"
            ]
          },
          "metadata": {},
          "execution_count": 89
        }
      ]
    },
    {
      "cell_type": "code",
      "source": [
        "10<5"
      ],
      "metadata": {
        "colab": {
          "base_uri": "https://localhost:8080/"
        },
        "id": "9ekEZBFhK7a7",
        "outputId": "f6180808-399e-4ab2-ae06-e95e239aa8bd"
      },
      "execution_count": null,
      "outputs": [
        {
          "output_type": "execute_result",
          "data": {
            "text/plain": [
              "False"
            ]
          },
          "metadata": {},
          "execution_count": 91
        }
      ]
    },
    {
      "cell_type": "code",
      "source": [
        "10>=10"
      ],
      "metadata": {
        "colab": {
          "base_uri": "https://localhost:8080/"
        },
        "id": "oAsYzxETK9lt",
        "outputId": "1e684529-3469-4ccb-fded-c09dbf77cc73"
      },
      "execution_count": null,
      "outputs": [
        {
          "output_type": "execute_result",
          "data": {
            "text/plain": [
              "True"
            ]
          },
          "metadata": {},
          "execution_count": 92
        }
      ]
    },
    {
      "cell_type": "code",
      "source": [
        "10>=1"
      ],
      "metadata": {
        "colab": {
          "base_uri": "https://localhost:8080/"
        },
        "id": "Y_6rLH2-LEZV",
        "outputId": "62904c82-3d0c-47ff-c788-11d55ceee5b6"
      },
      "execution_count": null,
      "outputs": [
        {
          "output_type": "execute_result",
          "data": {
            "text/plain": [
              "True"
            ]
          },
          "metadata": {},
          "execution_count": 93
        }
      ]
    },
    {
      "cell_type": "code",
      "source": [
        "10<=10"
      ],
      "metadata": {
        "colab": {
          "base_uri": "https://localhost:8080/"
        },
        "id": "cZSORbFJLHFm",
        "outputId": "6a7c7208-c59c-4d80-b7b6-5eee1665e6d9"
      },
      "execution_count": null,
      "outputs": [
        {
          "output_type": "execute_result",
          "data": {
            "text/plain": [
              "True"
            ]
          },
          "metadata": {},
          "execution_count": 94
        }
      ]
    },
    {
      "cell_type": "code",
      "source": [
        "10<=12"
      ],
      "metadata": {
        "colab": {
          "base_uri": "https://localhost:8080/"
        },
        "id": "vtKK9Dn-LK-k",
        "outputId": "2279ad05-f044-447d-96b5-a073afe37e3e"
      },
      "execution_count": null,
      "outputs": [
        {
          "output_type": "execute_result",
          "data": {
            "text/plain": [
              "True"
            ]
          },
          "metadata": {},
          "execution_count": 95
        }
      ]
    },
    {
      "cell_type": "code",
      "source": [
        "10>=12"
      ],
      "metadata": {
        "colab": {
          "base_uri": "https://localhost:8080/"
        },
        "id": "19QofFM3LM_8",
        "outputId": "2a6f51ac-c627-44b3-ce05-ed57799adba1"
      },
      "execution_count": null,
      "outputs": [
        {
          "output_type": "execute_result",
          "data": {
            "text/plain": [
              "False"
            ]
          },
          "metadata": {},
          "execution_count": 96
        }
      ]
    },
    {
      "cell_type": "markdown",
      "source": [
        "Logical Operator (AND | OR | NOT)"
      ],
      "metadata": {
        "id": "ah1bOzkBLVcX"
      }
    },
    {
      "cell_type": "code",
      "source": [
        "True and True"
      ],
      "metadata": {
        "colab": {
          "base_uri": "https://localhost:8080/"
        },
        "id": "FL8xY5VQLQiD",
        "outputId": "d821c63b-bc83-4ef5-f8fe-02e2f635b026"
      },
      "execution_count": null,
      "outputs": [
        {
          "output_type": "execute_result",
          "data": {
            "text/plain": [
              "True"
            ]
          },
          "metadata": {},
          "execution_count": 97
        }
      ]
    },
    {
      "cell_type": "code",
      "source": [
        "True and False"
      ],
      "metadata": {
        "colab": {
          "base_uri": "https://localhost:8080/"
        },
        "id": "O2rUymw5OETj",
        "outputId": "8446ee1d-117c-4d9b-cf09-6878be1d390d"
      },
      "execution_count": null,
      "outputs": [
        {
          "output_type": "execute_result",
          "data": {
            "text/plain": [
              "False"
            ]
          },
          "metadata": {},
          "execution_count": 101
        }
      ]
    },
    {
      "cell_type": "code",
      "source": [
        "True or False"
      ],
      "metadata": {
        "colab": {
          "base_uri": "https://localhost:8080/"
        },
        "id": "yJJ3jIxDN6iy",
        "outputId": "78fe565a-3a65-4981-d784-b0f9523eb1ce"
      },
      "execution_count": null,
      "outputs": [
        {
          "output_type": "execute_result",
          "data": {
            "text/plain": [
              "True"
            ]
          },
          "metadata": {},
          "execution_count": 98
        }
      ]
    },
    {
      "cell_type": "code",
      "source": [
        "not True"
      ],
      "metadata": {
        "colab": {
          "base_uri": "https://localhost:8080/"
        },
        "id": "zQvBo_emN9WG",
        "outputId": "7fc2f8b9-5130-4a47-b1c2-7fa4263b0bc3"
      },
      "execution_count": null,
      "outputs": [
        {
          "output_type": "execute_result",
          "data": {
            "text/plain": [
              "False"
            ]
          },
          "metadata": {},
          "execution_count": 99
        }
      ]
    },
    {
      "cell_type": "code",
      "source": [
        "not False"
      ],
      "metadata": {
        "colab": {
          "base_uri": "https://localhost:8080/"
        },
        "id": "ccUU77rTN_zw",
        "outputId": "03dc539d-0110-48f1-a277-06a7d085998f"
      },
      "execution_count": null,
      "outputs": [
        {
          "output_type": "execute_result",
          "data": {
            "text/plain": [
              "True"
            ]
          },
          "metadata": {},
          "execution_count": 100
        }
      ]
    },
    {
      "cell_type": "markdown",
      "source": [
        "Assignment Operator"
      ],
      "metadata": {
        "id": "kBEfU_ZHOUIK"
      }
    },
    {
      "cell_type": "code",
      "source": [
        "a=10\n",
        "a=a+5"
      ],
      "metadata": {
        "id": "C_85LfbHOTta"
      },
      "execution_count": null,
      "outputs": []
    },
    {
      "cell_type": "code",
      "source": [
        "a+=5"
      ],
      "metadata": {
        "id": "Owsng6jaOTnm"
      },
      "execution_count": null,
      "outputs": []
    },
    {
      "cell_type": "code",
      "source": [
        "a"
      ],
      "metadata": {
        "colab": {
          "base_uri": "https://localhost:8080/"
        },
        "id": "-J_RhLRPOe0d",
        "outputId": "69dc4d8a-ecda-494f-d104-5f65015d6b55"
      },
      "execution_count": null,
      "outputs": [
        {
          "output_type": "execute_result",
          "data": {
            "text/plain": [
              "20"
            ]
          },
          "metadata": {},
          "execution_count": 120
        }
      ]
    },
    {
      "cell_type": "code",
      "source": [
        "a*=2"
      ],
      "metadata": {
        "id": "rCFereC-PKAF"
      },
      "execution_count": null,
      "outputs": []
    },
    {
      "cell_type": "code",
      "source": [
        "a"
      ],
      "metadata": {
        "colab": {
          "base_uri": "https://localhost:8080/"
        },
        "id": "WndMYRQ5Pksm",
        "outputId": "f4174404-64ea-47f8-ad8b-a6a661bc6bb2"
      },
      "execution_count": null,
      "outputs": [
        {
          "output_type": "execute_result",
          "data": {
            "text/plain": [
              "40"
            ]
          },
          "metadata": {},
          "execution_count": 122
        }
      ]
    },
    {
      "cell_type": "code",
      "source": [
        "a/=2"
      ],
      "metadata": {
        "id": "HbF8F4srPnYR"
      },
      "execution_count": null,
      "outputs": []
    },
    {
      "cell_type": "code",
      "source": [
        "a"
      ],
      "metadata": {
        "colab": {
          "base_uri": "https://localhost:8080/"
        },
        "id": "kbV0colMPrZj",
        "outputId": "4900da48-6ee5-430c-b55b-69bf424c8a58"
      },
      "execution_count": null,
      "outputs": [
        {
          "output_type": "execute_result",
          "data": {
            "text/plain": [
              "20.0"
            ]
          },
          "metadata": {},
          "execution_count": 124
        }
      ]
    },
    {
      "cell_type": "markdown",
      "source": [
        "Membership Operator"
      ],
      "metadata": {
        "id": "mNWfIg99RHOl"
      }
    },
    {
      "cell_type": "code",
      "source": [
        "a=\"PWSKILLS\"\n",
        "\"P\"in a"
      ],
      "metadata": {
        "colab": {
          "base_uri": "https://localhost:8080/"
        },
        "id": "mWMjAvx4PsDw",
        "outputId": "e947255b-4272-426e-f237-e0ef161c5fb6"
      },
      "execution_count": null,
      "outputs": [
        {
          "output_type": "execute_result",
          "data": {
            "text/plain": [
              "True"
            ]
          },
          "metadata": {},
          "execution_count": 128
        }
      ]
    },
    {
      "cell_type": "code",
      "source": [
        "\"am\" in \"i am a boy\""
      ],
      "metadata": {
        "colab": {
          "base_uri": "https://localhost:8080/"
        },
        "id": "0K6-kqGKRQt5",
        "outputId": "6d039f62-cee8-4fde-ffc3-b93d95067546"
      },
      "execution_count": null,
      "outputs": [
        {
          "output_type": "execute_result",
          "data": {
            "text/plain": [
              "True"
            ]
          },
          "metadata": {},
          "execution_count": 129
        }
      ]
    },
    {
      "cell_type": "code",
      "source": [
        "\"Data\" in \"we are done\""
      ],
      "metadata": {
        "colab": {
          "base_uri": "https://localhost:8080/"
        },
        "id": "ZIpr-TEgRan1",
        "outputId": "7b13535e-8c94-4aa8-b084-6a1618f3fe50"
      },
      "execution_count": null,
      "outputs": [
        {
          "output_type": "execute_result",
          "data": {
            "text/plain": [
              "False"
            ]
          },
          "metadata": {},
          "execution_count": 130
        }
      ]
    },
    {
      "cell_type": "code",
      "source": [
        "\"data\" in \"nice Data warhouse\" #Case sensitive"
      ],
      "metadata": {
        "colab": {
          "base_uri": "https://localhost:8080/"
        },
        "id": "bjdZPGVWRhE1",
        "outputId": "d1d68d32-2874-4366-8c35-5d0a45486fb4"
      },
      "execution_count": null,
      "outputs": [
        {
          "output_type": "execute_result",
          "data": {
            "text/plain": [
              "False"
            ]
          },
          "metadata": {},
          "execution_count": 131
        }
      ]
    },
    {
      "cell_type": "code",
      "source": [
        "\"Data\" not in \"we are done\""
      ],
      "metadata": {
        "colab": {
          "base_uri": "https://localhost:8080/"
        },
        "id": "2km0GIPgRqgW",
        "outputId": "c54d226c-86ad-4e21-8dcd-049b4211cf80"
      },
      "execution_count": null,
      "outputs": [
        {
          "output_type": "execute_result",
          "data": {
            "text/plain": [
              "True"
            ]
          },
          "metadata": {},
          "execution_count": 132
        }
      ]
    },
    {
      "cell_type": "code",
      "source": [
        "a=[\"data\",\"science\",\"python\"]"
      ],
      "metadata": {
        "id": "LjRwb_PkR4DV"
      },
      "execution_count": null,
      "outputs": []
    },
    {
      "cell_type": "code",
      "source": [
        "\"data\" in a"
      ],
      "metadata": {
        "colab": {
          "base_uri": "https://localhost:8080/"
        },
        "id": "HNUcg-mwSAdY",
        "outputId": "de294ce3-3ac8-417c-98d5-1f3eb54bcd61"
      },
      "execution_count": null,
      "outputs": [
        {
          "output_type": "execute_result",
          "data": {
            "text/plain": [
              "True"
            ]
          },
          "metadata": {},
          "execution_count": 134
        }
      ]
    },
    {
      "cell_type": "markdown",
      "source": [
        "Identity Operator"
      ],
      "metadata": {
        "id": "NJsSKiIFSGnE"
      }
    },
    {
      "cell_type": "code",
      "source": [
        "# >> Compare the memory location of two object\n",
        "a=2"
      ],
      "metadata": {
        "id": "OT6liM2qSDGC"
      },
      "execution_count": null,
      "outputs": []
    },
    {
      "cell_type": "code",
      "source": [
        "b=3"
      ],
      "metadata": {
        "id": "ALhUSaAzTZd4"
      },
      "execution_count": null,
      "outputs": []
    },
    {
      "cell_type": "code",
      "source": [
        "a is b"
      ],
      "metadata": {
        "colab": {
          "base_uri": "https://localhost:8080/"
        },
        "id": "dDxhYSsTTavX",
        "outputId": "48094b2b-306c-4936-da4f-79549854792a"
      },
      "execution_count": null,
      "outputs": [
        {
          "output_type": "execute_result",
          "data": {
            "text/plain": [
              "False"
            ]
          },
          "metadata": {},
          "execution_count": 137
        }
      ]
    },
    {
      "cell_type": "code",
      "source": [
        "a=\"kunal\"\n",
        "b=a"
      ],
      "metadata": {
        "id": "TnsmTCruTbv6"
      },
      "execution_count": null,
      "outputs": []
    },
    {
      "cell_type": "code",
      "source": [
        "a is b"
      ],
      "metadata": {
        "colab": {
          "base_uri": "https://localhost:8080/"
        },
        "id": "VDz4HXSGTeam",
        "outputId": "70b14ded-9a58-4b15-9b80-8d1e6b35c3b8"
      },
      "execution_count": null,
      "outputs": [
        {
          "output_type": "execute_result",
          "data": {
            "text/plain": [
              "True"
            ]
          },
          "metadata": {},
          "execution_count": 139
        }
      ]
    },
    {
      "cell_type": "code",
      "source": [
        "b is a"
      ],
      "metadata": {
        "colab": {
          "base_uri": "https://localhost:8080/"
        },
        "id": "zNwdF5U_Tflh",
        "outputId": "749a19c3-7b57-48f4-9fe0-744d623e2ce3"
      },
      "execution_count": null,
      "outputs": [
        {
          "output_type": "execute_result",
          "data": {
            "text/plain": [
              "True"
            ]
          },
          "metadata": {},
          "execution_count": 141
        }
      ]
    },
    {
      "cell_type": "code",
      "source": [
        "a=\"kunal\"\n",
        "b=\"jadu\""
      ],
      "metadata": {
        "id": "kz5l8B7RTgp-"
      },
      "execution_count": null,
      "outputs": []
    },
    {
      "cell_type": "code",
      "source": [
        "a is not b"
      ],
      "metadata": {
        "colab": {
          "base_uri": "https://localhost:8080/"
        },
        "id": "3kMCBa24Tncz",
        "outputId": "1d374e12-318d-4f4d-907a-7d479bdca4d5"
      },
      "execution_count": null,
      "outputs": [
        {
          "output_type": "execute_result",
          "data": {
            "text/plain": [
              "True"
            ]
          },
          "metadata": {},
          "execution_count": 143
        }
      ]
    },
    {
      "cell_type": "code",
      "source": [
        "b is not a"
      ],
      "metadata": {
        "colab": {
          "base_uri": "https://localhost:8080/"
        },
        "id": "IEScBW7ZTpDI",
        "outputId": "c8adbb80-1962-4744-a8f9-9f8e38a24e07"
      },
      "execution_count": null,
      "outputs": [
        {
          "output_type": "execute_result",
          "data": {
            "text/plain": [
              "True"
            ]
          },
          "metadata": {},
          "execution_count": 144
        }
      ]
    },
    {
      "cell_type": "markdown",
      "source": [
        "Bitwise Operator"
      ],
      "metadata": {
        "id": "W_38D23TTwi6"
      }
    },
    {
      "cell_type": "code",
      "source": [
        "# >> perform operations at bit level (binary level)"
      ],
      "metadata": {
        "id": "uudtVreITqY6"
      },
      "execution_count": null,
      "outputs": []
    },
    {
      "cell_type": "code",
      "source": [
        "# Types : &-And, |-OR, ~-NOT, ^-XOR, <<-Shift Left, >>-Shift Right"
      ],
      "metadata": {
        "id": "BSuCD_lrv-c2"
      },
      "execution_count": null,
      "outputs": []
    },
    {
      "cell_type": "markdown",
      "source": [
        "AND"
      ],
      "metadata": {
        "id": "nLSuhgk4yRYQ"
      }
    },
    {
      "cell_type": "code",
      "source": [
        "10 & 10"
      ],
      "metadata": {
        "colab": {
          "base_uri": "https://localhost:8080/"
        },
        "id": "Ww2-WhDyxFpS",
        "outputId": "a10f1ab4-be0c-4939-8b84-cfff2d082ec2"
      },
      "execution_count": null,
      "outputs": [
        {
          "output_type": "execute_result",
          "data": {
            "text/plain": [
              "10"
            ]
          },
          "metadata": {},
          "execution_count": 1
        }
      ]
    },
    {
      "cell_type": "code",
      "source": [
        "18 & 3 #10010 & 00011 = 00010"
      ],
      "metadata": {
        "colab": {
          "base_uri": "https://localhost:8080/"
        },
        "id": "YenGLFabxjzr",
        "outputId": "4e382ffb-5972-4253-de15-d1515b0452bf"
      },
      "execution_count": null,
      "outputs": [
        {
          "output_type": "execute_result",
          "data": {
            "text/plain": [
              "2"
            ]
          },
          "metadata": {},
          "execution_count": 2
        }
      ]
    },
    {
      "cell_type": "code",
      "source": [
        "bin(18)"
      ],
      "metadata": {
        "colab": {
          "base_uri": "https://localhost:8080/",
          "height": 35
        },
        "id": "R4Tm_16fxnKm",
        "outputId": "1ec307c3-3b7f-478c-9be7-2dd85bfd3c15"
      },
      "execution_count": null,
      "outputs": [
        {
          "output_type": "execute_result",
          "data": {
            "text/plain": [
              "'0b10010'"
            ],
            "application/vnd.google.colaboratory.intrinsic+json": {
              "type": "string"
            }
          },
          "metadata": {},
          "execution_count": 3
        }
      ]
    },
    {
      "cell_type": "code",
      "source": [
        "bin(3)"
      ],
      "metadata": {
        "colab": {
          "base_uri": "https://localhost:8080/",
          "height": 35
        },
        "id": "907ZlkuJxpoX",
        "outputId": "e2c5ecde-4ab8-41f4-cbb1-b33894d9760a"
      },
      "execution_count": null,
      "outputs": [
        {
          "output_type": "execute_result",
          "data": {
            "text/plain": [
              "'0b11'"
            ],
            "application/vnd.google.colaboratory.intrinsic+json": {
              "type": "string"
            }
          },
          "metadata": {},
          "execution_count": 4
        }
      ]
    },
    {
      "cell_type": "markdown",
      "source": [
        "OR"
      ],
      "metadata": {
        "id": "jEUk9DnFyT06"
      }
    },
    {
      "cell_type": "code",
      "source": [
        "3 | 5"
      ],
      "metadata": {
        "colab": {
          "base_uri": "https://localhost:8080/"
        },
        "id": "4KyhJY1hxs1r",
        "outputId": "9a9f5120-5f7b-463e-fce0-ee93606079cf"
      },
      "execution_count": null,
      "outputs": [
        {
          "output_type": "execute_result",
          "data": {
            "text/plain": [
              "7"
            ]
          },
          "metadata": {},
          "execution_count": 5
        }
      ]
    },
    {
      "cell_type": "markdown",
      "source": [
        "Negation"
      ],
      "metadata": {
        "id": "npXLWz_QyWrS"
      }
    },
    {
      "cell_type": "code",
      "source": [
        "~3"
      ],
      "metadata": {
        "colab": {
          "base_uri": "https://localhost:8080/"
        },
        "id": "d2Jw581gyDZO",
        "outputId": "ff9a9c09-a931-4ef4-a4c7-519049d9f111"
      },
      "execution_count": null,
      "outputs": [
        {
          "output_type": "execute_result",
          "data": {
            "text/plain": [
              "-4"
            ]
          },
          "metadata": {},
          "execution_count": 6
        }
      ]
    },
    {
      "cell_type": "code",
      "source": [
        "~100"
      ],
      "metadata": {
        "colab": {
          "base_uri": "https://localhost:8080/"
        },
        "id": "7QHIT4hIyGQx",
        "outputId": "bb398a34-42b6-4f2c-ee2a-edcdfd9f1245"
      },
      "execution_count": null,
      "outputs": [
        {
          "output_type": "execute_result",
          "data": {
            "text/plain": [
              "-101"
            ]
          },
          "metadata": {},
          "execution_count": 7
        }
      ]
    },
    {
      "cell_type": "markdown",
      "source": [
        "XOR >>return 1 when exactly one operand is 1"
      ],
      "metadata": {
        "id": "Aa_3ClhOyZ0C"
      }
    },
    {
      "cell_type": "code",
      "source": [
        "5 ^ 3 #101^011 = 110 i.e, 1^0=1 only"
      ],
      "metadata": {
        "colab": {
          "base_uri": "https://localhost:8080/"
        },
        "id": "tUClKBDMyLZQ",
        "outputId": "1cc7bd9f-5992-4f02-aa71-b4676473a0a5"
      },
      "execution_count": null,
      "outputs": [
        {
          "output_type": "execute_result",
          "data": {
            "text/plain": [
              "6"
            ]
          },
          "metadata": {},
          "execution_count": 8
        }
      ]
    },
    {
      "cell_type": "markdown",
      "source": [
        "Left shift"
      ],
      "metadata": {
        "id": "qr0phOQ2zFb3"
      }
    },
    {
      "cell_type": "code",
      "source": [
        "35<<3 # 100011 << 011 =100011000 i.e, put three zeros at the end"
      ],
      "metadata": {
        "colab": {
          "base_uri": "https://localhost:8080/"
        },
        "id": "-p8_Ljvdyt3l",
        "outputId": "a822357b-4f89-4187-ddb5-4d7fd5f2a170"
      },
      "execution_count": null,
      "outputs": [
        {
          "output_type": "execute_result",
          "data": {
            "text/plain": [
              "280"
            ]
          },
          "metadata": {},
          "execution_count": 9
        }
      ]
    },
    {
      "cell_type": "code",
      "source": [
        "bin(35)"
      ],
      "metadata": {
        "colab": {
          "base_uri": "https://localhost:8080/",
          "height": 35
        },
        "id": "Dia0zBm1zM3h",
        "outputId": "209c1ef3-4756-46ab-f7e1-bed2c77541e8"
      },
      "execution_count": null,
      "outputs": [
        {
          "output_type": "execute_result",
          "data": {
            "text/plain": [
              "'0b100011'"
            ],
            "application/vnd.google.colaboratory.intrinsic+json": {
              "type": "string"
            }
          },
          "metadata": {},
          "execution_count": 10
        }
      ]
    },
    {
      "cell_type": "code",
      "source": [
        "bin(3)"
      ],
      "metadata": {
        "colab": {
          "base_uri": "https://localhost:8080/",
          "height": 35
        },
        "id": "BZJhmIvjzPJN",
        "outputId": "0f4f4944-58c9-4aef-89ec-0148a41ad51d"
      },
      "execution_count": null,
      "outputs": [
        {
          "output_type": "execute_result",
          "data": {
            "text/plain": [
              "'0b11'"
            ],
            "application/vnd.google.colaboratory.intrinsic+json": {
              "type": "string"
            }
          },
          "metadata": {},
          "execution_count": 11
        }
      ]
    },
    {
      "cell_type": "code",
      "source": [
        "bin(280)"
      ],
      "metadata": {
        "colab": {
          "base_uri": "https://localhost:8080/",
          "height": 35
        },
        "id": "G0NgWAXozQck",
        "outputId": "44566f85-3e12-41b9-92d9-2c2f27b9950b"
      },
      "execution_count": null,
      "outputs": [
        {
          "output_type": "execute_result",
          "data": {
            "text/plain": [
              "'0b100011000'"
            ],
            "application/vnd.google.colaboratory.intrinsic+json": {
              "type": "string"
            }
          },
          "metadata": {},
          "execution_count": 12
        }
      ]
    },
    {
      "cell_type": "code",
      "source": [
        "35<<4"
      ],
      "metadata": {
        "colab": {
          "base_uri": "https://localhost:8080/"
        },
        "id": "hMYdppVkzzJB",
        "outputId": "22b7e16b-99ad-4082-d4f9-71f2e38f9008"
      },
      "execution_count": null,
      "outputs": [
        {
          "output_type": "execute_result",
          "data": {
            "text/plain": [
              "560"
            ]
          },
          "metadata": {},
          "execution_count": 13
        }
      ]
    },
    {
      "cell_type": "code",
      "source": [
        "bin(560) #1000110000"
      ],
      "metadata": {
        "colab": {
          "base_uri": "https://localhost:8080/",
          "height": 35
        },
        "id": "nDnU9lQ7z1-x",
        "outputId": "e0a57bbd-529e-4789-f0ce-3177d4e68a71"
      },
      "execution_count": null,
      "outputs": [
        {
          "output_type": "execute_result",
          "data": {
            "text/plain": [
              "'0b1000110000'"
            ],
            "application/vnd.google.colaboratory.intrinsic+json": {
              "type": "string"
            }
          },
          "metadata": {},
          "execution_count": 14
        }
      ]
    },
    {
      "cell_type": "markdown",
      "source": [
        "Right shift"
      ],
      "metadata": {
        "id": "5ZR4LdrUz9_x"
      }
    },
    {
      "cell_type": "code",
      "source": [
        "280>>3 #100011000>>011= 100011 i.e, remove 3 digits from the last"
      ],
      "metadata": {
        "colab": {
          "base_uri": "https://localhost:8080/"
        },
        "id": "lqjTq3u1z41N",
        "outputId": "7c98ea5d-91e6-4080-cdec-6624bacb92e8"
      },
      "execution_count": null,
      "outputs": [
        {
          "output_type": "execute_result",
          "data": {
            "text/plain": [
              "35"
            ]
          },
          "metadata": {},
          "execution_count": 15
        }
      ]
    },
    {
      "cell_type": "code",
      "source": [
        "bin(35) #100011"
      ],
      "metadata": {
        "colab": {
          "base_uri": "https://localhost:8080/",
          "height": 35
        },
        "id": "8ABXJPMT0DB1",
        "outputId": "2fbcd981-b644-47d8-f3f8-dee0ed0ff741"
      },
      "execution_count": null,
      "outputs": [
        {
          "output_type": "execute_result",
          "data": {
            "text/plain": [
              "'0b100011'"
            ],
            "application/vnd.google.colaboratory.intrinsic+json": {
              "type": "string"
            }
          },
          "metadata": {},
          "execution_count": 16
        }
      ]
    },
    {
      "cell_type": "code",
      "source": [
        "#Order of precedance is followed in python\n",
        "3-5+4"
      ],
      "metadata": {
        "colab": {
          "base_uri": "https://localhost:8080/"
        },
        "id": "u0J1keum0UBH",
        "outputId": "5ffa9a3d-44eb-4683-826a-bffb4794f9c0"
      },
      "execution_count": null,
      "outputs": [
        {
          "output_type": "execute_result",
          "data": {
            "text/plain": [
              "2"
            ]
          },
          "metadata": {},
          "execution_count": 18
        }
      ]
    },
    {
      "cell_type": "code",
      "source": [
        "#So use parenthisis\n",
        "3-(5+4)"
      ],
      "metadata": {
        "colab": {
          "base_uri": "https://localhost:8080/"
        },
        "id": "X9a0Q1ji1zqa",
        "outputId": "c2870269-f9a6-49ae-8d05-cdf7416cebb0"
      },
      "execution_count": null,
      "outputs": [
        {
          "output_type": "execute_result",
          "data": {
            "text/plain": [
              "-6"
            ]
          },
          "metadata": {},
          "execution_count": 19
        }
      ]
    },
    {
      "cell_type": "markdown",
      "source": [
        "Type Casting"
      ],
      "metadata": {
        "id": "QBQRiRb9Dq0b"
      }
    },
    {
      "cell_type": "code",
      "source": [
        "#Type conversion >> the process of changing the data type of a value or object in python"
      ],
      "metadata": {
        "id": "jTSjFgPs1-j9"
      },
      "execution_count": null,
      "outputs": []
    },
    {
      "cell_type": "code",
      "source": [
        "a=\"5\"\n",
        "type(a)"
      ],
      "metadata": {
        "colab": {
          "base_uri": "https://localhost:8080/"
        },
        "id": "-7j7uoDwEACa",
        "outputId": "36c0d211-8851-4bed-afce-ff8648c07b74"
      },
      "execution_count": null,
      "outputs": [
        {
          "output_type": "execute_result",
          "data": {
            "text/plain": [
              "str"
            ]
          },
          "metadata": {},
          "execution_count": 1
        }
      ]
    },
    {
      "cell_type": "code",
      "source": [
        "#Type casting is of two type >> implicit and explicit"
      ],
      "metadata": {
        "id": "GLTOYHcWEHpN"
      },
      "execution_count": null,
      "outputs": []
    },
    {
      "cell_type": "markdown",
      "source": [
        "Implicit"
      ],
      "metadata": {
        "id": "NXFW3OX6FPMq"
      }
    },
    {
      "cell_type": "code",
      "source": [
        "x=2\n",
        "type(x)"
      ],
      "metadata": {
        "colab": {
          "base_uri": "https://localhost:8080/"
        },
        "id": "9OxfEubHEXcH",
        "outputId": "a4a68f68-45da-499d-fc1c-e3400eee7272"
      },
      "execution_count": null,
      "outputs": [
        {
          "output_type": "execute_result",
          "data": {
            "text/plain": [
              "int"
            ]
          },
          "metadata": {},
          "execution_count": 3
        }
      ]
    },
    {
      "cell_type": "code",
      "source": [
        "a=5  #automatically understands its int\n",
        "type(a)"
      ],
      "metadata": {
        "colab": {
          "base_uri": "https://localhost:8080/"
        },
        "id": "OKPgTbynF126",
        "outputId": "79ce6b35-bfc2-42e5-bd16-9b104693e166"
      },
      "execution_count": null,
      "outputs": [
        {
          "output_type": "execute_result",
          "data": {
            "text/plain": [
              "int"
            ]
          },
          "metadata": {},
          "execution_count": 8
        }
      ]
    },
    {
      "cell_type": "code",
      "source": [
        "a=\"5\" #automatically understands its string\n",
        "type(a)"
      ],
      "metadata": {
        "colab": {
          "base_uri": "https://localhost:8080/"
        },
        "id": "Em9W63IwEbJO",
        "outputId": "622d5386-83df-497e-e60c-1aa1318b2905"
      },
      "execution_count": null,
      "outputs": [
        {
          "output_type": "execute_result",
          "data": {
            "text/plain": [
              "str"
            ]
          },
          "metadata": {},
          "execution_count": 10
        }
      ]
    },
    {
      "cell_type": "code",
      "source": [
        "\"ram\" + \"shyam\" #this is concatination"
      ],
      "metadata": {
        "colab": {
          "base_uri": "https://localhost:8080/",
          "height": 35
        },
        "id": "vBGC8IzTFhTR",
        "outputId": "15688289-0dc5-446f-e6a6-a8e4f4bfbe2f"
      },
      "execution_count": null,
      "outputs": [
        {
          "output_type": "execute_result",
          "data": {
            "text/plain": [
              "'ramshyam'"
            ],
            "application/vnd.google.colaboratory.intrinsic+json": {
              "type": "string"
            }
          },
          "metadata": {},
          "execution_count": 6
        }
      ]
    },
    {
      "cell_type": "code",
      "source": [
        "a+\"ram\"  #automatically understands both are string implicity"
      ],
      "metadata": {
        "colab": {
          "base_uri": "https://localhost:8080/",
          "height": 35
        },
        "id": "NeoD6I7PFo89",
        "outputId": "96408ce1-e870-4a1e-a388-03faf2e20abe"
      },
      "execution_count": null,
      "outputs": [
        {
          "output_type": "execute_result",
          "data": {
            "text/plain": [
              "'5ram'"
            ],
            "application/vnd.google.colaboratory.intrinsic+json": {
              "type": "string"
            }
          },
          "metadata": {},
          "execution_count": 11
        }
      ]
    },
    {
      "cell_type": "markdown",
      "source": [
        "Explicit"
      ],
      "metadata": {
        "id": "kfIyeYszGQjW"
      }
    },
    {
      "cell_type": "code",
      "source": [
        "#converts data using inbuilt function\n",
        "#String\n",
        "#float\n",
        "#int\n",
        "#bool"
      ],
      "metadata": {
        "id": "Z4ovqx5eFyQV"
      },
      "execution_count": null,
      "outputs": []
    },
    {
      "cell_type": "code",
      "source": [
        "x=22.5\n",
        "y=int(22.5)"
      ],
      "metadata": {
        "id": "Jrw3IvzFGg7s"
      },
      "execution_count": null,
      "outputs": []
    },
    {
      "cell_type": "code",
      "source": [
        "type(y)"
      ],
      "metadata": {
        "colab": {
          "base_uri": "https://localhost:8080/"
        },
        "id": "GmEUz7KmGmjL",
        "outputId": "4fe58a83-d27f-4d35-8926-9a38be40ad63"
      },
      "execution_count": null,
      "outputs": [
        {
          "output_type": "execute_result",
          "data": {
            "text/plain": [
              "int"
            ]
          },
          "metadata": {},
          "execution_count": 20
        }
      ]
    },
    {
      "cell_type": "code",
      "source": [
        "y"
      ],
      "metadata": {
        "colab": {
          "base_uri": "https://localhost:8080/"
        },
        "id": "HNVWi62xHGlC",
        "outputId": "72b31430-4a3e-455a-e59f-ef34cbdadf4c"
      },
      "execution_count": null,
      "outputs": [
        {
          "output_type": "execute_result",
          "data": {
            "text/plain": [
              "22"
            ]
          },
          "metadata": {},
          "execution_count": 21
        }
      ]
    },
    {
      "cell_type": "code",
      "source": [
        "s=\"33\"\n",
        "int(s)"
      ],
      "metadata": {
        "colab": {
          "base_uri": "https://localhost:8080/"
        },
        "id": "mA20VX44HISC",
        "outputId": "0389ef29-d0ea-45e4-ba2b-29d7690151ed"
      },
      "execution_count": null,
      "outputs": [
        {
          "output_type": "execute_result",
          "data": {
            "text/plain": [
              "33"
            ]
          },
          "metadata": {},
          "execution_count": 22
        }
      ]
    },
    {
      "cell_type": "code",
      "source": [
        "a=int(s)\n",
        "type(a)"
      ],
      "metadata": {
        "colab": {
          "base_uri": "https://localhost:8080/"
        },
        "id": "j4m3G2FGHWvV",
        "outputId": "4c201046-a6f0-4594-c0f8-758f888aa1a2"
      },
      "execution_count": null,
      "outputs": [
        {
          "output_type": "execute_result",
          "data": {
            "text/plain": [
              "int"
            ]
          },
          "metadata": {},
          "execution_count": 26
        }
      ]
    },
    {
      "cell_type": "code",
      "source": [
        "b=\"33.50\"\n",
        "a=float(b)\n",
        "a"
      ],
      "metadata": {
        "colab": {
          "base_uri": "https://localhost:8080/"
        },
        "id": "CiFHLAtCHZ6z",
        "outputId": "e36ff481-df22-44b1-f156-2a323d3680eb"
      },
      "execution_count": null,
      "outputs": [
        {
          "output_type": "execute_result",
          "data": {
            "text/plain": [
              "33.5"
            ]
          },
          "metadata": {},
          "execution_count": 27
        }
      ]
    },
    {
      "cell_type": "code",
      "source": [
        "# a=\"ram\"\n",
        "# float(a) >> cannot be done\n",
        "# int(a) >> cannot be done"
      ],
      "metadata": {
        "id": "Pws-3afHHvD2"
      },
      "execution_count": null,
      "outputs": []
    },
    {
      "cell_type": "markdown",
      "source": [
        "Conditional Statements"
      ],
      "metadata": {
        "id": "d61EEGnweS17"
      }
    },
    {
      "cell_type": "code",
      "source": [
        "# #if\n",
        "# if-else\n",
        "# if-elif-else\n",
        "# nested if-else"
      ],
      "metadata": {
        "id": "OxyqyKN7eW8a"
      },
      "execution_count": null,
      "outputs": []
    },
    {
      "cell_type": "code",
      "source": [
        "2>100"
      ],
      "metadata": {
        "colab": {
          "base_uri": "https://localhost:8080/"
        },
        "id": "PS6YDNtmfGeb",
        "outputId": "63fdab21-0118-4871-f62c-b6826207150e"
      },
      "execution_count": null,
      "outputs": [
        {
          "output_type": "execute_result",
          "data": {
            "text/plain": [
              "False"
            ]
          },
          "metadata": {},
          "execution_count": 29
        }
      ]
    },
    {
      "cell_type": "code",
      "source": [
        "a=200\n",
        "if a>100:  #to execute the if block condition should be true\n",
        "  print(\"greater than 100\")"
      ],
      "metadata": {
        "colab": {
          "base_uri": "https://localhost:8080/"
        },
        "id": "TLD1xfhNeo8s",
        "outputId": "690a5b67-d769-43a1-8d82-3d5de1651236"
      },
      "execution_count": null,
      "outputs": [
        {
          "output_type": "stream",
          "name": "stdout",
          "text": [
            "greater than 100\n"
          ]
        }
      ]
    },
    {
      "cell_type": "code",
      "source": [
        "weather= \"rainy\"\n",
        "if weather==\"rainy\":\n",
        "  print(\"take umbrella\")"
      ],
      "metadata": {
        "colab": {
          "base_uri": "https://localhost:8080/"
        },
        "id": "J9HMNWcTfALV",
        "outputId": "561d2e25-14cd-4ab2-c8aa-9cd5d5503235"
      },
      "execution_count": null,
      "outputs": [
        {
          "output_type": "stream",
          "name": "stdout",
          "text": [
            "take umbrella\n"
          ]
        }
      ]
    },
    {
      "cell_type": "code",
      "source": [
        "is_ds_course=True\n",
        "if is_ds_course:\n",
        "  print(\"I amd studying data science\")"
      ],
      "metadata": {
        "id": "Z1gudPBkfXbR"
      },
      "execution_count": null,
      "outputs": []
    },
    {
      "cell_type": "code",
      "source": [
        "is_ds_course=False\n",
        "if is_ds_course:\n",
        "  print(\"I am studying data science\")\n",
        "else:\n",
        "  print(\"I am not studying data science\")"
      ],
      "metadata": {
        "colab": {
          "base_uri": "https://localhost:8080/"
        },
        "id": "beoX_ZuGf0DY",
        "outputId": "a70ce9ed-f401-4557-d20b-cf591c4b1e50"
      },
      "execution_count": null,
      "outputs": [
        {
          "output_type": "stream",
          "name": "stdout",
          "text": [
            "I am not studying data science\n"
          ]
        }
      ]
    },
    {
      "cell_type": "code",
      "source": [
        "x=1\n",
        "if x>5:\n",
        "  print(\"x is greater than 5\")\n",
        "else:\n",
        "  print(\"x is less than 5\")"
      ],
      "metadata": {
        "colab": {
          "base_uri": "https://localhost:8080/"
        },
        "id": "rOh1e5VQf52c",
        "outputId": "99a37186-4eaa-426c-9b72-96d83b32da1b"
      },
      "execution_count": null,
      "outputs": [
        {
          "output_type": "stream",
          "name": "stdout",
          "text": [
            "x is less than 5\n"
          ]
        }
      ]
    },
    {
      "cell_type": "code",
      "source": [
        "age=int(input())\n",
        "if age>=21:\n",
        "  print(\"Allowed to drink\")\n",
        "else:\n",
        "  print(\"Not allowed to drink\")"
      ],
      "metadata": {
        "colab": {
          "base_uri": "https://localhost:8080/"
        },
        "id": "wk9-BxVygZaX",
        "outputId": "7a683cf5-5bcc-4354-a1e4-8ecb23e1d334"
      },
      "execution_count": null,
      "outputs": [
        {
          "output_type": "stream",
          "name": "stdout",
          "text": [
            "20\n",
            "Not allowed to drink\n"
          ]
        }
      ]
    },
    {
      "cell_type": "code",
      "source": [
        "n=int(input())\n",
        "if n%2==0:\n",
        "  print(\"even\")\n",
        "else:\n",
        "  print(\"odd\")"
      ],
      "metadata": {
        "colab": {
          "base_uri": "https://localhost:8080/"
        },
        "id": "qOyM12F3gqf3",
        "outputId": "ba6169a0-db88-40b3-d844-dab1e35a2596"
      },
      "execution_count": null,
      "outputs": [
        {
          "output_type": "stream",
          "name": "stdout",
          "text": [
            "5\n",
            "odd\n"
          ]
        }
      ]
    },
    {
      "cell_type": "code",
      "source": [
        "#if-elif-else\n",
        "\n",
        "a=int(input())\n",
        "if a>100:\n",
        "  print(\"a is greater than 100\")\n",
        "elif 100>a>50:\n",
        "  print(\"a is greater than 50\")\n",
        "else:\n",
        "  print(\"a is greater than 10\")"
      ],
      "metadata": {
        "colab": {
          "base_uri": "https://localhost:8080/"
        },
        "id": "JLTSia4NhN_y",
        "outputId": "44b53d36-7d54-4592-ba9f-5ded5b06ad76"
      },
      "execution_count": null,
      "outputs": [
        {
          "output_type": "stream",
          "name": "stdout",
          "text": [
            "29\n",
            "a is greater than 10\n"
          ]
        }
      ]
    },
    {
      "cell_type": "code",
      "source": [
        "#nested if else condition\n",
        "x=10\n",
        "y=5\n",
        "if x>5:\n",
        "  if y>5:\n",
        "    print(\"both x and y is greater than 5\")\n",
        "  else:\n",
        "    print(\"x is greater than 5 but y is not\")\n",
        "else:\n",
        "  print(\"x is not greater than 5\")\n"
      ],
      "metadata": {
        "colab": {
          "base_uri": "https://localhost:8080/"
        },
        "id": "kyPU9SdahwCD",
        "outputId": "400c174c-2fc6-4460-a131-ebfc6aa7414d"
      },
      "execution_count": null,
      "outputs": [
        {
          "output_type": "stream",
          "name": "stdout",
          "text": [
            "x is greater than 5 but y is not\n"
          ]
        }
      ]
    },
    {
      "cell_type": "code",
      "source": [
        "is_vip=True\n",
        "age=70\n",
        "if is_vip:\n",
        "  if age>=18:\n",
        "     if age<65:\n",
        "        print(\"welcome vip customer\")\n",
        "     else:\n",
        "        print(\"You are vip but also qualified for senior citizen discount\")\n",
        "  else:\n",
        "    print(\"VIP statuse only for adult\")\n",
        "else:\n",
        "  print(\"Not VIP\")\n",
        "\n"
      ],
      "metadata": {
        "colab": {
          "base_uri": "https://localhost:8080/"
        },
        "id": "52IXIJIIjm_g",
        "outputId": "fafe0bd1-0b27-44a2-f302-79646cf431a2"
      },
      "execution_count": null,
      "outputs": [
        {
          "output_type": "stream",
          "name": "stdout",
          "text": [
            "You are vip but also qualified for senior citizen discount\n"
          ]
        }
      ]
    },
    {
      "cell_type": "code",
      "source": [
        "name=input()\n",
        "email=input()\n",
        "password=input()\n",
        "\n",
        "if name==\"\":\n",
        "  print(\"name cannot be empty\")\n",
        "else:\n",
        "   if \"@\" not in email:\n",
        "        print(\"invalid email\")\n",
        "   else:\n",
        "        if len(password)<0:\n",
        "          print(\"invalid password\")\n",
        "        else:\n",
        "          print(\"registration successfull\")"
      ],
      "metadata": {
        "colab": {
          "base_uri": "https://localhost:8080/"
        },
        "id": "8Lq_5l95lK7X",
        "outputId": "b574e986-32a3-4239-c661-2f0413882907"
      },
      "execution_count": null,
      "outputs": [
        {
          "output_type": "stream",
          "name": "stdout",
          "text": [
            "kunal\n",
            "kunal@\n",
            "kunal12\n",
            "registration successfull\n"
          ]
        }
      ]
    },
    {
      "cell_type": "markdown",
      "source": [
        "LOOPS"
      ],
      "metadata": {
        "id": "jDb9bLN9qrZL"
      }
    },
    {
      "cell_type": "code",
      "source": [
        "# >> allows to repeatedly execute a block of code"
      ],
      "metadata": {
        "id": "9xU223GPnRbF"
      },
      "execution_count": null,
      "outputs": []
    },
    {
      "cell_type": "code",
      "source": [
        "#while loop\n",
        "n=7\n",
        "i=1\n",
        "while i<n:\n",
        "  print(i)\n",
        "  i=i+1"
      ],
      "metadata": {
        "colab": {
          "base_uri": "https://localhost:8080/"
        },
        "id": "0-FM3gUqrSRi",
        "outputId": "e74dea45-8967-41f3-ad99-a020ef9b2d49"
      },
      "execution_count": null,
      "outputs": [
        {
          "output_type": "stream",
          "name": "stdout",
          "text": [
            "1\n",
            "2\n",
            "3\n",
            "4\n",
            "5\n",
            "6\n"
          ]
        }
      ]
    },
    {
      "cell_type": "code",
      "source": [
        "c=5\n",
        "while c>0:\n",
        "  print(c)\n",
        "  c=c-1\n"
      ],
      "metadata": {
        "colab": {
          "base_uri": "https://localhost:8080/"
        },
        "id": "6BVJ95ffrgPl",
        "outputId": "f2864b06-8b32-42f4-c231-cc5716d562bc"
      },
      "execution_count": null,
      "outputs": [
        {
          "output_type": "stream",
          "name": "stdout",
          "text": [
            "5\n",
            "4\n",
            "3\n",
            "2\n",
            "1\n"
          ]
        }
      ]
    },
    {
      "cell_type": "markdown",
      "source": [
        "Break"
      ],
      "metadata": {
        "id": "t0BqF0eAwM6-"
      }
    },
    {
      "cell_type": "code",
      "source": [
        "n=int(input(\"Enter the code limit\"))\n",
        "i=int(input(\"enter the code digit\"))\n",
        "c=0\n",
        "while n>0:\n",
        "  print(\"Numbers:\"+ str(n))\n",
        "  c=c+1\n",
        "  print(\"Steps:\"+str(c))\n",
        "  if n==i:\n",
        "    print(n)\n",
        "    break\n",
        "  n=n-1\n",
        "\n",
        "\n"
      ],
      "metadata": {
        "colab": {
          "base_uri": "https://localhost:8080/"
        },
        "id": "jQnj_gh8suoU",
        "outputId": "b884c6f3-03b5-4b85-a358-45b7a1ebd30b"
      },
      "execution_count": null,
      "outputs": [
        {
          "output_type": "stream",
          "name": "stdout",
          "text": [
            "Enter the code limit9\n",
            "enter the code digit7\n",
            "Numbers:9\n",
            "Steps:1\n",
            "Numbers:8\n",
            "Steps:2\n",
            "Numbers:7\n",
            "Steps:3\n",
            "7\n"
          ]
        }
      ]
    },
    {
      "cell_type": "markdown",
      "source": [
        "Continue"
      ],
      "metadata": {
        "id": "g0wUZmfjwPwE"
      }
    },
    {
      "cell_type": "code",
      "source": [
        "n=int(input(\"Enter the code limit\"))\n",
        "i=int(input(\"enter the code digit\"))\n",
        "while n>0:\n",
        "  if n>=i:\n",
        "     n=n-1\n",
        "     continue\n",
        "  else:\n",
        "    print(n)\n",
        "    break\n",
        "\n",
        "\n",
        "\n"
      ],
      "metadata": {
        "colab": {
          "base_uri": "https://localhost:8080/"
        },
        "id": "s6_JW9I0vRZn",
        "outputId": "9476bd6f-5c05-4eb4-98fe-0a0cb00df9ae"
      },
      "execution_count": null,
      "outputs": [
        {
          "output_type": "stream",
          "name": "stdout",
          "text": [
            "Enter the code limit8\n",
            "enter the code digit5\n",
            "4\n"
          ]
        }
      ]
    },
    {
      "cell_type": "markdown",
      "source": [
        "For loop"
      ],
      "metadata": {
        "id": "yrLARzgb1o4U"
      }
    },
    {
      "cell_type": "code",
      "source": [
        "for char in \"kunal\":   # in place of char it can be anything like \"a\"\n",
        "   print (char)"
      ],
      "metadata": {
        "colab": {
          "base_uri": "https://localhost:8080/"
        },
        "id": "jrDSlRRnwjCj",
        "outputId": "9b3a0354-bb2c-4087-d650-0fa031965a74"
      },
      "execution_count": null,
      "outputs": [
        {
          "output_type": "stream",
          "name": "stdout",
          "text": [
            "k\n",
            "u\n",
            "n\n",
            "a\n",
            "l\n"
          ]
        }
      ]
    },
    {
      "cell_type": "code",
      "source": [
        "l=[1,2,\"ajay\",\"kunal\"]\n",
        "for a in l:\n",
        "  print (a)"
      ],
      "metadata": {
        "colab": {
          "base_uri": "https://localhost:8080/"
        },
        "id": "Js39IIk717pb",
        "outputId": "5f7e732b-9d60-4f75-d851-b877de497c7c"
      },
      "execution_count": null,
      "outputs": [
        {
          "output_type": "stream",
          "name": "stdout",
          "text": [
            "1\n",
            "2\n",
            "ajay\n",
            "kunal\n"
          ]
        }
      ]
    },
    {
      "cell_type": "code",
      "source": [
        "l=[1,2,\"ajay\",\"kunal\",\"tulika\"]\n",
        "for a in l:\n",
        "  if(a==\"kunal\"):\n",
        "    break\n",
        "  else:\n",
        "    print(a)"
      ],
      "metadata": {
        "colab": {
          "base_uri": "https://localhost:8080/"
        },
        "id": "hndB-hMh3EaF",
        "outputId": "bede5933-a32b-430a-b7d1-03f6a88dc426"
      },
      "execution_count": null,
      "outputs": [
        {
          "output_type": "stream",
          "name": "stdout",
          "text": [
            "1\n",
            "2\n",
            "ajay\n"
          ]
        }
      ]
    },
    {
      "cell_type": "code",
      "source": [
        "l=[1,2,\"ajay\",\"kunal\",\"tulika\"]\n",
        "for a in l:\n",
        "  if(a==\"ajay\"):\n",
        "    continue\n",
        "  else:\n",
        "    print(a)"
      ],
      "metadata": {
        "colab": {
          "base_uri": "https://localhost:8080/"
        },
        "id": "GAoIdg5Y3bL2",
        "outputId": "082b2a6e-a38b-455a-f928-4d8ca3144f6c"
      },
      "execution_count": null,
      "outputs": [
        {
          "output_type": "stream",
          "name": "stdout",
          "text": [
            "1\n",
            "2\n",
            "kunal\n",
            "tulika\n"
          ]
        }
      ]
    },
    {
      "cell_type": "code",
      "source": [
        "list(range(2,10))"
      ],
      "metadata": {
        "colab": {
          "base_uri": "https://localhost:8080/"
        },
        "id": "UPootSaR3mrT",
        "outputId": "d5af9f87-bdc0-4520-c7d2-7216fc47b8b3"
      },
      "execution_count": null,
      "outputs": [
        {
          "output_type": "execute_result",
          "data": {
            "text/plain": [
              "[2, 3, 4, 5, 6, 7, 8, 9]"
            ]
          },
          "metadata": {},
          "execution_count": 29
        }
      ]
    },
    {
      "cell_type": "code",
      "source": [
        "for i in range(2,15):\n",
        "  print(i)"
      ],
      "metadata": {
        "colab": {
          "base_uri": "https://localhost:8080/"
        },
        "id": "a3Fp7Q27346u",
        "outputId": "b1bab8cc-4e88-4e67-8040-41b669e7937d"
      },
      "execution_count": null,
      "outputs": [
        {
          "output_type": "stream",
          "name": "stdout",
          "text": [
            "2\n",
            "3\n",
            "4\n",
            "5\n",
            "6\n",
            "7\n",
            "8\n",
            "9\n",
            "10\n",
            "11\n",
            "12\n",
            "13\n",
            "14\n"
          ]
        }
      ]
    },
    {
      "cell_type": "code",
      "source": [
        "#Syntax of range: range(start,stop,step)"
      ],
      "metadata": {
        "id": "Becbb6rJ4Gk2"
      },
      "execution_count": null,
      "outputs": []
    },
    {
      "cell_type": "code",
      "source": [
        "list(range(1,10,2))"
      ],
      "metadata": {
        "colab": {
          "base_uri": "https://localhost:8080/"
        },
        "id": "X9dXrFrj4Uzz",
        "outputId": "cf49bf62-3a9c-4536-be3d-ace47c6cf46b"
      },
      "execution_count": null,
      "outputs": [
        {
          "output_type": "execute_result",
          "data": {
            "text/plain": [
              "[1, 3, 5, 7, 9]"
            ]
          },
          "metadata": {},
          "execution_count": 33
        }
      ]
    },
    {
      "cell_type": "code",
      "source": [
        "#Print a right triangle\n",
        "row=1\n",
        "while row<=4:\n",
        "  col=1\n",
        "  while col<=row:\n",
        "    print(\"*\",end=\" \")\n",
        "    col=col+1\n",
        "  print()\n",
        "  row=row+1\n",
        "\n",
        "\n"
      ],
      "metadata": {
        "colab": {
          "base_uri": "https://localhost:8080/"
        },
        "id": "6vGxuWdc4bVB",
        "outputId": "5f3b7aa9-c7ba-4f2e-a261-2dd869075cc7"
      },
      "execution_count": null,
      "outputs": [
        {
          "output_type": "stream",
          "name": "stdout",
          "text": [
            "* \n",
            "* * \n",
            "* * * \n",
            "* * * * \n"
          ]
        }
      ]
    },
    {
      "cell_type": "code",
      "source": [
        "course=[\"data sc\",\"ml\",\"stats\"]\n",
        "index=0\n",
        "while index<len(course):\n",
        "  print(course[index])\n",
        "  index=index+1"
      ],
      "metadata": {
        "colab": {
          "base_uri": "https://localhost:8080/"
        },
        "id": "f5JE6CIS56hN",
        "outputId": "c394dfb4-3880-4ffe-e15a-6f7b598d59d8"
      },
      "execution_count": null,
      "outputs": [
        {
          "output_type": "stream",
          "name": "stdout",
          "text": [
            "data sc\n",
            "ml\n",
            "stats\n"
          ]
        }
      ]
    },
    {
      "cell_type": "code",
      "source": [
        "#Print a right triangle\n",
        "for i in range(4):\n",
        "  for j in range(i+1):\n",
        "    print(\"*\",end=\"\")\n",
        "  print()"
      ],
      "metadata": {
        "colab": {
          "base_uri": "https://localhost:8080/"
        },
        "id": "R3JrkcqK-2Pv",
        "outputId": "826893e2-8419-473c-85eb-d9027a2a69fc"
      },
      "execution_count": null,
      "outputs": [
        {
          "output_type": "stream",
          "name": "stdout",
          "text": [
            "*\n",
            "**\n",
            "***\n",
            "****\n"
          ]
        }
      ]
    },
    {
      "cell_type": "code",
      "source": [
        "\n"
      ],
      "metadata": {
        "id": "a056yzr4_Ya1"
      },
      "execution_count": null,
      "outputs": []
    }
  ]
}