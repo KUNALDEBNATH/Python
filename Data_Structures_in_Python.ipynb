{
  "nbformat": 4,
  "nbformat_minor": 0,
  "metadata": {
    "colab": {
      "provenance": [],
      "authorship_tag": "ABX9TyMt0Br3uVcgTKTSS+7Cdy8y",
      "include_colab_link": true
    },
    "kernelspec": {
      "name": "python3",
      "display_name": "Python 3"
    },
    "language_info": {
      "name": "python"
    }
  },
  "cells": [
    {
      "cell_type": "markdown",
      "metadata": {
        "id": "view-in-github",
        "colab_type": "text"
      },
      "source": [
        "<a href=\"https://colab.research.google.com/github/KUNALDEBNATH/Python/blob/main/Data_Structures_in_Python.ipynb\" target=\"_parent\"><img src=\"https://colab.research.google.com/assets/colab-badge.svg\" alt=\"Open In Colab\"/></a>"
      ]
    },
    {
      "cell_type": "code",
      "execution_count": null,
      "metadata": {
        "id": "9qUXS1ymCO2L"
      },
      "outputs": [],
      "source": [
        "#Data structure >> way of organizing and storing data so that it can be accessed and manipulated efficiently"
      ]
    },
    {
      "cell_type": "code",
      "source": [
        "# 1) List>> It is an ordered collection of elements that can be of any data type, integer , float\n",
        "#List are mutable"
      ],
      "metadata": {
        "id": "hItjchpBDdGZ"
      },
      "execution_count": null,
      "outputs": []
    },
    {
      "cell_type": "code",
      "source": [
        "num=[1,2,3,4,5]"
      ],
      "metadata": {
        "id": "MHZKrDSIEK5f"
      },
      "execution_count": null,
      "outputs": []
    },
    {
      "cell_type": "code",
      "source": [
        "type(num)"
      ],
      "metadata": {
        "colab": {
          "base_uri": "https://localhost:8080/"
        },
        "id": "GU88rCHdEUe0",
        "outputId": "16ae7712-24d7-49f0-db55-89ee3bc06d7e"
      },
      "execution_count": null,
      "outputs": [
        {
          "output_type": "execute_result",
          "data": {
            "text/plain": [
              "list"
            ]
          },
          "metadata": {},
          "execution_count": 4
        }
      ]
    },
    {
      "cell_type": "code",
      "source": [
        "num[2]"
      ],
      "metadata": {
        "colab": {
          "base_uri": "https://localhost:8080/"
        },
        "id": "LLcXfsIEEXNg",
        "outputId": "746fb847-0c37-4fa1-bbf6-08f5c23319b8"
      },
      "execution_count": null,
      "outputs": [
        {
          "output_type": "execute_result",
          "data": {
            "text/plain": [
              "3"
            ]
          },
          "metadata": {},
          "execution_count": 5
        }
      ]
    },
    {
      "cell_type": "code",
      "source": [
        "lis=[1,2,\"ajay\",\"kunal\",\"tulika\"]"
      ],
      "metadata": {
        "id": "HB90rk_NEYrq"
      },
      "execution_count": null,
      "outputs": []
    },
    {
      "cell_type": "code",
      "source": [
        "lis"
      ],
      "metadata": {
        "colab": {
          "base_uri": "https://localhost:8080/"
        },
        "id": "MycFmeOZEtf3",
        "outputId": "4455cfd9-2e99-460d-8626-58e6abaea2c4"
      },
      "execution_count": null,
      "outputs": [
        {
          "output_type": "execute_result",
          "data": {
            "text/plain": [
              "[1, 2, 'ajay', 'kunal', 'tulika']"
            ]
          },
          "metadata": {},
          "execution_count": 7
        }
      ]
    },
    {
      "cell_type": "code",
      "source": [
        "lis.append(\"nano\") #Append"
      ],
      "metadata": {
        "id": "hCnYSbzOEum4"
      },
      "execution_count": null,
      "outputs": []
    },
    {
      "cell_type": "code",
      "source": [
        "lis.remove(\"ajay\") #Remove"
      ],
      "metadata": {
        "id": "ReSoNgoAExkU"
      },
      "execution_count": null,
      "outputs": []
    },
    {
      "cell_type": "code",
      "source": [
        "lis"
      ],
      "metadata": {
        "colab": {
          "base_uri": "https://localhost:8080/"
        },
        "id": "IIACftZAE6tc",
        "outputId": "12b9a1d3-227d-49bb-8869-7e1e53b78c09"
      },
      "execution_count": null,
      "outputs": [
        {
          "output_type": "execute_result",
          "data": {
            "text/plain": [
              "[1, 2, 'kunal', 'tulika', 'nano']"
            ]
          },
          "metadata": {},
          "execution_count": 12
        }
      ]
    },
    {
      "cell_type": "code",
      "source": [
        "lis=[[1,2,3],[4,5,6],[7,8,9]] #List in list / nested list"
      ],
      "metadata": {
        "id": "ylU4sF0WFHCi"
      },
      "execution_count": null,
      "outputs": []
    },
    {
      "cell_type": "code",
      "source": [
        "lis"
      ],
      "metadata": {
        "colab": {
          "base_uri": "https://localhost:8080/"
        },
        "id": "c0hKkh2uFuAt",
        "outputId": "3ecee597-9a68-483c-d1d4-e6a341aad71c"
      },
      "execution_count": null,
      "outputs": [
        {
          "output_type": "execute_result",
          "data": {
            "text/plain": [
              "[[1, 2, 3], [4, 5, 6], [7, 8, 9]]"
            ]
          },
          "metadata": {},
          "execution_count": 14
        }
      ]
    },
    {
      "cell_type": "code",
      "source": [
        "lis[0][1]"
      ],
      "metadata": {
        "colab": {
          "base_uri": "https://localhost:8080/"
        },
        "id": "-Ex6jY09FwFc",
        "outputId": "e2c87b00-76f6-4cce-d47c-27c91651551a"
      },
      "execution_count": null,
      "outputs": [
        {
          "output_type": "execute_result",
          "data": {
            "text/plain": [
              "2"
            ]
          },
          "metadata": {},
          "execution_count": 17
        }
      ]
    },
    {
      "cell_type": "code",
      "source": [
        "l=[\"banana\",\"Apple\",3,4.2,True]"
      ],
      "metadata": {
        "id": "q3MCtM81FznC"
      },
      "execution_count": null,
      "outputs": []
    },
    {
      "cell_type": "code",
      "source": [
        "for i in l:\n",
        "  print(i,end=\" \")"
      ],
      "metadata": {
        "colab": {
          "base_uri": "https://localhost:8080/"
        },
        "id": "59rFPh6xGiOp",
        "outputId": "6d4a5ab9-03d2-4545-9601-d7eced6137c5"
      },
      "execution_count": null,
      "outputs": [
        {
          "output_type": "stream",
          "name": "stdout",
          "text": [
            "banana Apple 3 4.2 True "
          ]
        }
      ]
    },
    {
      "cell_type": "code",
      "source": [
        "# 2)Tuples >> immutable"
      ],
      "metadata": {
        "id": "JY2dEVIFGoEj"
      },
      "execution_count": null,
      "outputs": []
    },
    {
      "cell_type": "code",
      "source": [
        "point=(1,2,3)"
      ],
      "metadata": {
        "id": "wGttDu64Hjbv"
      },
      "execution_count": null,
      "outputs": []
    },
    {
      "cell_type": "code",
      "source": [
        "type(point)"
      ],
      "metadata": {
        "colab": {
          "base_uri": "https://localhost:8080/"
        },
        "id": "3T-kWVtuIVWm",
        "outputId": "506fddcd-f211-4f6b-aa8a-23e7d881de11"
      },
      "execution_count": null,
      "outputs": [
        {
          "output_type": "execute_result",
          "data": {
            "text/plain": [
              "tuple"
            ]
          },
          "metadata": {},
          "execution_count": 27
        }
      ]
    },
    {
      "cell_type": "code",
      "source": [
        "name=(\"ajay\",1,2,True)"
      ],
      "metadata": {
        "id": "RCyB44eYIY8F"
      },
      "execution_count": null,
      "outputs": []
    },
    {
      "cell_type": "code",
      "source": [
        "# name[2] #they are immtable"
      ],
      "metadata": {
        "id": "KkufhhGRI3b4"
      },
      "execution_count": null,
      "outputs": []
    },
    {
      "cell_type": "code",
      "source": [
        "b1=(\"a\",\"b\")\n",
        "b2=(\"c\",\"d\")\n",
        "choclate_bag=(b1,b2)"
      ],
      "metadata": {
        "id": "t88kJgBNJCyq"
      },
      "execution_count": null,
      "outputs": []
    },
    {
      "cell_type": "code",
      "source": [
        "choclate_bag"
      ],
      "metadata": {
        "colab": {
          "base_uri": "https://localhost:8080/"
        },
        "id": "F-FIcW2kJcaP",
        "outputId": "6bed6b50-d0fc-4cad-b8e4-362593d4c754"
      },
      "execution_count": null,
      "outputs": [
        {
          "output_type": "execute_result",
          "data": {
            "text/plain": [
              "(('a', 'b'), ('c', 'd'))"
            ]
          },
          "metadata": {},
          "execution_count": 33
        }
      ]
    },
    {
      "cell_type": "code",
      "source": [
        "for b in choclate_bag:\n",
        "  for i in b:\n",
        "    print(i)"
      ],
      "metadata": {
        "colab": {
          "base_uri": "https://localhost:8080/"
        },
        "id": "bOLBZNnxJfzq",
        "outputId": "0ba9e373-0ca3-41e5-ab56-4489eaf2be75"
      },
      "execution_count": null,
      "outputs": [
        {
          "output_type": "stream",
          "name": "stdout",
          "text": [
            "a\n",
            "b\n",
            "c\n",
            "d\n"
          ]
        }
      ]
    },
    {
      "cell_type": "code",
      "source": [
        "#3) Sets >> are unodered collection of unique elements # no concept of index"
      ],
      "metadata": {
        "id": "QdhL_p-gKDCZ"
      },
      "execution_count": null,
      "outputs": []
    },
    {
      "cell_type": "code",
      "source": [
        "s={\"red\",\"blue\"}"
      ],
      "metadata": {
        "id": "rhZyE8AuJoh1"
      },
      "execution_count": null,
      "outputs": []
    },
    {
      "cell_type": "code",
      "source": [
        "type(s)"
      ],
      "metadata": {
        "colab": {
          "base_uri": "https://localhost:8080/"
        },
        "id": "lPA7AnlaKRSS",
        "outputId": "2eeb23c7-0c7d-4715-de5f-b8da5290b44a"
      },
      "execution_count": null,
      "outputs": [
        {
          "output_type": "execute_result",
          "data": {
            "text/plain": [
              "set"
            ]
          },
          "metadata": {},
          "execution_count": 38
        }
      ]
    },
    {
      "cell_type": "code",
      "source": [
        "s={\"red\",\"blue\",\"blue\"}\n",
        "s"
      ],
      "metadata": {
        "colab": {
          "base_uri": "https://localhost:8080/"
        },
        "id": "R-vTabIbKS6z",
        "outputId": "8afc37f7-0ce3-419c-a365-e67bfc4da762"
      },
      "execution_count": null,
      "outputs": [
        {
          "output_type": "execute_result",
          "data": {
            "text/plain": [
              "{'blue', 'red'}"
            ]
          },
          "metadata": {},
          "execution_count": 58
        }
      ]
    },
    {
      "cell_type": "code",
      "source": [
        "s={\"a\",\"a\",\"a\",1.2,1.2}\n",
        "s"
      ],
      "metadata": {
        "colab": {
          "base_uri": "https://localhost:8080/"
        },
        "id": "D1yBXrtGKgMS",
        "outputId": "3251c870-69a5-4197-c2df-a0ba89d6cdd1"
      },
      "execution_count": null,
      "outputs": [
        {
          "output_type": "execute_result",
          "data": {
            "text/plain": [
              "{1.2, 'a'}"
            ]
          },
          "metadata": {},
          "execution_count": 59
        }
      ]
    },
    {
      "cell_type": "code",
      "source": [
        "# s[0] >> will show error"
      ],
      "metadata": {
        "id": "IDbLWJkkK_i-"
      },
      "execution_count": null,
      "outputs": []
    },
    {
      "cell_type": "code",
      "source": [
        "s.add(\"Kunal\") # to ADD"
      ],
      "metadata": {
        "id": "7tPQRxjrK_8S"
      },
      "execution_count": null,
      "outputs": []
    },
    {
      "cell_type": "code",
      "source": [
        "s"
      ],
      "metadata": {
        "colab": {
          "base_uri": "https://localhost:8080/"
        },
        "id": "BhFV0eLiLN9i",
        "outputId": "fe1dc309-1ba1-4d72-97aa-56b1416c0112"
      },
      "execution_count": null,
      "outputs": [
        {
          "output_type": "execute_result",
          "data": {
            "text/plain": [
              "{1.2, 'Kunal', 'a'}"
            ]
          },
          "metadata": {},
          "execution_count": 65
        }
      ]
    },
    {
      "cell_type": "code",
      "source": [
        "s.remove(1.2) #to remove"
      ],
      "metadata": {
        "id": "cepZNTRdLOTf"
      },
      "execution_count": null,
      "outputs": []
    },
    {
      "cell_type": "code",
      "source": [
        "s"
      ],
      "metadata": {
        "colab": {
          "base_uri": "https://localhost:8080/"
        },
        "id": "hdEGLaY-LacU",
        "outputId": "abf02f26-993c-489f-e889-d2563b37d148"
      },
      "execution_count": null,
      "outputs": [
        {
          "output_type": "execute_result",
          "data": {
            "text/plain": [
              "{'Kunal', 'a'}"
            ]
          },
          "metadata": {},
          "execution_count": 67
        }
      ]
    },
    {
      "cell_type": "code",
      "source": [
        "# 4) Dictionary >> data is stored in key value pair\n",
        "my_dict={}"
      ],
      "metadata": {
        "id": "-cq8uNfZLa1u"
      },
      "execution_count": null,
      "outputs": []
    },
    {
      "cell_type": "code",
      "source": [
        "type(my_dict)"
      ],
      "metadata": {
        "colab": {
          "base_uri": "https://localhost:8080/"
        },
        "id": "E5A3067AMg1-",
        "outputId": "260d3ec6-aab3-430a-9d02-325b042c30fa"
      },
      "execution_count": null,
      "outputs": [
        {
          "output_type": "execute_result",
          "data": {
            "text/plain": [
              "dict"
            ]
          },
          "metadata": {},
          "execution_count": 3
        }
      ]
    },
    {
      "cell_type": "code",
      "source": [
        "s={}\n",
        "type(s)"
      ],
      "metadata": {
        "colab": {
          "base_uri": "https://localhost:8080/"
        },
        "id": "8cCwg2BLsFR7",
        "outputId": "e94fdd03-9425-4d29-e09b-8cc87ef327bf"
      },
      "execution_count": null,
      "outputs": [
        {
          "output_type": "execute_result",
          "data": {
            "text/plain": [
              "dict"
            ]
          },
          "metadata": {},
          "execution_count": 4
        }
      ]
    },
    {
      "cell_type": "code",
      "source": [
        "my_dict={\"key_course\":\"data science\",\"duration\":2}"
      ],
      "metadata": {
        "id": "VE8vza2_sUWq"
      },
      "execution_count": null,
      "outputs": []
    },
    {
      "cell_type": "code",
      "source": [
        "type(my_dict)"
      ],
      "metadata": {
        "colab": {
          "base_uri": "https://localhost:8080/"
        },
        "id": "JrZKgobxsnSG",
        "outputId": "81e15ba6-cc6a-4a8c-8b54-4afdb60edce3"
      },
      "execution_count": null,
      "outputs": [
        {
          "output_type": "execute_result",
          "data": {
            "text/plain": [
              "dict"
            ]
          },
          "metadata": {},
          "execution_count": 6
        }
      ]
    },
    {
      "cell_type": "code",
      "source": [
        "phonebook={\"Dad\":1234,\"Mom\":569,\"Dad\":894}"
      ],
      "metadata": {
        "id": "7ZKg2aIgspeY"
      },
      "execution_count": null,
      "outputs": []
    },
    {
      "cell_type": "code",
      "source": [
        "phonebook[\"Dad\"]"
      ],
      "metadata": {
        "colab": {
          "base_uri": "https://localhost:8080/"
        },
        "id": "eAG4wTlAs3qN",
        "outputId": "a4a80a21-cf9b-44cc-f001-adafe789359d"
      },
      "execution_count": null,
      "outputs": [
        {
          "output_type": "execute_result",
          "data": {
            "text/plain": [
              "894"
            ]
          },
          "metadata": {},
          "execution_count": 10
        }
      ]
    },
    {
      "cell_type": "code",
      "source": [
        "phonebook.keys()"
      ],
      "metadata": {
        "colab": {
          "base_uri": "https://localhost:8080/"
        },
        "id": "dJba1IKLs8Ed",
        "outputId": "efe8c3b9-2344-4870-c0cd-7e53904fc777"
      },
      "execution_count": null,
      "outputs": [
        {
          "output_type": "execute_result",
          "data": {
            "text/plain": [
              "dict_keys(['Dad', 'Mom'])"
            ]
          },
          "metadata": {},
          "execution_count": 11
        }
      ]
    },
    {
      "cell_type": "code",
      "source": [
        "phonebook.values()"
      ],
      "metadata": {
        "colab": {
          "base_uri": "https://localhost:8080/"
        },
        "id": "5iUDPUZHtII9",
        "outputId": "87dfd4e5-3d70-4c89-d7ad-afe497ee5f5d"
      },
      "execution_count": null,
      "outputs": [
        {
          "output_type": "execute_result",
          "data": {
            "text/plain": [
              "dict_values([894, 569])"
            ]
          },
          "metadata": {},
          "execution_count": 12
        }
      ]
    },
    {
      "cell_type": "code",
      "source": [
        "phonebook[\"Dad\"]=639 #Its mutable"
      ],
      "metadata": {
        "id": "QJONd03_tMGR"
      },
      "execution_count": null,
      "outputs": []
    },
    {
      "cell_type": "code",
      "source": [
        "phonebook"
      ],
      "metadata": {
        "colab": {
          "base_uri": "https://localhost:8080/"
        },
        "id": "H3I_vEG7tYSj",
        "outputId": "c8457808-925a-4332-98b6-aa61f4dbb04d"
      },
      "execution_count": null,
      "outputs": [
        {
          "output_type": "execute_result",
          "data": {
            "text/plain": [
              "{'Dad': 639, 'Mom': 569}"
            ]
          },
          "metadata": {},
          "execution_count": 15
        }
      ]
    },
    {
      "cell_type": "markdown",
      "source": [
        "ARRAY"
      ],
      "metadata": {
        "id": "4w86vjYyvSMf"
      }
    },
    {
      "cell_type": "code",
      "source": [
        "from array import array #array is similar to list >> stores homogenous data"
      ],
      "metadata": {
        "id": "8UwK12fMta1g"
      },
      "execution_count": null,
      "outputs": []
    },
    {
      "cell_type": "code",
      "source": [
        "a=array('i',[1,2,3,4,5]) # 'i'for integer\n",
        "a[2]"
      ],
      "metadata": {
        "colab": {
          "base_uri": "https://localhost:8080/"
        },
        "id": "ni8_OnDBtzAT",
        "outputId": "2a006ec9-a83d-4744-84ab-3b460bfd9ad0"
      },
      "execution_count": null,
      "outputs": [
        {
          "output_type": "execute_result",
          "data": {
            "text/plain": [
              "3"
            ]
          },
          "metadata": {},
          "execution_count": 31
        }
      ]
    },
    {
      "cell_type": "code",
      "source": [
        "a=array('f',[1.5,2.6,3.3,4.2,5.8]) #'f' for float and 'd' for double\n",
        "a[3]"
      ],
      "metadata": {
        "colab": {
          "base_uri": "https://localhost:8080/"
        },
        "id": "rc19w07xuCeD",
        "outputId": "ad8cfd16-6edd-4f69-afce-5a9a0181db6a"
      },
      "execution_count": null,
      "outputs": [
        {
          "output_type": "execute_result",
          "data": {
            "text/plain": [
              "4.199999809265137"
            ]
          },
          "metadata": {},
          "execution_count": 33
        }
      ]
    },
    {
      "cell_type": "markdown",
      "source": [
        "STRINGS"
      ],
      "metadata": {
        "id": "q2Fw2CSm1OS1"
      }
    },
    {
      "cell_type": "code",
      "source": [
        "char=\"A\"\n",
        "ord(char)"
      ],
      "metadata": {
        "colab": {
          "base_uri": "https://localhost:8080/"
        },
        "id": "N8RoclRzv4Ql",
        "outputId": "d12b2e2c-92cd-4dcf-b5e2-e16c33b00f04"
      },
      "execution_count": null,
      "outputs": [
        {
          "output_type": "execute_result",
          "data": {
            "text/plain": [
              "65"
            ]
          },
          "metadata": {},
          "execution_count": 35
        }
      ]
    },
    {
      "cell_type": "code",
      "source": [
        "ord(\"d\")"
      ],
      "metadata": {
        "colab": {
          "base_uri": "https://localhost:8080/"
        },
        "id": "c2DLikCC1oBE",
        "outputId": "a3080ae5-d4d3-4019-8862-6053ee5fa9e4"
      },
      "execution_count": null,
      "outputs": [
        {
          "output_type": "execute_result",
          "data": {
            "text/plain": [
              "100"
            ]
          },
          "metadata": {},
          "execution_count": 37
        }
      ]
    },
    {
      "cell_type": "code",
      "source": [
        "chr(99)"
      ],
      "metadata": {
        "colab": {
          "base_uri": "https://localhost:8080/",
          "height": 35
        },
        "id": "k_iBd29m10IB",
        "outputId": "6764cb74-c24c-4aa2-d9cf-edc76284998f"
      },
      "execution_count": null,
      "outputs": [
        {
          "output_type": "execute_result",
          "data": {
            "text/plain": [
              "'c'"
            ],
            "application/vnd.google.colaboratory.intrinsic+json": {
              "type": "string"
            }
          },
          "metadata": {},
          "execution_count": 39
        }
      ]
    },
    {
      "cell_type": "code",
      "source": [
        "chr(66)"
      ],
      "metadata": {
        "colab": {
          "base_uri": "https://localhost:8080/",
          "height": 35
        },
        "id": "7H4GQHyM14IM",
        "outputId": "c68ff78c-a6a0-466f-cc12-aaea1713a3b8"
      },
      "execution_count": null,
      "outputs": [
        {
          "output_type": "execute_result",
          "data": {
            "text/plain": [
              "'B'"
            ],
            "application/vnd.google.colaboratory.intrinsic+json": {
              "type": "string"
            }
          },
          "metadata": {},
          "execution_count": 41
        }
      ]
    },
    {
      "cell_type": "code",
      "source": [
        "#UNICODE representation\n",
        "'\\u03A9' #Omega"
      ],
      "metadata": {
        "colab": {
          "base_uri": "https://localhost:8080/",
          "height": 35
        },
        "id": "jB8v-Dit2A3c",
        "outputId": "938df82c-fc2a-444f-eb26-3854d508fd69"
      },
      "execution_count": null,
      "outputs": [
        {
          "output_type": "execute_result",
          "data": {
            "text/plain": [
              "'Ω'"
            ],
            "application/vnd.google.colaboratory.intrinsic+json": {
              "type": "string"
            }
          },
          "metadata": {},
          "execution_count": 43
        }
      ]
    },
    {
      "cell_type": "code",
      "source": [
        "'\\u03A3' #Sigma"
      ],
      "metadata": {
        "colab": {
          "base_uri": "https://localhost:8080/",
          "height": 35
        },
        "id": "b_IhesIT2aJb",
        "outputId": "3a0ba839-b7a6-4af4-9803-72847ec07e56"
      },
      "execution_count": null,
      "outputs": [
        {
          "output_type": "execute_result",
          "data": {
            "text/plain": [
              "'Σ'"
            ],
            "application/vnd.google.colaboratory.intrinsic+json": {
              "type": "string"
            }
          },
          "metadata": {},
          "execution_count": 46
        }
      ]
    },
    {
      "cell_type": "code",
      "source": [
        "'\\u0973'"
      ],
      "metadata": {
        "colab": {
          "base_uri": "https://localhost:8080/",
          "height": 35
        },
        "id": "UeOcspDj2lJ1",
        "outputId": "ec2b403b-7c3c-4a31-f188-52f04bca4a98"
      },
      "execution_count": null,
      "outputs": [
        {
          "output_type": "execute_result",
          "data": {
            "text/plain": [
              "'ॳ'"
            ],
            "application/vnd.google.colaboratory.intrinsic+json": {
              "type": "string"
            }
          },
          "metadata": {},
          "execution_count": 45
        }
      ]
    },
    {
      "cell_type": "code",
      "source": [
        "chr(540)"
      ],
      "metadata": {
        "colab": {
          "base_uri": "https://localhost:8080/",
          "height": 35
        },
        "id": "JiKmUJRQ2n_l",
        "outputId": "c9a055ea-b53f-4477-ed66-8d979087aadb"
      },
      "execution_count": null,
      "outputs": [
        {
          "output_type": "execute_result",
          "data": {
            "text/plain": [
              "'Ȝ'"
            ],
            "application/vnd.google.colaboratory.intrinsic+json": {
              "type": "string"
            }
          },
          "metadata": {},
          "execution_count": 47
        }
      ]
    },
    {
      "cell_type": "code",
      "source": [
        "str1=\"hello\"\n",
        "str2=\"world\"\n",
        "str1+\" \"+str2"
      ],
      "metadata": {
        "colab": {
          "base_uri": "https://localhost:8080/",
          "height": 35
        },
        "id": "Hv_H_TnR20pl",
        "outputId": "ae777e44-6313-4f3e-cc1f-26f48db535b2"
      },
      "execution_count": null,
      "outputs": [
        {
          "output_type": "execute_result",
          "data": {
            "text/plain": [
              "'hello world'"
            ],
            "application/vnd.google.colaboratory.intrinsic+json": {
              "type": "string"
            }
          },
          "metadata": {},
          "execution_count": 50
        }
      ]
    },
    {
      "cell_type": "code",
      "source": [
        "str1+\"<\"+str2"
      ],
      "metadata": {
        "colab": {
          "base_uri": "https://localhost:8080/",
          "height": 35
        },
        "id": "-fK0_u1u3xOP",
        "outputId": "f1d84050-bdac-4888-a951-15c3369cf226"
      },
      "execution_count": null,
      "outputs": [
        {
          "output_type": "execute_result",
          "data": {
            "text/plain": [
              "'hello<world'"
            ],
            "application/vnd.google.colaboratory.intrinsic+json": {
              "type": "string"
            }
          },
          "metadata": {},
          "execution_count": 52
        }
      ]
    },
    {
      "cell_type": "code",
      "source": [
        "#Etract a string\n",
        "str1=\"I am a good boy\"\n",
        "str1[0]"
      ],
      "metadata": {
        "colab": {
          "base_uri": "https://localhost:8080/",
          "height": 35
        },
        "id": "wvExsZoG3_EE",
        "outputId": "ea1f28b0-d4d9-45ec-9247-b0274d81a7fe"
      },
      "execution_count": null,
      "outputs": [
        {
          "output_type": "execute_result",
          "data": {
            "text/plain": [
              "'I'"
            ],
            "application/vnd.google.colaboratory.intrinsic+json": {
              "type": "string"
            }
          },
          "metadata": {},
          "execution_count": 53
        }
      ]
    },
    {
      "cell_type": "code",
      "source": [
        "str1[0:6] #etract part of a string"
      ],
      "metadata": {
        "colab": {
          "base_uri": "https://localhost:8080/",
          "height": 35
        },
        "id": "8HcuuDyF4JBn",
        "outputId": "6885b57c-28b9-47f2-b59d-84639f62904b"
      },
      "execution_count": null,
      "outputs": [
        {
          "output_type": "execute_result",
          "data": {
            "text/plain": [
              "'I am a'"
            ],
            "application/vnd.google.colaboratory.intrinsic+json": {
              "type": "string"
            }
          },
          "metadata": {},
          "execution_count": 55
        }
      ]
    },
    {
      "cell_type": "code",
      "source": [
        "str1[6:]"
      ],
      "metadata": {
        "colab": {
          "base_uri": "https://localhost:8080/",
          "height": 35
        },
        "id": "60DM3dn94QZ4",
        "outputId": "5f58f9df-fed3-40c0-8c06-4a9638a6393f"
      },
      "execution_count": null,
      "outputs": [
        {
          "output_type": "execute_result",
          "data": {
            "text/plain": [
              "' good boy'"
            ],
            "application/vnd.google.colaboratory.intrinsic+json": {
              "type": "string"
            }
          },
          "metadata": {},
          "execution_count": 58
        }
      ]
    },
    {
      "cell_type": "code",
      "source": [
        "str1[-1]"
      ],
      "metadata": {
        "colab": {
          "base_uri": "https://localhost:8080/",
          "height": 35
        },
        "id": "UZHEBMPF4e2I",
        "outputId": "da8cd142-0c9f-41a0-df59-6ded6e1cbd8c"
      },
      "execution_count": null,
      "outputs": [
        {
          "output_type": "execute_result",
          "data": {
            "text/plain": [
              "'y'"
            ],
            "application/vnd.google.colaboratory.intrinsic+json": {
              "type": "string"
            }
          },
          "metadata": {},
          "execution_count": 59
        }
      ]
    },
    {
      "cell_type": "code",
      "source": [
        "str1[:-3] #Removing the last three characters"
      ],
      "metadata": {
        "colab": {
          "base_uri": "https://localhost:8080/",
          "height": 35
        },
        "id": "R6OeDQaA4rX5",
        "outputId": "3077dbe2-2a49-4663-e6ec-15311fa35f25"
      },
      "execution_count": null,
      "outputs": [
        {
          "output_type": "execute_result",
          "data": {
            "text/plain": [
              "'I am a good '"
            ],
            "application/vnd.google.colaboratory.intrinsic+json": {
              "type": "string"
            }
          },
          "metadata": {},
          "execution_count": 62
        }
      ]
    },
    {
      "cell_type": "code",
      "source": [
        "str1[-3:] #keeping only last three characters"
      ],
      "metadata": {
        "colab": {
          "base_uri": "https://localhost:8080/",
          "height": 35
        },
        "id": "aGy4SWeK41gh",
        "outputId": "00782b93-b46b-442f-91c9-c8038a628eec"
      },
      "execution_count": null,
      "outputs": [
        {
          "output_type": "execute_result",
          "data": {
            "text/plain": [
              "'boy'"
            ],
            "application/vnd.google.colaboratory.intrinsic+json": {
              "type": "string"
            }
          },
          "metadata": {},
          "execution_count": 64
        }
      ]
    },
    {
      "cell_type": "code",
      "source": [
        "str2=\"hello world\""
      ],
      "metadata": {
        "id": "9G8gNPyv5EPd"
      },
      "execution_count": null,
      "outputs": []
    },
    {
      "cell_type": "code",
      "source": [
        "str2[::2] #grabing elements leaving 2 'hlowrd' its by default 1 called as step size"
      ],
      "metadata": {
        "colab": {
          "base_uri": "https://localhost:8080/",
          "height": 35
        },
        "id": "in-978o-5QF0",
        "outputId": "44456fa6-f64f-4120-c7dc-99541a7eb05c"
      },
      "execution_count": null,
      "outputs": [
        {
          "output_type": "execute_result",
          "data": {
            "text/plain": [
              "'hlowrd'"
            ],
            "application/vnd.google.colaboratory.intrinsic+json": {
              "type": "string"
            }
          },
          "metadata": {},
          "execution_count": 69
        }
      ]
    },
    {
      "cell_type": "code",
      "source": [
        "str2[0:7:2] #its like go till 7 index with step size 2 that is leaving 2 elements"
      ],
      "metadata": {
        "colab": {
          "base_uri": "https://localhost:8080/",
          "height": 35
        },
        "id": "mYqUbIC95b-c",
        "outputId": "592256d9-c308-4552-e8ea-30aa6b794871"
      },
      "execution_count": null,
      "outputs": [
        {
          "output_type": "execute_result",
          "data": {
            "text/plain": [
              "'hlow'"
            ],
            "application/vnd.google.colaboratory.intrinsic+json": {
              "type": "string"
            }
          },
          "metadata": {},
          "execution_count": 70
        }
      ]
    },
    {
      "cell_type": "code",
      "source": [
        "str2[::-1]"
      ],
      "metadata": {
        "colab": {
          "base_uri": "https://localhost:8080/",
          "height": 35
        },
        "id": "cgxRzh726kEB",
        "outputId": "0c0aa122-1eb1-4ff6-9394-f3c8b37692b2"
      },
      "execution_count": null,
      "outputs": [
        {
          "output_type": "execute_result",
          "data": {
            "text/plain": [
              "'dlrow olleh'"
            ],
            "application/vnd.google.colaboratory.intrinsic+json": {
              "type": "string"
            }
          },
          "metadata": {},
          "execution_count": 71
        }
      ]
    },
    {
      "cell_type": "code",
      "source": [
        "#Strings are immutable"
      ],
      "metadata": {
        "id": "iZdwjBMs6prB"
      },
      "execution_count": null,
      "outputs": []
    },
    {
      "cell_type": "code",
      "source": [
        "len(str2)"
      ],
      "metadata": {
        "colab": {
          "base_uri": "https://localhost:8080/"
        },
        "id": "AGByu33j7HRb",
        "outputId": "5d85b127-f3b9-4b19-e52f-db9cc5d734eb"
      },
      "execution_count": null,
      "outputs": [
        {
          "output_type": "execute_result",
          "data": {
            "text/plain": [
              "11"
            ]
          },
          "metadata": {},
          "execution_count": 73
        }
      ]
    },
    {
      "cell_type": "code",
      "source": [
        "#modification of string\n",
        "s=\"kunal Debnath\"\n",
        "s.replace(\"Debnath\",\"biswas\") #Replace"
      ],
      "metadata": {
        "colab": {
          "base_uri": "https://localhost:8080/",
          "height": 35
        },
        "id": "ZIVEPxy57WYv",
        "outputId": "eb732950-8568-499f-abeb-bea24ab9f027"
      },
      "execution_count": null,
      "outputs": [
        {
          "output_type": "execute_result",
          "data": {
            "text/plain": [
              "'kunal biswas'"
            ],
            "application/vnd.google.colaboratory.intrinsic+json": {
              "type": "string"
            }
          },
          "metadata": {},
          "execution_count": 74
        }
      ]
    },
    {
      "cell_type": "code",
      "source": [
        "k=\"they are good donot disturb them\"\n",
        "k.replace(\"they\",\"we\").replace(\"good\",\"bad\").replace(\"donot\",\"let\")"
      ],
      "metadata": {
        "colab": {
          "base_uri": "https://localhost:8080/",
          "height": 35
        },
        "id": "NmuF4yNC77uB",
        "outputId": "93a17913-bd91-4b82-8d49-13dabb215a1e"
      },
      "execution_count": null,
      "outputs": [
        {
          "output_type": "execute_result",
          "data": {
            "text/plain": [
              "'we are bad let disturb them'"
            ],
            "application/vnd.google.colaboratory.intrinsic+json": {
              "type": "string"
            }
          },
          "metadata": {},
          "execution_count": 76
        }
      ]
    },
    {
      "cell_type": "code",
      "source": [
        "s=\"hello world\""
      ],
      "metadata": {
        "id": "6qXmfzL48pXi"
      },
      "execution_count": null,
      "outputs": []
    },
    {
      "cell_type": "code",
      "source": [
        "s.lower() #Lower Case"
      ],
      "metadata": {
        "colab": {
          "base_uri": "https://localhost:8080/",
          "height": 35
        },
        "id": "MHeWU97r82cq",
        "outputId": "ba6ecf0f-7b2f-42fb-a958-9f21493b5c54"
      },
      "execution_count": null,
      "outputs": [
        {
          "output_type": "execute_result",
          "data": {
            "text/plain": [
              "'hello world'"
            ],
            "application/vnd.google.colaboratory.intrinsic+json": {
              "type": "string"
            }
          },
          "metadata": {},
          "execution_count": 81
        }
      ]
    },
    {
      "cell_type": "code",
      "source": [
        "s.upper() #Upper Case"
      ],
      "metadata": {
        "colab": {
          "base_uri": "https://localhost:8080/",
          "height": 35
        },
        "id": "-F1vZxJH85kJ",
        "outputId": "d76c95e4-4777-4d40-8e35-b8969c5eb80c"
      },
      "execution_count": null,
      "outputs": [
        {
          "output_type": "execute_result",
          "data": {
            "text/plain": [
              "'HELLO WORLD'"
            ],
            "application/vnd.google.colaboratory.intrinsic+json": {
              "type": "string"
            }
          },
          "metadata": {},
          "execution_count": 82
        }
      ]
    },
    {
      "cell_type": "code",
      "source": [
        "s.title() #First letter of the word in capital"
      ],
      "metadata": {
        "colab": {
          "base_uri": "https://localhost:8080/",
          "height": 35
        },
        "id": "I91g9ylM88Xx",
        "outputId": "d81bf8d2-42d4-47ba-f656-b116c0d95403"
      },
      "execution_count": null,
      "outputs": [
        {
          "output_type": "execute_result",
          "data": {
            "text/plain": [
              "'Hello World'"
            ],
            "application/vnd.google.colaboratory.intrinsic+json": {
              "type": "string"
            }
          },
          "metadata": {},
          "execution_count": 84
        }
      ]
    },
    {
      "cell_type": "code",
      "source": [
        "s.swapcase() #Transforms the original to lower or uppercase"
      ],
      "metadata": {
        "colab": {
          "base_uri": "https://localhost:8080/",
          "height": 35
        },
        "id": "-Ho0jngq9XPW",
        "outputId": "9171c3c8-bdba-48b4-9871-bb5efc84676c"
      },
      "execution_count": null,
      "outputs": [
        {
          "output_type": "execute_result",
          "data": {
            "text/plain": [
              "'HELLO WORLD'"
            ],
            "application/vnd.google.colaboratory.intrinsic+json": {
              "type": "string"
            }
          },
          "metadata": {},
          "execution_count": 86
        }
      ]
    },
    {
      "cell_type": "code",
      "source": [
        "s.capitalize() #First letter of the statment will be capital"
      ],
      "metadata": {
        "colab": {
          "base_uri": "https://localhost:8080/",
          "height": 35
        },
        "id": "qht-Last9oCc",
        "outputId": "afc2bbe7-07ac-48d7-c557-e01340aa9284"
      },
      "execution_count": null,
      "outputs": [
        {
          "output_type": "execute_result",
          "data": {
            "text/plain": [
              "'Hello world'"
            ],
            "application/vnd.google.colaboratory.intrinsic+json": {
              "type": "string"
            }
          },
          "metadata": {},
          "execution_count": 88
        }
      ]
    },
    {
      "cell_type": "code",
      "source": [
        "#string searching\n",
        "st=\"They are grown up\"\n",
        "\"up\" in st"
      ],
      "metadata": {
        "colab": {
          "base_uri": "https://localhost:8080/"
        },
        "id": "ZkAQEgmR9_Mp",
        "outputId": "ffaad02b-ca25-446f-c48c-689b487a5fbd"
      },
      "execution_count": null,
      "outputs": [
        {
          "output_type": "execute_result",
          "data": {
            "text/plain": [
              "True"
            ]
          },
          "metadata": {},
          "execution_count": 98
        }
      ]
    },
    {
      "cell_type": "code",
      "source": [
        "a=\"up\" in st\n",
        "if a:\n",
        "  print(\"ok\")\n",
        "else:\n",
        "  print(\"not ok\")"
      ],
      "metadata": {
        "colab": {
          "base_uri": "https://localhost:8080/"
        },
        "id": "NAYwiQHm-le5",
        "outputId": "15b4246d-f5ef-4f29-c83d-417c38eb3b82"
      },
      "execution_count": null,
      "outputs": [
        {
          "output_type": "stream",
          "name": "stdout",
          "text": [
            "ok\n"
          ]
        }
      ]
    },
    {
      "cell_type": "code",
      "source": [
        "#String Comparison\n",
        "st1=\"OK\"\n",
        "st2=\"ok\"\n",
        "st1==st2"
      ],
      "metadata": {
        "colab": {
          "base_uri": "https://localhost:8080/"
        },
        "id": "fGYUXHnI-y8N",
        "outputId": "d2731f6a-0747-4d31-ba29-448c5593df3b"
      },
      "execution_count": null,
      "outputs": [
        {
          "output_type": "execute_result",
          "data": {
            "text/plain": [
              "False"
            ]
          },
          "metadata": {},
          "execution_count": 126
        }
      ]
    },
    {
      "cell_type": "code",
      "source": [
        "st2.lower()==st1.lower()"
      ],
      "metadata": {
        "colab": {
          "base_uri": "https://localhost:8080/"
        },
        "id": "VJsToiW3_eyd",
        "outputId": "26911741-c7fa-4319-ac24-8f8767b721a1"
      },
      "execution_count": null,
      "outputs": [
        {
          "output_type": "execute_result",
          "data": {
            "text/plain": [
              "True"
            ]
          },
          "metadata": {},
          "execution_count": 127
        }
      ]
    },
    {
      "cell_type": "code",
      "source": [
        " #String Ordering\n",
        " names=[\"ajay\",\"nakula\",\"bee\"] #Sorted >> sort in alphabatical order\n",
        " sorted(names)"
      ],
      "metadata": {
        "colab": {
          "base_uri": "https://localhost:8080/"
        },
        "id": "Y03QY0dNBVHU",
        "outputId": "0229ea08-2020-4338-de76-488cda283116"
      },
      "execution_count": null,
      "outputs": [
        {
          "output_type": "execute_result",
          "data": {
            "text/plain": [
              "['ajay', 'bee', 'nakula']"
            ]
          },
          "metadata": {},
          "execution_count": 128
        }
      ]
    },
    {
      "cell_type": "code",
      "source": [
        "#Common string operations\n",
        "input_str=\"      kunal      \"\n",
        "input_str.strip()  # Strip >> remoes spaces"
      ],
      "metadata": {
        "colab": {
          "base_uri": "https://localhost:8080/",
          "height": 35
        },
        "id": "Icae0KnCCl0-",
        "outputId": "5d45b09d-36f9-4316-f9f3-ccf2a48ada0f"
      },
      "execution_count": null,
      "outputs": [
        {
          "output_type": "execute_result",
          "data": {
            "text/plain": [
              "'kunal'"
            ],
            "application/vnd.google.colaboratory.intrinsic+json": {
              "type": "string"
            }
          },
          "metadata": {},
          "execution_count": 20
        }
      ]
    },
    {
      "cell_type": "code",
      "source": [
        "data=\"ajay,lambo,kunal\"\n",
        "g=data.split(\",\") #Splits the data based on given. here its \",\""
      ],
      "metadata": {
        "id": "MlHi3LBbDD-4"
      },
      "execution_count": null,
      "outputs": []
    },
    {
      "cell_type": "code",
      "source": [
        "a=g[0]\n",
        "b=g[1]\n",
        "c=g[2]"
      ],
      "metadata": {
        "id": "llwfqTHVD4O6"
      },
      "execution_count": null,
      "outputs": []
    },
    {
      "cell_type": "code",
      "source": [
        "print(a)\n",
        "print(b)\n",
        "print(c)"
      ],
      "metadata": {
        "colab": {
          "base_uri": "https://localhost:8080/"
        },
        "id": "7E3nEz78ITPs",
        "outputId": "a8297cdd-f2fc-432a-8de4-7025fef6b739"
      },
      "execution_count": null,
      "outputs": [
        {
          "output_type": "stream",
          "name": "stdout",
          "text": [
            "ajay\n",
            "lambo\n",
            "kunal\n"
          ]
        }
      ]
    },
    {
      "cell_type": "code",
      "source": [
        "#Escape sequence >> special combination of characters within a string\n",
        "address=\"\"\"123, sana villa,\n",
        "marathali,\n",
        "bangalore\"\"\"\n"
      ],
      "metadata": {
        "id": "7vFd0trFI2op"
      },
      "execution_count": null,
      "outputs": []
    },
    {
      "cell_type": "code",
      "source": [
        "print(address)"
      ],
      "metadata": {
        "colab": {
          "base_uri": "https://localhost:8080/"
        },
        "id": "tuKynMd58gqA",
        "outputId": "36c9ace8-30e6-4605-8fea-e0d8e74697f7"
      },
      "execution_count": null,
      "outputs": [
        {
          "output_type": "stream",
          "name": "stdout",
          "text": [
            "123, sana villa,\n",
            "marathali,\n",
            "bangalore\n"
          ]
        }
      ]
    },
    {
      "cell_type": "code",
      "source": [
        "address=\"\"\"123, sana villa,\\nmarathali,\\nbangalore\"\"\"\n",
        "print(address)#\"\\n\">> to insert a new line character"
      ],
      "metadata": {
        "colab": {
          "base_uri": "https://localhost:8080/"
        },
        "id": "qDpCQKgoDvcn",
        "outputId": "401a09c1-5eea-46a6-9ee6-3240137cdd78"
      },
      "execution_count": null,
      "outputs": [
        {
          "output_type": "stream",
          "name": "stdout",
          "text": [
            "123, sana villa,\n",
            "marathali,\n",
            "bangalore\n"
          ]
        }
      ]
    },
    {
      "cell_type": "code",
      "source": [
        "#\\t escape character\n",
        "table=\"Name\\tAge\\tGrade\\nAlice\\t20\\tA\\nRam\\t30\\tA+\" #\\n>>new line & \\t>>tab space\n",
        "print(table)"
      ],
      "metadata": {
        "colab": {
          "base_uri": "https://localhost:8080/"
        },
        "id": "t00yi-Jh80-H",
        "outputId": "0efbf24d-e910-4608-f28d-9d29577b47c4"
      },
      "execution_count": null,
      "outputs": [
        {
          "output_type": "stream",
          "name": "stdout",
          "text": [
            "Name\tAge\tGrade\n",
            "Alice\t20\tA\n",
            "Ram\t30\tA+\n"
          ]
        }
      ]
    },
    {
      "cell_type": "code",
      "source": [
        "#Double back slash\n",
        "file_path=\"C:\\\\USERS\\\\DOWNLOAD\\\\FILES.txt\" #\\\\>>will print \\ as in case of \\n>>n and \\t>>t\n",
        "print(file_path)"
      ],
      "metadata": {
        "colab": {
          "base_uri": "https://localhost:8080/"
        },
        "id": "AzzLb96Y_jg1",
        "outputId": "31a2294f-e1f2-4395-b850-57aa440a5369"
      },
      "execution_count": null,
      "outputs": [
        {
          "output_type": "stream",
          "name": "stdout",
          "text": [
            "C:\\USERS\\DOWNLOAD\\FILES.txt\n"
          ]
        }
      ]
    },
    {
      "cell_type": "code",
      "source": [
        "# #If its single back slash it will give error\n",
        "# file_path=\"C:\\USERS\\\\DOWNLOAD\\FILES.txt\"\n",
        "# print(file_path)"
      ],
      "metadata": {
        "id": "x17AdFoHCE2q"
      },
      "execution_count": null,
      "outputs": []
    },
    {
      "cell_type": "code",
      "source": [
        "#\\' single quote escape\n",
        "str1= 'I can\\'t believe its a friday'\n",
        "str1"
      ],
      "metadata": {
        "colab": {
          "base_uri": "https://localhost:8080/",
          "height": 35
        },
        "id": "-zs9JKOXDKta",
        "outputId": "ee39b711-739c-46f6-9ce1-dd077ffcfcd2"
      },
      "execution_count": null,
      "outputs": [
        {
          "output_type": "execute_result",
          "data": {
            "text/plain": [
              "\"I can't believe its a friday\""
            ],
            "application/vnd.google.colaboratory.intrinsic+json": {
              "type": "string"
            }
          },
          "metadata": {},
          "execution_count": 25
        }
      ]
    },
    {
      "cell_type": "code",
      "source": [
        "#Carriage return \\r >> moves the cursor to the beginning of line\n",
        "print(\"Hello, I am \\rkunal. I am going to kolkata\")"
      ],
      "metadata": {
        "colab": {
          "base_uri": "https://localhost:8080/"
        },
        "id": "gZNFbamiDazj",
        "outputId": "2cbc5b44-73da-4367-f2e8-759eae88458d"
      },
      "execution_count": null,
      "outputs": [
        {
          "output_type": "stream",
          "name": "stdout",
          "text": [
            "Hello, I am \rkunal. I am going to kolkata\n"
          ]
        }
      ]
    },
    {
      "cell_type": "code",
      "source": [
        "#string formatting >> creating string with placeholder for variables\n",
        "username = (input(\"Enter your name: \"))\n",
        "f\"hello {username},how are you?\""
      ],
      "metadata": {
        "colab": {
          "base_uri": "https://localhost:8080/",
          "height": 53
        },
        "id": "4TjGBDY1E0GW",
        "outputId": "7d55185c-273f-4250-b52e-1d027273bf71"
      },
      "execution_count": null,
      "outputs": [
        {
          "name": "stdout",
          "output_type": "stream",
          "text": [
            "Enter your name: kunal\n"
          ]
        },
        {
          "output_type": "execute_result",
          "data": {
            "text/plain": [
              "'hello kunal,how are you?'"
            ],
            "application/vnd.google.colaboratory.intrinsic+json": {
              "type": "string"
            }
          },
          "metadata": {},
          "execution_count": 32
        }
      ]
    },
    {
      "cell_type": "code",
      "source": [
        "#Another way of string formating(older version)\n",
        "n=\"kunal\"\n",
        "greet=\"Hello %s! wish you a wonderful day\" %n\n",
        "print(greet)"
      ],
      "metadata": {
        "colab": {
          "base_uri": "https://localhost:8080/"
        },
        "id": "zz5AwBFqF5gE",
        "outputId": "0f268477-fc77-4448-dfd5-f4f055f9e788"
      },
      "execution_count": null,
      "outputs": [
        {
          "output_type": "stream",
          "name": "stdout",
          "text": [
            "Hello kunal! wish you a wonderful day\n"
          ]
        }
      ]
    },
    {
      "cell_type": "code",
      "source": [
        "#.format\n",
        "n=\"Hi {} I am {}\"\n",
        "a=n.format(\"Bijay\",\"Kunal\")\n",
        "print(a)"
      ],
      "metadata": {
        "colab": {
          "base_uri": "https://localhost:8080/"
        },
        "id": "o3KXZamOHfxI",
        "outputId": "9c440dbe-b1e0-452c-9266-a7979b9be55e"
      },
      "execution_count": null,
      "outputs": [
        {
          "output_type": "stream",
          "name": "stdout",
          "text": [
            "Hi Bijay I am Kunal\n"
          ]
        }
      ]
    },
    {
      "cell_type": "code",
      "source": [
        "#f string (formatted string literals)\n",
        "course=\"pw data\"+\" \"+\"DSA\"\n",
        "duration=3\n",
        "f\"My course is {course} and its duration in {duration} years\""
      ],
      "metadata": {
        "colab": {
          "base_uri": "https://localhost:8080/",
          "height": 35
        },
        "id": "TVeL7OidICZC",
        "outputId": "fc76f98b-d1c8-4978-f4fb-022735aa8b0d"
      },
      "execution_count": null,
      "outputs": [
        {
          "output_type": "execute_result",
          "data": {
            "text/plain": [
              "'My course is pw data DSA and its duration in 3 years'"
            ],
            "application/vnd.google.colaboratory.intrinsic+json": {
              "type": "string"
            }
          },
          "metadata": {},
          "execution_count": 41
        }
      ]
    },
    {
      "cell_type": "code",
      "source": [
        "celsius =25\n",
        "f\"{celsius} is equals to {(celsius * 9/5)+32}F\""
      ],
      "metadata": {
        "colab": {
          "base_uri": "https://localhost:8080/",
          "height": 35
        },
        "id": "tYaK-4ytI6yG",
        "outputId": "ed97e424-7bf3-4c9c-e5b6-8430e80c3303"
      },
      "execution_count": null,
      "outputs": [
        {
          "output_type": "execute_result",
          "data": {
            "text/plain": [
              "'25 is equals to 77.0F'"
            ],
            "application/vnd.google.colaboratory.intrinsic+json": {
              "type": "string"
            }
          },
          "metadata": {},
          "execution_count": 44
        }
      ]
    },
    {
      "cell_type": "code",
      "source": [
        "#startswith >> returns boolean if present or not at the start\n",
        "a=\"kunal\"\n",
        "a.startswith(\"k\")"
      ],
      "metadata": {
        "colab": {
          "base_uri": "https://localhost:8080/"
        },
        "id": "yu0yXbEKKDjS",
        "outputId": "9c5363c1-0e3b-4637-b089-9038b7be9219"
      },
      "execution_count": null,
      "outputs": [
        {
          "output_type": "execute_result",
          "data": {
            "text/plain": [
              "True"
            ]
          },
          "metadata": {},
          "execution_count": 50
        }
      ]
    },
    {
      "cell_type": "code",
      "source": [
        "#endswith >> returns boolean if present or not at the end\n",
        "a=\"kunal\"\n",
        "a.endswith(\"l\")"
      ],
      "metadata": {
        "colab": {
          "base_uri": "https://localhost:8080/"
        },
        "id": "StZtRv7wKqb3",
        "outputId": "c6b22d6c-dec3-486b-c98c-492ffa822065"
      },
      "execution_count": null,
      "outputs": [
        {
          "output_type": "execute_result",
          "data": {
            "text/plain": [
              "True"
            ]
          },
          "metadata": {},
          "execution_count": 51
        }
      ]
    },
    {
      "cell_type": "code",
      "source": [
        "#.isalnum >> checking alpha numeric or not\n",
        "a=\"abcd123\"\n",
        "a.isalnum()"
      ],
      "metadata": {
        "colab": {
          "base_uri": "https://localhost:8080/"
        },
        "id": "iv3yoRaSKzfW",
        "outputId": "7d032bf7-597b-40b8-d359-82a42b46f973"
      },
      "execution_count": null,
      "outputs": [
        {
          "output_type": "execute_result",
          "data": {
            "text/plain": [
              "True"
            ]
          },
          "metadata": {},
          "execution_count": 53
        }
      ]
    },
    {
      "cell_type": "code",
      "source": [
        "s=\"Kunal\"\n",
        "len(s)"
      ],
      "metadata": {
        "colab": {
          "base_uri": "https://localhost:8080/"
        },
        "id": "s3VEqk_rLoWb",
        "outputId": "de92d73d-0aba-4dbf-eef7-533d3d3c36df"
      },
      "execution_count": null,
      "outputs": [
        {
          "output_type": "execute_result",
          "data": {
            "text/plain": [
              "5"
            ]
          },
          "metadata": {},
          "execution_count": 54
        }
      ]
    },
    {
      "cell_type": "code",
      "source": [
        "for i in s:\n",
        "  print(i)"
      ],
      "metadata": {
        "colab": {
          "base_uri": "https://localhost:8080/"
        },
        "id": "zbH-qPmqL1sB",
        "outputId": "50db6619-22c7-40cd-e249-067ecddae62e"
      },
      "execution_count": null,
      "outputs": [
        {
          "output_type": "stream",
          "name": "stdout",
          "text": [
            "K\n",
            "u\n",
            "n\n",
            "a\n",
            "l\n"
          ]
        }
      ]
    },
    {
      "cell_type": "code",
      "source": [
        "for ch in range(len(s)):\n",
        "  print(s[ch])"
      ],
      "metadata": {
        "colab": {
          "base_uri": "https://localhost:8080/"
        },
        "id": "UgYWnSXoMHCQ",
        "outputId": "e8e10f29-2fa9-4149-8508-2970c41356d6"
      },
      "execution_count": null,
      "outputs": [
        {
          "output_type": "stream",
          "name": "stdout",
          "text": [
            "K\n",
            "u\n",
            "n\n",
            "a\n",
            "l\n"
          ]
        }
      ]
    },
    {
      "cell_type": "markdown",
      "source": [
        "List"
      ],
      "metadata": {
        "id": "yhbkVUZKQLOC"
      }
    },
    {
      "cell_type": "code",
      "source": [
        "#list are ordered collection of items\n",
        "#[]\n",
        "#is like a shoping bag that can store evrything"
      ],
      "metadata": {
        "id": "HOgyQ_JSQK2n"
      },
      "execution_count": null,
      "outputs": []
    },
    {
      "cell_type": "code",
      "source": [
        "type([])"
      ],
      "metadata": {
        "colab": {
          "base_uri": "https://localhost:8080/"
        },
        "id": "gXjZtgvWMek4",
        "outputId": "9b98b5e6-d07f-4fb6-fb11-b559a9a622e8"
      },
      "execution_count": null,
      "outputs": [
        {
          "output_type": "execute_result",
          "data": {
            "text/plain": [
              "list"
            ]
          },
          "metadata": {},
          "execution_count": 59
        }
      ]
    },
    {
      "cell_type": "code",
      "source": [
        "grocery_list=[\"milk\",\"orange\",1,2,3,True,2+4j,2.3]"
      ],
      "metadata": {
        "id": "WNjEvECRQxaH"
      },
      "execution_count": null,
      "outputs": []
    },
    {
      "cell_type": "code",
      "source": [
        "type(grocery_list)"
      ],
      "metadata": {
        "colab": {
          "base_uri": "https://localhost:8080/"
        },
        "id": "CJDi_1TLRAO1",
        "outputId": "22b9b5ef-36e8-4e62-8b43-86b2c79928df"
      },
      "execution_count": null,
      "outputs": [
        {
          "output_type": "execute_result",
          "data": {
            "text/plain": [
              "list"
            ]
          },
          "metadata": {},
          "execution_count": 61
        }
      ]
    },
    {
      "cell_type": "code",
      "source": [
        "grocery_list"
      ],
      "metadata": {
        "colab": {
          "base_uri": "https://localhost:8080/"
        },
        "id": "imo1uMK_REaa",
        "outputId": "631e5e62-8385-4082-f31f-8bdc33670561"
      },
      "execution_count": null,
      "outputs": [
        {
          "output_type": "execute_result",
          "data": {
            "text/plain": [
              "['milk', 'orange', 1, 2, 3, True, (2+4j), 2.3]"
            ]
          },
          "metadata": {},
          "execution_count": 62
        }
      ]
    },
    {
      "cell_type": "code",
      "source": [
        "#list are mutable"
      ],
      "metadata": {
        "id": "NvDq5fZWRISZ"
      },
      "execution_count": null,
      "outputs": []
    },
    {
      "cell_type": "code",
      "source": [
        " grocery_list[1]"
      ],
      "metadata": {
        "colab": {
          "base_uri": "https://localhost:8080/",
          "height": 35
        },
        "id": "AGBCMwjkRPBp",
        "outputId": "897c4d0d-f030-46e7-b1a0-d78510651486"
      },
      "execution_count": null,
      "outputs": [
        {
          "output_type": "execute_result",
          "data": {
            "text/plain": [
              "'orange'"
            ],
            "application/vnd.google.colaboratory.intrinsic+json": {
              "type": "string"
            }
          },
          "metadata": {},
          "execution_count": 64
        }
      ]
    },
    {
      "cell_type": "code",
      "source": [
        "grocery_list[-1]"
      ],
      "metadata": {
        "colab": {
          "base_uri": "https://localhost:8080/"
        },
        "id": "TxIoae3kRw1M",
        "outputId": "21d70597-0993-427f-db86-22ecbb1e3219"
      },
      "execution_count": null,
      "outputs": [
        {
          "output_type": "execute_result",
          "data": {
            "text/plain": [
              "2.3"
            ]
          },
          "metadata": {},
          "execution_count": 66
        }
      ]
    },
    {
      "cell_type": "code",
      "source": [
        "grocery_list[1:]"
      ],
      "metadata": {
        "colab": {
          "base_uri": "https://localhost:8080/"
        },
        "id": "9deojNmgR072",
        "outputId": "3bf2d133-44e6-4ce2-ae1b-6feeaf0538c2"
      },
      "execution_count": null,
      "outputs": [
        {
          "output_type": "execute_result",
          "data": {
            "text/plain": [
              "['orange', 1, 2, 3, True, (2+4j), 2.3]"
            ]
          },
          "metadata": {},
          "execution_count": 67
        }
      ]
    },
    {
      "cell_type": "code",
      "source": [
        "grocery_list[1:4]"
      ],
      "metadata": {
        "colab": {
          "base_uri": "https://localhost:8080/"
        },
        "id": "zGzfK5l7R6sj",
        "outputId": "0eeea11d-26a0-448d-fe4a-3043dd501774"
      },
      "execution_count": null,
      "outputs": [
        {
          "output_type": "execute_result",
          "data": {
            "text/plain": [
              "['orange', 1, 2]"
            ]
          },
          "metadata": {},
          "execution_count": 68
        }
      ]
    },
    {
      "cell_type": "code",
      "source": [
        "grocery_list[0]=\"butter\""
      ],
      "metadata": {
        "id": "bCigtrb7R925"
      },
      "execution_count": null,
      "outputs": []
    },
    {
      "cell_type": "code",
      "source": [
        "grocery_list"
      ],
      "metadata": {
        "colab": {
          "base_uri": "https://localhost:8080/"
        },
        "id": "JoMQ3ofVSI6n",
        "outputId": "02da642d-4274-4b98-f260-f1a410dadf46"
      },
      "execution_count": null,
      "outputs": [
        {
          "output_type": "execute_result",
          "data": {
            "text/plain": [
              "['butter', 'orange', 1, 2, 3, True, (2+4j), 2.3]"
            ]
          },
          "metadata": {},
          "execution_count": 72
        }
      ]
    },
    {
      "cell_type": "code",
      "source": [
        "song=[\"o my god\"]"
      ],
      "metadata": {
        "id": "1pDAJAUlSKPp"
      },
      "execution_count": null,
      "outputs": []
    },
    {
      "cell_type": "code",
      "source": [
        "song.append(\"jai shree ram\") #append"
      ],
      "metadata": {
        "id": "r6OOq3dvSnje"
      },
      "execution_count": null,
      "outputs": []
    },
    {
      "cell_type": "code",
      "source": [
        "song"
      ],
      "metadata": {
        "colab": {
          "base_uri": "https://localhost:8080/"
        },
        "id": "Q9qPVuPbSwk8",
        "outputId": "c573396f-69ff-497b-d70a-9319002627d5"
      },
      "execution_count": null,
      "outputs": [
        {
          "output_type": "execute_result",
          "data": {
            "text/plain": [
              "['o my god', 'jai shree ram']"
            ]
          },
          "metadata": {},
          "execution_count": 76
        }
      ]
    },
    {
      "cell_type": "code",
      "source": [
        "book=[]\n",
        "book.append(\"krish\")\n",
        "book.append(\"humour\")\n",
        "book"
      ],
      "metadata": {
        "colab": {
          "base_uri": "https://localhost:8080/"
        },
        "id": "oMdx6HJrSxqU",
        "outputId": "363d1c41-068d-4c96-d80e-ff38cf59931a"
      },
      "execution_count": null,
      "outputs": [
        {
          "output_type": "execute_result",
          "data": {
            "text/plain": [
              "['krish', 'humour']"
            ]
          },
          "metadata": {},
          "execution_count": 80
        }
      ]
    },
    {
      "cell_type": "code",
      "source": [
        "lis1=[\"milk\",\"jam\",\"dahi\"]\n",
        "lis1.insert(1,\"banana\") #insert an element in an index\n",
        "lis1"
      ],
      "metadata": {
        "colab": {
          "base_uri": "https://localhost:8080/"
        },
        "id": "H0eqMoR6TFh0",
        "outputId": "e7517b82-83af-4ca7-8a6d-2d46f0ce080b"
      },
      "execution_count": null,
      "outputs": [
        {
          "output_type": "execute_result",
          "data": {
            "text/plain": [
              "['milk', 'banana', 'jam', 'dahi']"
            ]
          },
          "metadata": {},
          "execution_count": 82
        }
      ]
    },
    {
      "cell_type": "code",
      "source": [
        "#extend >> used to append elements from another iterable\n",
        "my_list=[\"apple\",\"banana\",\"orange\"]\n",
        "bhai_list=[\"milk\",\"dahi\"]\n",
        "my_list.extend(bhai_list)\n",
        "my_list"
      ],
      "metadata": {
        "colab": {
          "base_uri": "https://localhost:8080/"
        },
        "id": "dAuyy9q1ToUb",
        "outputId": "d16146dd-7821-4707-87e5-bf57a3caec37"
      },
      "execution_count": null,
      "outputs": [
        {
          "output_type": "execute_result",
          "data": {
            "text/plain": [
              "['apple', 'banana', 'orange', 'milk', 'dahi']"
            ]
          },
          "metadata": {},
          "execution_count": 83
        }
      ]
    },
    {
      "cell_type": "code",
      "source": [
        "#concatenate\n",
        "my_list+bhai_list"
      ],
      "metadata": {
        "colab": {
          "base_uri": "https://localhost:8080/"
        },
        "id": "5Z2hVh6xU0M5",
        "outputId": "3ae6836e-1a31-482c-c707-283709290103"
      },
      "execution_count": null,
      "outputs": [
        {
          "output_type": "execute_result",
          "data": {
            "text/plain": [
              "['apple', 'banana', 'orange', 'milk', 'dahi', 'milk', 'dahi']"
            ]
          },
          "metadata": {},
          "execution_count": 84
        }
      ]
    },
    {
      "cell_type": "code",
      "source": [
        "#Repeatation operation\n",
        "\"*\"*5"
      ],
      "metadata": {
        "colab": {
          "base_uri": "https://localhost:8080/",
          "height": 35
        },
        "id": "xQVnMCiYVHa9",
        "outputId": "52121386-13d0-4b48-de9c-84c72617040f"
      },
      "execution_count": null,
      "outputs": [
        {
          "output_type": "execute_result",
          "data": {
            "text/plain": [
              "'*****'"
            ],
            "application/vnd.google.colaboratory.intrinsic+json": {
              "type": "string"
            }
          },
          "metadata": {},
          "execution_count": 89
        }
      ]
    },
    {
      "cell_type": "code",
      "source": [
        "[0]*10"
      ],
      "metadata": {
        "colab": {
          "base_uri": "https://localhost:8080/"
        },
        "id": "bfpGKvbiVRng",
        "outputId": "72f0209b-6186-4a43-eee5-bdaab8eea280"
      },
      "execution_count": null,
      "outputs": [
        {
          "output_type": "execute_result",
          "data": {
            "text/plain": [
              "[0, 0, 0, 0, 0, 0, 0, 0, 0, 0]"
            ]
          },
          "metadata": {},
          "execution_count": 90
        }
      ]
    },
    {
      "cell_type": "code",
      "source": [
        "[1,2,3]*10"
      ],
      "metadata": {
        "colab": {
          "base_uri": "https://localhost:8080/"
        },
        "id": "cuAr1SdPVd6z",
        "outputId": "830261c5-e377-4b56-b65d-0d769b144d22"
      },
      "execution_count": null,
      "outputs": [
        {
          "output_type": "execute_result",
          "data": {
            "text/plain": [
              "[1,\n",
              " 2,\n",
              " 3,\n",
              " 1,\n",
              " 2,\n",
              " 3,\n",
              " 1,\n",
              " 2,\n",
              " 3,\n",
              " 1,\n",
              " 2,\n",
              " 3,\n",
              " 1,\n",
              " 2,\n",
              " 3,\n",
              " 1,\n",
              " 2,\n",
              " 3,\n",
              " 1,\n",
              " 2,\n",
              " 3,\n",
              " 1,\n",
              " 2,\n",
              " 3,\n",
              " 1,\n",
              " 2,\n",
              " 3,\n",
              " 1,\n",
              " 2,\n",
              " 3]"
            ]
          },
          "metadata": {},
          "execution_count": 94
        }
      ]
    },
    {
      "cell_type": "code",
      "source": [
        "list(range(1,6))*5"
      ],
      "metadata": {
        "colab": {
          "base_uri": "https://localhost:8080/"
        },
        "id": "BEdzEsj7Vh7g",
        "outputId": "5cda4288-6feb-45ba-c275-fe62684fd45f"
      },
      "execution_count": null,
      "outputs": [
        {
          "output_type": "execute_result",
          "data": {
            "text/plain": [
              "[1, 2, 3, 4, 5, 1, 2, 3, 4, 5, 1, 2, 3, 4, 5, 1, 2, 3, 4, 5, 1, 2, 3, 4, 5]"
            ]
          },
          "metadata": {},
          "execution_count": 96
        }
      ]
    },
    {
      "cell_type": "code",
      "source": [
        "m=\"kunal\\n\"\n",
        "print(m*5)"
      ],
      "metadata": {
        "colab": {
          "base_uri": "https://localhost:8080/"
        },
        "id": "n1sB4E5bVuxm",
        "outputId": "c89ac0ac-690f-4cf0-df64-bb3bfa4969ea"
      },
      "execution_count": null,
      "outputs": [
        {
          "output_type": "stream",
          "name": "stdout",
          "text": [
            "kunal\n",
            "kunal\n",
            "kunal\n",
            "kunal\n",
            "kunal\n",
            "\n"
          ]
        }
      ]
    },
    {
      "cell_type": "code",
      "source": [
        "#membership in , not in\n",
        "grocery_list"
      ],
      "metadata": {
        "colab": {
          "base_uri": "https://localhost:8080/"
        },
        "id": "Kj9KVnynVzJn",
        "outputId": "5c4cf9d0-51ae-4835-f432-616c10943e74"
      },
      "execution_count": null,
      "outputs": [
        {
          "output_type": "execute_result",
          "data": {
            "text/plain": [
              "['butter', 'orange', 1, 2, 3, True, (2+4j), 2.3]"
            ]
          },
          "metadata": {},
          "execution_count": 103
        }
      ]
    },
    {
      "cell_type": "code",
      "source": [
        "\"butter\" in grocery_list"
      ],
      "metadata": {
        "colab": {
          "base_uri": "https://localhost:8080/"
        },
        "id": "57s3-03lWUKM",
        "outputId": "13072f98-f94b-43e0-9e39-868785710154"
      },
      "execution_count": null,
      "outputs": [
        {
          "output_type": "execute_result",
          "data": {
            "text/plain": [
              "True"
            ]
          },
          "metadata": {},
          "execution_count": 104
        }
      ]
    },
    {
      "cell_type": "code",
      "source": [
        "\"orange\" not in grocery_list"
      ],
      "metadata": {
        "colab": {
          "base_uri": "https://localhost:8080/"
        },
        "id": "zUCCk6OZWZLj",
        "outputId": "e8819565-b956-442d-9930-614ed83f6377"
      },
      "execution_count": null,
      "outputs": [
        {
          "output_type": "execute_result",
          "data": {
            "text/plain": [
              "False"
            ]
          },
          "metadata": {},
          "execution_count": 105
        }
      ]
    },
    {
      "cell_type": "code",
      "source": [
        "#Shallow copy\n",
        "a=grocery_list\n",
        "a"
      ],
      "metadata": {
        "colab": {
          "base_uri": "https://localhost:8080/"
        },
        "id": "LZFQ34uVWgEt",
        "outputId": "ae165f19-8142-4068-a0ac-f6ee40d86cae"
      },
      "execution_count": null,
      "outputs": [
        {
          "output_type": "execute_result",
          "data": {
            "text/plain": [
              "['butter', 'orange', 1, 2, 3, True, (2+4j), 2.3]"
            ]
          },
          "metadata": {},
          "execution_count": 106
        }
      ]
    },
    {
      "cell_type": "code",
      "source": [
        "grocery_list[1]=\"milk\""
      ],
      "metadata": {
        "id": "n_57aXalXKFE"
      },
      "execution_count": null,
      "outputs": []
    },
    {
      "cell_type": "code",
      "source": [
        "grocery_list"
      ],
      "metadata": {
        "colab": {
          "base_uri": "https://localhost:8080/"
        },
        "id": "1PIU1MIjXOcl",
        "outputId": "33077c17-4eb7-458f-8431-bf557fdd4a5c"
      },
      "execution_count": null,
      "outputs": [
        {
          "output_type": "execute_result",
          "data": {
            "text/plain": [
              "['butter', 'milk', 1, 2, 3, True, (2+4j), 2.3]"
            ]
          },
          "metadata": {},
          "execution_count": 108
        }
      ]
    },
    {
      "cell_type": "code",
      "source": [
        "a #is also changed this is called shallow copying"
      ],
      "metadata": {
        "colab": {
          "base_uri": "https://localhost:8080/"
        },
        "id": "mIJcF-v5XQB0",
        "outputId": "cd9e8f2f-acb3-4dfd-df74-43aab25a389e"
      },
      "execution_count": null,
      "outputs": [
        {
          "output_type": "execute_result",
          "data": {
            "text/plain": [
              "['butter', 'milk', 1, 2, 3, True, (2+4j), 2.3]"
            ]
          },
          "metadata": {},
          "execution_count": 109
        }
      ]
    },
    {
      "cell_type": "code",
      "source": [
        "#Deep copy\n",
        "a=grocery_list.copy() # using .copy it will separate a\n",
        "a"
      ],
      "metadata": {
        "colab": {
          "base_uri": "https://localhost:8080/"
        },
        "id": "tLXX3E_OXQ5E",
        "outputId": "2126bfdf-7aa7-4faa-eafd-f15e1f85a9c3"
      },
      "execution_count": null,
      "outputs": [
        {
          "output_type": "execute_result",
          "data": {
            "text/plain": [
              "['butter', 'milk', 1, 2, 3, True, (2+4j), 2.3]"
            ]
          },
          "metadata": {},
          "execution_count": 110
        }
      ]
    },
    {
      "cell_type": "code",
      "source": [
        "grocery_list[1]=\"banana\""
      ],
      "metadata": {
        "id": "-DghSKMIXqgG"
      },
      "execution_count": null,
      "outputs": []
    },
    {
      "cell_type": "code",
      "source": [
        "grocery_list"
      ],
      "metadata": {
        "colab": {
          "base_uri": "https://localhost:8080/"
        },
        "id": "GJfbBupxXwRj",
        "outputId": "c8e3a9bc-2625-4fae-c3e5-b570c34099a1"
      },
      "execution_count": null,
      "outputs": [
        {
          "output_type": "execute_result",
          "data": {
            "text/plain": [
              "['butter', 'banana', 1, 2, 3, True, (2+4j), 2.3]"
            ]
          },
          "metadata": {},
          "execution_count": 112
        }
      ]
    },
    {
      "cell_type": "code",
      "source": [
        " a # Here a is not changed this is called deep copy"
      ],
      "metadata": {
        "colab": {
          "base_uri": "https://localhost:8080/"
        },
        "id": "YEBeMBgJXxpx",
        "outputId": "cc2db3e2-303b-4ed9-a4d9-772fb9990bfd"
      },
      "execution_count": null,
      "outputs": [
        {
          "output_type": "execute_result",
          "data": {
            "text/plain": [
              "['butter', 'milk', 1, 2, 3, True, (2+4j), 2.3]"
            ]
          },
          "metadata": {},
          "execution_count": 114
        }
      ]
    },
    {
      "cell_type": "code",
      "source": [
        "#sorting lists\n",
        "book_list=[\"data\",\"science\",\"machine\",\"learning\"]\n",
        "book_list.sort() #sorting alphabatically\n",
        "book_list"
      ],
      "metadata": {
        "colab": {
          "base_uri": "https://localhost:8080/"
        },
        "id": "DviwgNk-XyTx",
        "outputId": "393995b5-88c4-4493-d5f4-75524753767e"
      },
      "execution_count": null,
      "outputs": [
        {
          "output_type": "execute_result",
          "data": {
            "text/plain": [
              "['data', 'learning', 'machine', 'science']"
            ]
          },
          "metadata": {},
          "execution_count": 118
        }
      ]
    },
    {
      "cell_type": "code",
      "source": [
        "book_list.index(\"machine\") #.index to find the index number"
      ],
      "metadata": {
        "colab": {
          "base_uri": "https://localhost:8080/"
        },
        "id": "dI0MUKujYomI",
        "outputId": "46d0cdc4-1928-42f4-d7c9-a997ade32e05"
      },
      "execution_count": null,
      "outputs": [
        {
          "output_type": "execute_result",
          "data": {
            "text/plain": [
              "2"
            ]
          },
          "metadata": {},
          "execution_count": 119
        }
      ]
    },
    {
      "cell_type": "code",
      "source": [
        "#Count number of occurance\n",
        "book_list=[\"data\",\"science\",\"machine\",\"learning\",\"data\"]\n",
        "book_list.count(\"data\")"
      ],
      "metadata": {
        "colab": {
          "base_uri": "https://localhost:8080/"
        },
        "id": "Q9TxdcqgY6UC",
        "outputId": "ddc7dd69-5678-4c45-dcdb-9c9ed9d3c0e1"
      },
      "execution_count": null,
      "outputs": [
        {
          "output_type": "execute_result",
          "data": {
            "text/plain": [
              "2"
            ]
          },
          "metadata": {},
          "execution_count": 123
        }
      ]
    },
    {
      "cell_type": "code",
      "source": [
        "#Remove\n",
        "book_list.remove(\"machine\")\n",
        "book_list"
      ],
      "metadata": {
        "colab": {
          "base_uri": "https://localhost:8080/"
        },
        "id": "n5yXrlSiZXZa",
        "outputId": "ae9dfc04-cae1-46ac-e267-f8a66e597267"
      },
      "execution_count": null,
      "outputs": [
        {
          "output_type": "execute_result",
          "data": {
            "text/plain": [
              "['data', 'science', 'learning', 'data']"
            ]
          },
          "metadata": {},
          "execution_count": 124
        }
      ]
    },
    {
      "cell_type": "code",
      "source": [
        "#to delete the book_list\n",
        "del book_list"
      ],
      "metadata": {
        "id": "d_1a1c06Zigl"
      },
      "execution_count": null,
      "outputs": []
    },
    {
      "cell_type": "code",
      "source": [
        "# if you want values nhi rahenge par variable rahega\n",
        "book_list.clear() #.clear"
      ],
      "metadata": {
        "id": "GJMLYvp5aNUt"
      },
      "execution_count": null,
      "outputs": []
    },
    {
      "cell_type": "code",
      "source": [
        "book_list"
      ],
      "metadata": {
        "colab": {
          "base_uri": "https://localhost:8080/"
        },
        "id": "KJjdKLFWaNPo",
        "outputId": "ced7af14-0507-4e75-80aa-b6a71156a0d3"
      },
      "execution_count": null,
      "outputs": [
        {
          "output_type": "execute_result",
          "data": {
            "text/plain": [
              "[]"
            ]
          },
          "metadata": {},
          "execution_count": 126
        }
      ]
    },
    {
      "cell_type": "code",
      "source": [
        "#to remove the last element from the list\n",
        "book_list=[\"data\",\"science\",\"machine\",\"learning\",\"data\"]\n",
        "book_list.pop() #.pop()"
      ],
      "metadata": {
        "colab": {
          "base_uri": "https://localhost:8080/",
          "height": 35
        },
        "id": "olUMo0G8apY7",
        "outputId": "33872682-da2e-48f6-d24d-003d59a1372d"
      },
      "execution_count": null,
      "outputs": [
        {
          "output_type": "execute_result",
          "data": {
            "text/plain": [
              "'data'"
            ],
            "application/vnd.google.colaboratory.intrinsic+json": {
              "type": "string"
            }
          },
          "metadata": {},
          "execution_count": 7
        }
      ]
    },
    {
      "cell_type": "code",
      "source": [
        "book_list"
      ],
      "metadata": {
        "colab": {
          "base_uri": "https://localhost:8080/"
        },
        "id": "9Dy8MuLtwqhK",
        "outputId": "dc92d57a-0ccc-4387-f7c4-d8f62ce1de7c"
      },
      "execution_count": null,
      "outputs": [
        {
          "output_type": "execute_result",
          "data": {
            "text/plain": [
              "['data', 'science', 'machine', 'learning']"
            ]
          },
          "metadata": {},
          "execution_count": 8
        }
      ]
    },
    {
      "cell_type": "code",
      "source": [
        "#to remove a specific element\n",
        "book_list.pop(2) #.pop(index number)"
      ],
      "metadata": {
        "colab": {
          "base_uri": "https://localhost:8080/",
          "height": 35
        },
        "id": "nZ8UR4jDw3td",
        "outputId": "814d1290-fd4a-4b36-da38-42cad583073b"
      },
      "execution_count": null,
      "outputs": [
        {
          "output_type": "execute_result",
          "data": {
            "text/plain": [
              "'machine'"
            ],
            "application/vnd.google.colaboratory.intrinsic+json": {
              "type": "string"
            }
          },
          "metadata": {},
          "execution_count": 9
        }
      ]
    },
    {
      "cell_type": "code",
      "source": [
        "book_list"
      ],
      "metadata": {
        "colab": {
          "base_uri": "https://localhost:8080/"
        },
        "id": "QPlJQJoKxHv5",
        "outputId": "13f01491-2806-4382-a379-71e0bdd259e2"
      },
      "execution_count": null,
      "outputs": [
        {
          "output_type": "execute_result",
          "data": {
            "text/plain": [
              "['data', 'science', 'learning']"
            ]
          },
          "metadata": {},
          "execution_count": 10
        }
      ]
    },
    {
      "cell_type": "code",
      "source": [
        "p=[10,20,30,40,50]\n",
        "p*2 #this repeat the list twice"
      ],
      "metadata": {
        "colab": {
          "base_uri": "https://localhost:8080/"
        },
        "id": "ujjswCDJxLsg",
        "outputId": "67f55023-d487-44be-898d-84c74121227e"
      },
      "execution_count": null,
      "outputs": [
        {
          "output_type": "execute_result",
          "data": {
            "text/plain": [
              "[10, 20, 30, 40, 50, 10, 20, 30, 40, 50]"
            ]
          },
          "metadata": {},
          "execution_count": 11
        }
      ]
    },
    {
      "cell_type": "code",
      "source": [
        "#But if i want to double the values in the list then\n",
        "#I have to use : List comprehension\n",
        "double_p=[p1*2 for p1 in p]\n",
        "double_p"
      ],
      "metadata": {
        "colab": {
          "base_uri": "https://localhost:8080/"
        },
        "id": "2gcdfA10ySIy",
        "outputId": "2a1e16ca-8ffb-4f86-deec-17828a1bc8da"
      },
      "execution_count": null,
      "outputs": [
        {
          "output_type": "execute_result",
          "data": {
            "text/plain": [
              "[20, 40, 60, 80, 100]"
            ]
          },
          "metadata": {},
          "execution_count": 14
        }
      ]
    },
    {
      "cell_type": "code",
      "source": [
        "sub=['data', 'science', 'learning']\n",
        "[s.capitalize() for s in sub]"
      ],
      "metadata": {
        "colab": {
          "base_uri": "https://localhost:8080/"
        },
        "id": "rdjF10aqy-Y6",
        "outputId": "e009937c-47fb-4dac-9b4f-158359875cdb"
      },
      "execution_count": null,
      "outputs": [
        {
          "output_type": "execute_result",
          "data": {
            "text/plain": [
              "['Data', 'Science', 'Learning']"
            ]
          },
          "metadata": {},
          "execution_count": 16
        }
      ]
    },
    {
      "cell_type": "code",
      "source": [
        "f=[1,2,3,4,5]\n",
        "[f1**2 for f1 in f]\n"
      ],
      "metadata": {
        "colab": {
          "base_uri": "https://localhost:8080/"
        },
        "id": "mj-4xvWZ07sw",
        "outputId": "00ba861e-50df-4ae3-dd5a-5ba9c6046a7f"
      },
      "execution_count": null,
      "outputs": [
        {
          "output_type": "execute_result",
          "data": {
            "text/plain": [
              "[1, 4, 9, 16, 25]"
            ]
          },
          "metadata": {},
          "execution_count": 17
        }
      ]
    },
    {
      "cell_type": "code",
      "source": [
        "#Conditional list comprehension\n",
        "email_add=[\"kunal@gmail\",\"rik@yahoo\",\"sam@gmail\"]\n",
        "[email for email in email_add if email.endswith(\"@gmail\")]"
      ],
      "metadata": {
        "colab": {
          "base_uri": "https://localhost:8080/"
        },
        "id": "xniWSevq1cIL",
        "outputId": "5f627bba-363e-42bf-b0ba-6ff242e4f1ab"
      },
      "execution_count": null,
      "outputs": [
        {
          "output_type": "execute_result",
          "data": {
            "text/plain": [
              "['kunal@gmail', 'sam@gmail']"
            ]
          },
          "metadata": {},
          "execution_count": 19
        }
      ]
    },
    {
      "cell_type": "code",
      "source": [
        "#Nested List comprehension\n",
        "[[x,y] for x in [1,2,3] for y in [4,5,6]]"
      ],
      "metadata": {
        "colab": {
          "base_uri": "https://localhost:8080/"
        },
        "id": "jhex-rrF2mQK",
        "outputId": "9322bf6a-39d6-4dba-9a07-4ed7e9c96b01"
      },
      "execution_count": null,
      "outputs": [
        {
          "output_type": "execute_result",
          "data": {
            "text/plain": [
              "[[1, 4], [1, 5], [1, 6], [2, 4], [2, 5], [2, 6], [3, 4], [3, 5], [3, 6]]"
            ]
          },
          "metadata": {},
          "execution_count": 21
        }
      ]
    },
    {
      "cell_type": "code",
      "source": [
        "# List as stack and queue\n",
        "# Stack >> Last in first out principle > the last element added to the stack will be the first one"
      ],
      "metadata": {
        "id": "eqK7t4eN3OFe"
      },
      "execution_count": null,
      "outputs": []
    },
    {
      "cell_type": "code",
      "source": [
        "stack_of_plates=[]\n",
        "stack_of_plates.append(\"plate 1\")\n",
        "stack_of_plates.append(\"plate 2\")\n",
        "stack_of_plates.append(\"plate 3\")\n",
        "stack_of_plates.append(\"plate 4\")\n",
        "stack_of_plates"
      ],
      "metadata": {
        "colab": {
          "base_uri": "https://localhost:8080/"
        },
        "id": "stLdA5mL3-K1",
        "outputId": "97df2660-ab8f-47e1-e247-2fe0e33a730d"
      },
      "execution_count": null,
      "outputs": [
        {
          "output_type": "execute_result",
          "data": {
            "text/plain": [
              "['plate 1', 'plate 2', 'plate 3', 'plate 4']"
            ]
          },
          "metadata": {},
          "execution_count": 26
        }
      ]
    },
    {
      "cell_type": "code",
      "source": [
        "stack_of_plates.pop()"
      ],
      "metadata": {
        "colab": {
          "base_uri": "https://localhost:8080/",
          "height": 35
        },
        "id": "DIDemSHB45_g",
        "outputId": "0e1130e8-877b-48d4-d0b6-ef08480ac479"
      },
      "execution_count": null,
      "outputs": [
        {
          "output_type": "execute_result",
          "data": {
            "text/plain": [
              "'plate 4'"
            ],
            "application/vnd.google.colaboratory.intrinsic+json": {
              "type": "string"
            }
          },
          "metadata": {},
          "execution_count": 28
        }
      ]
    },
    {
      "cell_type": "code",
      "source": [
        "stack_of_plates"
      ],
      "metadata": {
        "colab": {
          "base_uri": "https://localhost:8080/"
        },
        "id": "WW9f8uiw5BOv",
        "outputId": "16e0af9b-46dd-408e-91cd-c54bf054825c"
      },
      "execution_count": null,
      "outputs": [
        {
          "output_type": "execute_result",
          "data": {
            "text/plain": [
              "['plate 1', 'plate 2', 'plate 3']"
            ]
          },
          "metadata": {},
          "execution_count": 29
        }
      ]
    },
    {
      "cell_type": "code",
      "source": [
        "#Queue >> FIFO > First in First out\n",
        "#Orderly sequential manner\n",
        "# Two ends > Deque and Enque"
      ],
      "metadata": {
        "id": "pBFG-9ZI5MZR"
      },
      "execution_count": null,
      "outputs": []
    },
    {
      "cell_type": "code",
      "source": [
        "from collections import deque\n",
        "\n",
        "checkout = deque()\n",
        "\n",
        "checkout.append(\"cus 1\")\n",
        "checkout.append(\"cus 2\")\n",
        "checkout.append(\"cus 3\")\n",
        "checkout.append(\"cus 4\")\n",
        "checkout"
      ],
      "metadata": {
        "colab": {
          "base_uri": "https://localhost:8080/"
        },
        "id": "op37wu9v6Lz-",
        "outputId": "e30e1695-f3ea-4cc4-e72c-bcb7acdf9447"
      },
      "execution_count": null,
      "outputs": [
        {
          "output_type": "execute_result",
          "data": {
            "text/plain": [
              "deque(['cus 1', 'cus 2', 'cus 3', 'cus 4'])"
            ]
          },
          "metadata": {},
          "execution_count": 34
        }
      ]
    },
    {
      "cell_type": "code",
      "source": [
        "while checkout:\n",
        "  customer = checkout.popleft()\n",
        "  print(\"Serving\",customer)"
      ],
      "metadata": {
        "colab": {
          "base_uri": "https://localhost:8080/"
        },
        "id": "L1X6r0hS6-D5",
        "outputId": "d73d539d-ad49-470c-84b6-95f5851d8668"
      },
      "execution_count": null,
      "outputs": [
        {
          "output_type": "stream",
          "name": "stdout",
          "text": [
            "Serving cus 1\n",
            "Serving cus 2\n",
            "Serving cus 3\n",
            "Serving cus 4\n"
          ]
        }
      ]
    },
    {
      "cell_type": "code",
      "source": [
        "from queue import Queue\n",
        "print_queue=Queue()\n",
        "print_queue.put(\"Print job 1\")\n",
        "print_queue.put(\"Print job 2\")\n",
        "print_queue.put(\"Print job 3\")\n",
        "print_queue.put(\"Print job 4\")\n",
        "\n",
        "while not print_queue.empty():\n",
        "  print_job=print_queue.get()\n",
        "  print(\"Printing\",print_job)"
      ],
      "metadata": {
        "colab": {
          "base_uri": "https://localhost:8080/"
        },
        "id": "UzKLtt7m7K1s",
        "outputId": "0af3d1cc-8038-473e-dd7b-b5300d5b2115"
      },
      "execution_count": null,
      "outputs": [
        {
          "output_type": "stream",
          "name": "stdout",
          "text": [
            "Printing Print job 1\n",
            "Printing Print job 2\n",
            "Printing Print job 3\n",
            "Printing Print job 4\n"
          ]
        }
      ]
    },
    {
      "cell_type": "markdown",
      "source": [
        "TUPLES"
      ],
      "metadata": {
        "id": "Z0XXCh8Wt6l6"
      }
    },
    {
      "cell_type": "code",
      "source": [
        "t=()"
      ],
      "metadata": {
        "id": "cf79stI4t6OC"
      },
      "execution_count": null,
      "outputs": []
    },
    {
      "cell_type": "code",
      "source": [
        "type(t)"
      ],
      "metadata": {
        "colab": {
          "base_uri": "https://localhost:8080/"
        },
        "id": "mia3Phzh8Sey",
        "outputId": "5185187b-e32b-4840-b9d3-2a3a242d594f"
      },
      "execution_count": null,
      "outputs": [
        {
          "output_type": "execute_result",
          "data": {
            "text/plain": [
              "tuple"
            ]
          },
          "metadata": {},
          "execution_count": 2
        }
      ]
    },
    {
      "cell_type": "code",
      "source": [
        "#Tuples are ordered collection of elements, they are heterogenous\n",
        "#Tuples are immutable"
      ],
      "metadata": {
        "id": "l_gSuLJEuAXX"
      },
      "execution_count": null,
      "outputs": []
    },
    {
      "cell_type": "code",
      "source": [
        "tup=(\"kunal\",7+3j,True,1,2,2,3,2.2)"
      ],
      "metadata": {
        "id": "Vbqc_rLwuKll"
      },
      "execution_count": null,
      "outputs": []
    },
    {
      "cell_type": "code",
      "source": [
        "type(tup)"
      ],
      "metadata": {
        "colab": {
          "base_uri": "https://localhost:8080/"
        },
        "id": "cIzYBTmsubTv",
        "outputId": "c8d4977a-4fa3-4fd5-fd68-c5352cf85d2f"
      },
      "execution_count": null,
      "outputs": [
        {
          "output_type": "execute_result",
          "data": {
            "text/plain": [
              "tuple"
            ]
          },
          "metadata": {},
          "execution_count": 8
        }
      ]
    },
    {
      "cell_type": "code",
      "source": [
        "tup[1]"
      ],
      "metadata": {
        "colab": {
          "base_uri": "https://localhost:8080/"
        },
        "id": "XFeN9W5puhbh",
        "outputId": "ff2dcf80-62b9-4b96-e57c-111c78be2656"
      },
      "execution_count": null,
      "outputs": [
        {
          "output_type": "execute_result",
          "data": {
            "text/plain": [
              "(7+3j)"
            ]
          },
          "metadata": {},
          "execution_count": 10
        }
      ]
    },
    {
      "cell_type": "code",
      "source": [
        "#Tuples are immutable\n",
        "# tup[1]=\"jam\" #So this will give error"
      ],
      "metadata": {
        "id": "dxW56E77upLk"
      },
      "execution_count": null,
      "outputs": []
    },
    {
      "cell_type": "code",
      "source": [
        "#.count\n",
        "tup.count(2) #returns the repeated times of the value"
      ],
      "metadata": {
        "colab": {
          "base_uri": "https://localhost:8080/"
        },
        "id": "01pg0pOiu7cY",
        "outputId": "985d556f-260c-461d-c209-540003968489"
      },
      "execution_count": null,
      "outputs": [
        {
          "output_type": "execute_result",
          "data": {
            "text/plain": [
              "2"
            ]
          },
          "metadata": {},
          "execution_count": 16
        }
      ]
    },
    {
      "cell_type": "code",
      "source": [
        "#.index\n",
        "tup.index(2)"
      ],
      "metadata": {
        "colab": {
          "base_uri": "https://localhost:8080/"
        },
        "id": "lDeM9HAjvW1G",
        "outputId": "f62f07db-7f07-433d-dec0-0e4e335f42b3"
      },
      "execution_count": null,
      "outputs": [
        {
          "output_type": "execute_result",
          "data": {
            "text/plain": [
              "4"
            ]
          },
          "metadata": {},
          "execution_count": 17
        }
      ]
    },
    {
      "cell_type": "code",
      "source": [
        "print(tup*2)"
      ],
      "metadata": {
        "colab": {
          "base_uri": "https://localhost:8080/"
        },
        "id": "hOXXLM_rvqlx",
        "outputId": "5e706b6a-ba1a-42e1-a56b-62bc9087ce41"
      },
      "execution_count": null,
      "outputs": [
        {
          "output_type": "stream",
          "name": "stdout",
          "text": [
            "('kunal', (7+3j), True, 1, 2, 2, 3, 2.2, 'kunal', (7+3j), True, 1, 2, 2, 3, 2.2)\n"
          ]
        }
      ]
    },
    {
      "cell_type": "code",
      "source": [
        "tup[0:4]"
      ],
      "metadata": {
        "colab": {
          "base_uri": "https://localhost:8080/"
        },
        "id": "4semWou2v5GL",
        "outputId": "7a937235-aa6b-4980-b6c2-e487a8b2c812"
      },
      "execution_count": null,
      "outputs": [
        {
          "output_type": "execute_result",
          "data": {
            "text/plain": [
              "('kunal', (7+3j), True, 1)"
            ]
          },
          "metadata": {},
          "execution_count": 19
        }
      ]
    },
    {
      "cell_type": "code",
      "source": [
        "tup[::-1]"
      ],
      "metadata": {
        "colab": {
          "base_uri": "https://localhost:8080/"
        },
        "id": "iWAq7Hs_wCxF",
        "outputId": "376c718b-9444-41c9-e459-ba1d30d2cbb2"
      },
      "execution_count": null,
      "outputs": [
        {
          "output_type": "execute_result",
          "data": {
            "text/plain": [
              "(2.2, 3, 2, 2, 1, True, (7+3j), 'kunal')"
            ]
          },
          "metadata": {},
          "execution_count": 24
        }
      ]
    },
    {
      "cell_type": "code",
      "source": [
        "for i in tup:\n",
        "  print(i,type(i))"
      ],
      "metadata": {
        "colab": {
          "base_uri": "https://localhost:8080/"
        },
        "id": "rl3wBcPlwFZ9",
        "outputId": "bdc07aa2-8298-47f5-b67d-82a7d62de645"
      },
      "execution_count": null,
      "outputs": [
        {
          "output_type": "stream",
          "name": "stdout",
          "text": [
            "kunal <class 'str'>\n",
            "(7+3j) <class 'complex'>\n",
            "True <class 'bool'>\n",
            "1 <class 'int'>\n",
            "2 <class 'int'>\n",
            "2 <class 'int'>\n",
            "3 <class 'int'>\n",
            "2.2 <class 'float'>\n"
          ]
        }
      ]
    },
    {
      "cell_type": "code",
      "source": [
        "#max\n",
        "t1=(4,5,7,2,0,3,3,8)\n",
        "max(t1)"
      ],
      "metadata": {
        "colab": {
          "base_uri": "https://localhost:8080/"
        },
        "id": "UEo5adWwwdSl",
        "outputId": "e1094357-d97c-4039-ef4b-fd5a867c7d20"
      },
      "execution_count": null,
      "outputs": [
        {
          "output_type": "execute_result",
          "data": {
            "text/plain": [
              "8"
            ]
          },
          "metadata": {},
          "execution_count": 26
        }
      ]
    },
    {
      "cell_type": "code",
      "source": [
        "min(t1)"
      ],
      "metadata": {
        "colab": {
          "base_uri": "https://localhost:8080/"
        },
        "id": "Rl023q4-wu3k",
        "outputId": "43da8885-e3c1-4ee7-dd82-d0b483207424"
      },
      "execution_count": null,
      "outputs": [
        {
          "output_type": "execute_result",
          "data": {
            "text/plain": [
              "0"
            ]
          },
          "metadata": {},
          "execution_count": 27
        }
      ]
    },
    {
      "cell_type": "code",
      "source": [
        "t2=(5,8,9,6)\n",
        "t3=(t1,t2)\n",
        "t3"
      ],
      "metadata": {
        "colab": {
          "base_uri": "https://localhost:8080/"
        },
        "id": "foI1DtxCwyH0",
        "outputId": "438c5463-44e4-4f97-84b9-1a189e332452"
      },
      "execution_count": null,
      "outputs": [
        {
          "output_type": "execute_result",
          "data": {
            "text/plain": [
              "((4, 5, 7, 2, 0, 3, 3, 8), (5, 8, 9, 6))"
            ]
          },
          "metadata": {},
          "execution_count": 42
        }
      ]
    },
    {
      "cell_type": "code",
      "source": [
        "del t3 #t3 deleted"
      ],
      "metadata": {
        "id": "FKQcVmBaxDga"
      },
      "execution_count": null,
      "outputs": []
    },
    {
      "cell_type": "code",
      "source": [
        "len(t1)"
      ],
      "metadata": {
        "colab": {
          "base_uri": "https://localhost:8080/"
        },
        "id": "Xxm-23vUxnQa",
        "outputId": "9b4c41e6-691f-4036-ff7e-7331c4f68743"
      },
      "execution_count": null,
      "outputs": [
        {
          "output_type": "execute_result",
          "data": {
            "text/plain": [
              "8"
            ]
          },
          "metadata": {},
          "execution_count": 44
        }
      ]
    },
    {
      "cell_type": "code",
      "source": [
        "2 in t1"
      ],
      "metadata": {
        "colab": {
          "base_uri": "https://localhost:8080/"
        },
        "id": "5WMMI3aXxxxg",
        "outputId": "d59f0511-1afc-40d8-cf68-5c85234f0f29"
      },
      "execution_count": null,
      "outputs": [
        {
          "output_type": "execute_result",
          "data": {
            "text/plain": [
              "True"
            ]
          },
          "metadata": {},
          "execution_count": 45
        }
      ]
    },
    {
      "cell_type": "code",
      "source": [
        "12 not in t2"
      ],
      "metadata": {
        "colab": {
          "base_uri": "https://localhost:8080/"
        },
        "id": "H2y49YkXx5lB",
        "outputId": "bb38d654-1bcc-44ce-9596-71e936928034"
      },
      "execution_count": null,
      "outputs": [
        {
          "output_type": "execute_result",
          "data": {
            "text/plain": [
              "True"
            ]
          },
          "metadata": {},
          "execution_count": 46
        }
      ]
    },
    {
      "cell_type": "code",
      "source": [
        "t1+t2 #Concatenation"
      ],
      "metadata": {
        "colab": {
          "base_uri": "https://localhost:8080/"
        },
        "id": "FDragi60x-gA",
        "outputId": "78c6eca6-c7f2-4df1-e440-352d37ad632e"
      },
      "execution_count": null,
      "outputs": [
        {
          "output_type": "execute_result",
          "data": {
            "text/plain": [
              "(4, 5, 7, 2, 0, 3, 3, 8, 5, 8, 9, 6)"
            ]
          },
          "metadata": {},
          "execution_count": 47
        }
      ]
    },
    {
      "cell_type": "markdown",
      "source": [
        "Sets"
      ],
      "metadata": {
        "id": "eDX06IuEyIWt"
      }
    },
    {
      "cell_type": "code",
      "source": [
        "#Sets are collection of unique and unordered elements\n",
        "#donot allow duplicate elements >> not maintain any order and it will not be indexed"
      ],
      "metadata": {
        "id": "2HKJ2IOHyCxN"
      },
      "execution_count": null,
      "outputs": []
    },
    {
      "cell_type": "code",
      "source": [
        "s={}\n",
        "type(s) # this will show Dict"
      ],
      "metadata": {
        "colab": {
          "base_uri": "https://localhost:8080/"
        },
        "id": "381YS1mkybgq",
        "outputId": "1d7a77d8-3579-4613-915e-c47c05c9a9fe"
      },
      "execution_count": null,
      "outputs": [
        {
          "output_type": "execute_result",
          "data": {
            "text/plain": [
              "dict"
            ]
          },
          "metadata": {},
          "execution_count": 49
        }
      ]
    },
    {
      "cell_type": "code",
      "source": [
        "#to avoid dict just insert elements\n",
        "s={1,2,3,4}\n",
        "type(s)   # this will show set"
      ],
      "metadata": {
        "colab": {
          "base_uri": "https://localhost:8080/"
        },
        "id": "1-JlkMJyyrzQ",
        "outputId": "975d4c51-d06f-4f6e-d0d7-46a4101a8674"
      },
      "execution_count": null,
      "outputs": [
        {
          "output_type": "execute_result",
          "data": {
            "text/plain": [
              "set"
            ]
          },
          "metadata": {},
          "execution_count": 50
        }
      ]
    },
    {
      "cell_type": "code",
      "source": [
        "s={1,1,1,1,2,2,2,3,3,3,4,4,5,\"Kunal\"}\n",
        "s # in set repeatation wil be removed as its a collection of unique elements"
      ],
      "metadata": {
        "colab": {
          "base_uri": "https://localhost:8080/"
        },
        "id": "FqiwVQHsy2it",
        "outputId": "987bec41-36a2-4a40-8d56-eee046b1e83e"
      },
      "execution_count": null,
      "outputs": [
        {
          "output_type": "execute_result",
          "data": {
            "text/plain": [
              "{1, 2, 3, 4, 5, 'Kunal'}"
            ]
          },
          "metadata": {},
          "execution_count": 54
        }
      ]
    },
    {
      "cell_type": "code",
      "source": [
        "list1=[2,3,4,4,4,5,5]\n",
        "s=set(list1) # Converting list to set for getting unique elements\n",
        "s"
      ],
      "metadata": {
        "colab": {
          "base_uri": "https://localhost:8080/"
        },
        "id": "vlNScFKuzGJV",
        "outputId": "4f02d305-debb-4b4b-bd44-2a7cc0e19a8e"
      },
      "execution_count": null,
      "outputs": [
        {
          "output_type": "execute_result",
          "data": {
            "text/plain": [
              "{2, 3, 4, 5}"
            ]
          },
          "metadata": {},
          "execution_count": 67
        }
      ]
    },
    {
      "cell_type": "code",
      "source": [
        "list(s) #Converting set to list"
      ],
      "metadata": {
        "colab": {
          "base_uri": "https://localhost:8080/"
        },
        "id": "4XdJ2EGmz3PR",
        "outputId": "a44ad2b1-23d4-49bd-d087-61c899626de8"
      },
      "execution_count": null,
      "outputs": [
        {
          "output_type": "execute_result",
          "data": {
            "text/plain": [
              "[2, 3, 4, 5]"
            ]
          },
          "metadata": {},
          "execution_count": 68
        }
      ]
    },
    {
      "cell_type": "code",
      "source": [
        "# Indexes can not be accesed directly se stores element with hash index"
      ],
      "metadata": {
        "id": "6aCU9jSK0BfZ"
      },
      "execution_count": null,
      "outputs": []
    },
    {
      "cell_type": "code",
      "source": [
        "for i in s: # way to acces elements\n",
        "  print(i)"
      ],
      "metadata": {
        "colab": {
          "base_uri": "https://localhost:8080/"
        },
        "id": "mziliJQD0q9j",
        "outputId": "8c002c2b-2cfb-48ad-ee1f-11b37a5b1d00"
      },
      "execution_count": null,
      "outputs": [
        {
          "output_type": "stream",
          "name": "stdout",
          "text": [
            "2\n",
            "3\n",
            "4\n",
            "5\n"
          ]
        }
      ]
    },
    {
      "cell_type": "code",
      "source": [
        "len(s)"
      ],
      "metadata": {
        "colab": {
          "base_uri": "https://localhost:8080/"
        },
        "id": "arlGAOS61MdF",
        "outputId": "5f41b31c-ae6f-4ca9-8d5d-1a5ed967121c"
      },
      "execution_count": null,
      "outputs": [
        {
          "output_type": "execute_result",
          "data": {
            "text/plain": [
              "4"
            ]
          },
          "metadata": {},
          "execution_count": 71
        }
      ]
    },
    {
      "cell_type": "code",
      "source": [
        "\n",
        "s.add(45)\n",
        "s"
      ],
      "metadata": {
        "colab": {
          "base_uri": "https://localhost:8080/"
        },
        "id": "q_LOu6QC1Vif",
        "outputId": "9b88f7d6-5826-471f-814d-42c38b579360"
      },
      "execution_count": null,
      "outputs": [
        {
          "output_type": "execute_result",
          "data": {
            "text/plain": [
              "{2, 3, 4, 5, 45}"
            ]
          },
          "metadata": {},
          "execution_count": 72
        }
      ]
    },
    {
      "cell_type": "code",
      "source": [
        "s.pop() #will pop random element\n",
        "s"
      ],
      "metadata": {
        "colab": {
          "base_uri": "https://localhost:8080/"
        },
        "id": "qzoCzduO1YeD",
        "outputId": "705df35a-7c94-4260-f525-ddd0661346f6"
      },
      "execution_count": null,
      "outputs": [
        {
          "output_type": "execute_result",
          "data": {
            "text/plain": [
              "{3, 4, 5, 45}"
            ]
          },
          "metadata": {},
          "execution_count": 73
        }
      ]
    },
    {
      "cell_type": "code",
      "source": [
        "s.remove(4)"
      ],
      "metadata": {
        "id": "EKSW-VW41ZDa"
      },
      "execution_count": null,
      "outputs": []
    },
    {
      "cell_type": "code",
      "source": [
        "s"
      ],
      "metadata": {
        "colab": {
          "base_uri": "https://localhost:8080/"
        },
        "id": "Ky1aNBBr1vrF",
        "outputId": "fbb824d9-05ab-463f-9677-a2b387d40511"
      },
      "execution_count": null,
      "outputs": [
        {
          "output_type": "execute_result",
          "data": {
            "text/plain": [
              "{3, 5, 45}"
            ]
          },
          "metadata": {},
          "execution_count": 75
        }
      ]
    },
    {
      "cell_type": "code",
      "source": [
        "s.update(\"2\") #update will not work with integer\n",
        "s"
      ],
      "metadata": {
        "colab": {
          "base_uri": "https://localhost:8080/"
        },
        "id": "Tfyw5niM1zog",
        "outputId": "c0bcedde-6b1d-4117-9249-fd7dc24a5a74"
      },
      "execution_count": null,
      "outputs": [
        {
          "output_type": "execute_result",
          "data": {
            "text/plain": [
              "{'2', 3, 45, 5}"
            ]
          },
          "metadata": {},
          "execution_count": 79
        }
      ]
    },
    {
      "cell_type": "code",
      "source": [
        "del s"
      ],
      "metadata": {
        "id": "aQqt2HxC18q3"
      },
      "execution_count": null,
      "outputs": []
    },
    {
      "cell_type": "code",
      "source": [
        "s={1,2,3,4}"
      ],
      "metadata": {
        "id": "x8WJ6iIA2LZM"
      },
      "execution_count": null,
      "outputs": []
    },
    {
      "cell_type": "code",
      "source": [
        "s.clear()"
      ],
      "metadata": {
        "id": "mcHvlIUD2Q86"
      },
      "execution_count": null,
      "outputs": []
    },
    {
      "cell_type": "code",
      "source": [
        "s={1,2,3,4,'2'}\n",
        "s"
      ],
      "metadata": {
        "colab": {
          "base_uri": "https://localhost:8080/"
        },
        "id": "5x9NaEea2jkF",
        "outputId": "62b6d3d9-0ed0-412c-d5e7-538df21f7358"
      },
      "execution_count": null,
      "outputs": [
        {
          "output_type": "execute_result",
          "data": {
            "text/plain": [
              "{1, 2, '2', 3, 4}"
            ]
          },
          "metadata": {},
          "execution_count": 91
        }
      ]
    },
    {
      "cell_type": "code",
      "source": [
        "s.discard('2') #.discard"
      ],
      "metadata": {
        "id": "NFjdNGC92T7k"
      },
      "execution_count": null,
      "outputs": []
    },
    {
      "cell_type": "code",
      "source": [
        "s"
      ],
      "metadata": {
        "colab": {
          "base_uri": "https://localhost:8080/"
        },
        "id": "klMJ8dMs2dOk",
        "outputId": "bdf2c788-23ea-419a-cc65-52b2d9c5d7b9"
      },
      "execution_count": null,
      "outputs": [
        {
          "output_type": "execute_result",
          "data": {
            "text/plain": [
              "{1, 2, 3, 4}"
            ]
          },
          "metadata": {},
          "execution_count": 93
        }
      ]
    },
    {
      "cell_type": "code",
      "source": [
        "#remove will throw an error if the given element is not present in set\n",
        "#but for discard erroe will not be thrown if element is not present"
      ],
      "metadata": {
        "id": "SMq2Ye3S2eF6"
      },
      "execution_count": null,
      "outputs": []
    },
    {
      "cell_type": "markdown",
      "source": [
        "Set Operation"
      ],
      "metadata": {
        "id": "YcXApJUvPA0d"
      }
    },
    {
      "cell_type": "markdown",
      "source": [],
      "metadata": {
        "id": "Llab03gYPAuc"
      }
    },
    {
      "cell_type": "code",
      "source": [
        "# 1)Union: Combines elements from two sets excluding duplicates>> S1US2={}\n",
        "# 2)Intersection: only common elements btw sets\n",
        "# 3)Difference: return the elements that is present in first set and not in second (irrestive of intersection elements) >> S1-S2={}\n",
        "# 4)Symmetric Difference: returns elements that are present in either of sets but not in both(i.e, irrestive of intersection elements)>> S1^S2={}"
      ],
      "metadata": {
        "id": "TC2BPL-c3STA"
      },
      "execution_count": null,
      "outputs": []
    },
    {
      "cell_type": "code",
      "source": [
        "s1={\"hiking\",\"reading\",\"coding\"}\n",
        "s2={\"coding\",\"photography\",\"travelling\"}"
      ],
      "metadata": {
        "id": "sfueKKpJQ2C9"
      },
      "execution_count": null,
      "outputs": []
    },
    {
      "cell_type": "code",
      "source": [
        "#Intersection >> &\n",
        "s1 & s2"
      ],
      "metadata": {
        "colab": {
          "base_uri": "https://localhost:8080/"
        },
        "id": "AFLZP5dPRLpL",
        "outputId": "203e8bce-33d6-4327-8b18-b3ac8f6e343d"
      },
      "execution_count": null,
      "outputs": [
        {
          "output_type": "execute_result",
          "data": {
            "text/plain": [
              "{'coding'}"
            ]
          },
          "metadata": {},
          "execution_count": 4
        }
      ]
    },
    {
      "cell_type": "code",
      "source": [
        "#Union >> |\n",
        "s1 | s2"
      ],
      "metadata": {
        "colab": {
          "base_uri": "https://localhost:8080/"
        },
        "id": "s2uog3JaRSSR",
        "outputId": "c75ae3dc-98aa-4fa1-ae2b-41d1bede07d7"
      },
      "execution_count": null,
      "outputs": [
        {
          "output_type": "execute_result",
          "data": {
            "text/plain": [
              "{'coding', 'hiking', 'photography', 'reading', 'travelling'}"
            ]
          },
          "metadata": {},
          "execution_count": 5
        }
      ]
    },
    {
      "cell_type": "code",
      "source": [
        "#Difference >> -\n",
        "s1-s2"
      ],
      "metadata": {
        "colab": {
          "base_uri": "https://localhost:8080/"
        },
        "id": "_Kpo4wauRdbi",
        "outputId": "dd6dfd2d-342e-4b64-ec06-13d2dd3f729c"
      },
      "execution_count": null,
      "outputs": [
        {
          "output_type": "execute_result",
          "data": {
            "text/plain": [
              "{'hiking', 'reading'}"
            ]
          },
          "metadata": {},
          "execution_count": 6
        }
      ]
    },
    {
      "cell_type": "code",
      "source": [
        "#Symmetric Difference >> ^\n",
        "s1 ^ s2"
      ],
      "metadata": {
        "colab": {
          "base_uri": "https://localhost:8080/"
        },
        "id": "6CslnWgjRjm0",
        "outputId": "81cac28b-4a7d-43f1-9096-51ff0a1c92ae"
      },
      "execution_count": null,
      "outputs": [
        {
          "output_type": "execute_result",
          "data": {
            "text/plain": [
              "{'hiking', 'photography', 'reading', 'travelling'}"
            ]
          },
          "metadata": {},
          "execution_count": 8
        }
      ]
    },
    {
      "cell_type": "code",
      "source": [
        "#Frozen sets >> immatble version of set., can not be changed added or removed\n",
        "my_frozensets=frozenset([1,2,3,4]) # we cannot update or modify this set"
      ],
      "metadata": {
        "id": "HSz2thQRRw8k"
      },
      "execution_count": null,
      "outputs": []
    },
    {
      "cell_type": "code",
      "source": [
        "type(my_frozensets)"
      ],
      "metadata": {
        "colab": {
          "base_uri": "https://localhost:8080/"
        },
        "id": "M2ARjZj-R3aT",
        "outputId": "3be2ce14-5d60-47c9-8277-062688c12473"
      },
      "execution_count": null,
      "outputs": [
        {
          "output_type": "execute_result",
          "data": {
            "text/plain": [
              "frozenset"
            ]
          },
          "metadata": {},
          "execution_count": 14
        }
      ]
    },
    {
      "cell_type": "code",
      "source": [
        "# To acces\n",
        "for i in my_frozensets:\n",
        "  print(i)"
      ],
      "metadata": {
        "colab": {
          "base_uri": "https://localhost:8080/"
        },
        "id": "L9SN4izASsEF",
        "outputId": "50a68c94-7638-4613-ac9c-4452e7d44500"
      },
      "execution_count": null,
      "outputs": [
        {
          "output_type": "stream",
          "name": "stdout",
          "text": [
            "1\n",
            "2\n",
            "3\n",
            "4\n"
          ]
        }
      ]
    },
    {
      "cell_type": "markdown",
      "source": [
        "Dictionary"
      ],
      "metadata": {
        "id": "ODaBln5sTwfb"
      }
    },
    {
      "cell_type": "code",
      "source": [
        "# Dictionary is a data structure that stores data as key value pair\n",
        "#Unorderd, keys are unique and immtable"
      ],
      "metadata": {
        "id": "3ZarCNdETS2e"
      },
      "execution_count": null,
      "outputs": []
    },
    {
      "cell_type": "code",
      "source": [
        "d={}\n",
        "type(d)"
      ],
      "metadata": {
        "colab": {
          "base_uri": "https://localhost:8080/"
        },
        "id": "zXnvYGfAUBw2",
        "outputId": "a6c50722-4d15-4ca6-ef75-5a08109d62df"
      },
      "execution_count": null,
      "outputs": [
        {
          "output_type": "execute_result",
          "data": {
            "text/plain": [
              "dict"
            ]
          },
          "metadata": {},
          "execution_count": 17
        }
      ]
    },
    {
      "cell_type": "code",
      "source": [
        "d={\"name\":\"Kunal\",\"email\":\"kunal@gmail\",\"contact\":1234} # here name , email ,contact are the \"Keys\" and \"kunal\" etc. are the values\n",
        "type(d)"
      ],
      "metadata": {
        "colab": {
          "base_uri": "https://localhost:8080/"
        },
        "id": "XBmZa87vURor",
        "outputId": "48768fd7-7807-41f3-c7d2-00ebdf6d9ffa"
      },
      "execution_count": null,
      "outputs": [
        {
          "output_type": "execute_result",
          "data": {
            "text/plain": [
              "dict"
            ]
          },
          "metadata": {},
          "execution_count": 38
        }
      ]
    },
    {
      "cell_type": "code",
      "source": [
        "d"
      ],
      "metadata": {
        "colab": {
          "base_uri": "https://localhost:8080/"
        },
        "id": "5wlIaASxUdJr",
        "outputId": "9f911f1e-d3c6-4737-e89c-4a4b41e7b8c1"
      },
      "execution_count": null,
      "outputs": [
        {
          "output_type": "execute_result",
          "data": {
            "text/plain": [
              "{'name': 'Kunal', 'email': 'kunal@gmail', 'contact': 1234}"
            ]
          },
          "metadata": {},
          "execution_count": 22
        }
      ]
    },
    {
      "cell_type": "code",
      "source": [
        "d[\"name\"]"
      ],
      "metadata": {
        "colab": {
          "base_uri": "https://localhost:8080/",
          "height": 35
        },
        "id": "VAwbefV-VYEP",
        "outputId": "01bf6618-2e0f-4347-9952-15ecae053b11"
      },
      "execution_count": null,
      "outputs": [
        {
          "output_type": "execute_result",
          "data": {
            "text/plain": [
              "'Kunal'"
            ],
            "application/vnd.google.colaboratory.intrinsic+json": {
              "type": "string"
            }
          },
          "metadata": {},
          "execution_count": 24
        }
      ]
    },
    {
      "cell_type": "code",
      "source": [
        "d[\"email\"]"
      ],
      "metadata": {
        "colab": {
          "base_uri": "https://localhost:8080/",
          "height": 35
        },
        "id": "Ig16bMLMVuG1",
        "outputId": "92e8e46d-d0b5-4d18-b3f4-30285047e77f"
      },
      "execution_count": null,
      "outputs": [
        {
          "output_type": "execute_result",
          "data": {
            "text/plain": [
              "'kunal@gmail'"
            ],
            "application/vnd.google.colaboratory.intrinsic+json": {
              "type": "string"
            }
          },
          "metadata": {},
          "execution_count": 25
        }
      ]
    },
    {
      "cell_type": "code",
      "source": [
        "d[\"name\"]=\"Tulika\" #Key cannot be changed but values can be changed"
      ],
      "metadata": {
        "id": "_ZMY4WWqV9G6"
      },
      "execution_count": null,
      "outputs": []
    },
    {
      "cell_type": "code",
      "source": [
        "d"
      ],
      "metadata": {
        "colab": {
          "base_uri": "https://localhost:8080/"
        },
        "id": "nwP5P-YqWJOq",
        "outputId": "cff36542-2846-4445-c708-106fafab5268"
      },
      "execution_count": null,
      "outputs": [
        {
          "output_type": "execute_result",
          "data": {
            "text/plain": [
              "{'name': 'Tulika', 'email': 'kunal@gmail', 'contact': 1234}"
            ]
          },
          "metadata": {},
          "execution_count": 28
        }
      ]
    },
    {
      "cell_type": "code",
      "source": [
        "d={\"name\":\"Kunal\",\"email\":\"kunal@gmail\",\"contact\":1234,\"name\":\"jesika\"}\n",
        "d  #here \"name\":\"Kunal\" will be overwritten by \"name\":\"jesika\" as every keys are unique"
      ],
      "metadata": {
        "colab": {
          "base_uri": "https://localhost:8080/"
        },
        "id": "spmXrnPMWUZ1",
        "outputId": "74a6d35c-88e9-49ed-fca3-a4ade9a35900"
      },
      "execution_count": null,
      "outputs": [
        {
          "output_type": "execute_result",
          "data": {
            "text/plain": [
              "{'name': 'jesika', 'email': 'kunal@gmail', 'contact': 1234}"
            ]
          },
          "metadata": {},
          "execution_count": 31
        }
      ]
    },
    {
      "cell_type": "code",
      "source": [
        "d={101:\"Kunal\"} #int\n",
        "d"
      ],
      "metadata": {
        "colab": {
          "base_uri": "https://localhost:8080/"
        },
        "id": "Mv0gBJHkW2Zx",
        "outputId": "37b7a12c-8ba2-442c-dd93-55f542cba86a"
      },
      "execution_count": null,
      "outputs": [
        {
          "output_type": "execute_result",
          "data": {
            "text/plain": [
              "{101: 'Kunal'}"
            ]
          },
          "metadata": {},
          "execution_count": 32
        }
      ]
    },
    {
      "cell_type": "code",
      "source": [
        "d={1.1:\"Kunal\"} # float\n",
        "d"
      ],
      "metadata": {
        "colab": {
          "base_uri": "https://localhost:8080/"
        },
        "id": "Uei-VuVIXoMm",
        "outputId": "1f6f832e-049d-4756-9753-793415dedbec"
      },
      "execution_count": null,
      "outputs": [
        {
          "output_type": "execute_result",
          "data": {
            "text/plain": [
              "{1.1: 'Kunal'}"
            ]
          },
          "metadata": {},
          "execution_count": 33
        }
      ]
    },
    {
      "cell_type": "code",
      "source": [
        "d={True:\"Kunal\"} #bool\n",
        "d"
      ],
      "metadata": {
        "colab": {
          "base_uri": "https://localhost:8080/"
        },
        "id": "UNfWi-8PXrIW",
        "outputId": "e6d52881-8ae2-41cc-856b-f819283bdbe7"
      },
      "execution_count": null,
      "outputs": [
        {
          "output_type": "execute_result",
          "data": {
            "text/plain": [
              "{True: 'Kunal'}"
            ]
          },
          "metadata": {},
          "execution_count": 34
        }
      ]
    },
    {
      "cell_type": "code",
      "source": [
        "d={(1,2,3):\"Kunal\"} # as Tuples are immutable\n",
        "d"
      ],
      "metadata": {
        "colab": {
          "base_uri": "https://localhost:8080/"
        },
        "id": "ccIRoWgGYHx8",
        "outputId": "e4f6fc36-6382-43c0-c376-98a7b108780a"
      },
      "execution_count": null,
      "outputs": [
        {
          "output_type": "execute_result",
          "data": {
            "text/plain": [
              "{(1, 2, 3): 'Kunal'}"
            ]
          },
          "metadata": {},
          "execution_count": 35
        }
      ]
    },
    {
      "cell_type": "code",
      "source": [
        "#Special characters and list and set and dictionary are not allowed"
      ],
      "metadata": {
        "id": "TxkqTJCKXtRO"
      },
      "execution_count": null,
      "outputs": []
    },
    {
      "cell_type": "markdown",
      "source": [
        "Dictionary view objects"
      ],
      "metadata": {
        "id": "Rw63kVysfo9V"
      }
    },
    {
      "cell_type": "code",
      "source": [
        "# .keys()\n",
        "d={\"name\":\"Kunal\",\"email\":\"kunal@gmail\",\"contact\":1234}\n",
        "d.keys()\n"
      ],
      "metadata": {
        "colab": {
          "base_uri": "https://localhost:8080/"
        },
        "id": "f5hq4xRCYfFP",
        "outputId": "04acc5de-f167-4076-8c65-2fa408e61885"
      },
      "execution_count": null,
      "outputs": [
        {
          "output_type": "execute_result",
          "data": {
            "text/plain": [
              "dict_keys(['name', 'email', 'contact'])"
            ]
          },
          "metadata": {},
          "execution_count": 49
        }
      ]
    },
    {
      "cell_type": "code",
      "source": [
        "len(d)"
      ],
      "metadata": {
        "colab": {
          "base_uri": "https://localhost:8080/"
        },
        "id": "BFgUOvhnYyov",
        "outputId": "2b348b82-36be-4064-efa4-217cc62ad1c4"
      },
      "execution_count": null,
      "outputs": [
        {
          "output_type": "execute_result",
          "data": {
            "text/plain": [
              "3"
            ]
          },
          "metadata": {},
          "execution_count": 50
        }
      ]
    },
    {
      "cell_type": "code",
      "source": [
        "d.values()"
      ],
      "metadata": {
        "colab": {
          "base_uri": "https://localhost:8080/"
        },
        "id": "1PSTHtKtZM5v",
        "outputId": "0a6f3827-924a-46ad-f6b7-2721d0ad738a"
      },
      "execution_count": null,
      "outputs": [
        {
          "output_type": "execute_result",
          "data": {
            "text/plain": [
              "dict_values(['Kunal', 'kunal@gmail', 1234])"
            ]
          },
          "metadata": {},
          "execution_count": 51
        }
      ]
    },
    {
      "cell_type": "code",
      "source": [
        "d.items()"
      ],
      "metadata": {
        "colab": {
          "base_uri": "https://localhost:8080/"
        },
        "id": "c6cViG25ZPLM",
        "outputId": "e691188f-206f-48df-fb55-84c4638c9d05"
      },
      "execution_count": null,
      "outputs": [
        {
          "output_type": "execute_result",
          "data": {
            "text/plain": [
              "dict_items([('name', 'Kunal'), ('email', 'kunal@gmail'), ('contact', 1234)])"
            ]
          },
          "metadata": {},
          "execution_count": 52
        }
      ]
    },
    {
      "cell_type": "code",
      "source": [
        "d1=d.copy()"
      ],
      "metadata": {
        "id": "1ENKaJncZSzz"
      },
      "execution_count": null,
      "outputs": []
    },
    {
      "cell_type": "code",
      "source": [
        "del d1"
      ],
      "metadata": {
        "id": "_N6rQ5RqZZpl"
      },
      "execution_count": null,
      "outputs": []
    },
    {
      "cell_type": "code",
      "source": [
        "d.pop(\"contact\")\n",
        "d"
      ],
      "metadata": {
        "colab": {
          "base_uri": "https://localhost:8080/"
        },
        "id": "yPVjFkX_ZcKZ",
        "outputId": "a46a2193-cf7a-4fa8-f3f3-e1cab1ec7131"
      },
      "execution_count": null,
      "outputs": [
        {
          "output_type": "execute_result",
          "data": {
            "text/plain": [
              "{'name': 'Kunal', 'email': 'kunal@gmail'}"
            ]
          },
          "metadata": {},
          "execution_count": 55
        }
      ]
    },
    {
      "cell_type": "code",
      "source": [
        "d1={\"name\":\"Tulika\",\"email\":\"tuli@gmail\"}\n",
        "d.update(d1)"
      ],
      "metadata": {
        "id": "466cVmOnZpSM"
      },
      "execution_count": null,
      "outputs": []
    },
    {
      "cell_type": "code",
      "source": [
        "d"
      ],
      "metadata": {
        "colab": {
          "base_uri": "https://localhost:8080/"
        },
        "id": "CFrvup45aFlK",
        "outputId": "8aa347e0-3e16-42ba-8029-759ce9b65102"
      },
      "execution_count": null,
      "outputs": [
        {
          "output_type": "execute_result",
          "data": {
            "text/plain": [
              "{'name': 'Tulika', 'email': 'tuli@gmail'}"
            ]
          },
          "metadata": {},
          "execution_count": 57
        }
      ]
    },
    {
      "cell_type": "code",
      "source": [
        "d.get(\"name\")"
      ],
      "metadata": {
        "colab": {
          "base_uri": "https://localhost:8080/",
          "height": 35
        },
        "id": "5pel2XnxaGw7",
        "outputId": "9f3b0ab1-bd11-4d23-d0e9-76b2a5e4487f"
      },
      "execution_count": null,
      "outputs": [
        {
          "output_type": "execute_result",
          "data": {
            "text/plain": [
              "'Tulika'"
            ],
            "application/vnd.google.colaboratory.intrinsic+json": {
              "type": "string"
            }
          },
          "metadata": {},
          "execution_count": 58
        }
      ]
    },
    {
      "cell_type": "code",
      "source": [
        "d.fromkeys((1,2,3),('a','b','c'))"
      ],
      "metadata": {
        "colab": {
          "base_uri": "https://localhost:8080/"
        },
        "id": "Cc0iEdP6aVJh",
        "outputId": "75729e2d-0ae2-4221-b1e7-76f5c0051b47"
      },
      "execution_count": null,
      "outputs": [
        {
          "output_type": "execute_result",
          "data": {
            "text/plain": [
              "{1: ('a', 'b', 'c'), 2: ('a', 'b', 'c'), 3: ('a', 'b', 'c')}"
            ]
          },
          "metadata": {},
          "execution_count": 60
        }
      ]
    },
    {
      "cell_type": "code",
      "source": [
        "#Dictionary Comprehension\n",
        "students=['arun','ajay','bob']\n",
        "marks=[80,90,60]\n",
        "stu_marks={}\n",
        "for student, mark in zip(students,marks):\n",
        "  stu_marks[student]=mark\n",
        "stu_marks"
      ],
      "metadata": {
        "colab": {
          "base_uri": "https://localhost:8080/"
        },
        "id": "8gvdZW_xapM9",
        "outputId": "6c3031c3-6e1d-4e2c-c0b1-03d1543ae815"
      },
      "execution_count": null,
      "outputs": [
        {
          "output_type": "execute_result",
          "data": {
            "text/plain": [
              "{'arun': 80, 'ajay': 90, 'bob': 60}"
            ]
          },
          "metadata": {},
          "execution_count": 64
        }
      ]
    },
    {
      "cell_type": "code",
      "source": [
        "for i in zip (students,marks):\n",
        "  print(i)"
      ],
      "metadata": {
        "colab": {
          "base_uri": "https://localhost:8080/"
        },
        "id": "ld7GrqU-eWO5",
        "outputId": "8457bfff-f560-47c8-c6b3-78d9dcfb18c1"
      },
      "execution_count": null,
      "outputs": [
        {
          "output_type": "stream",
          "name": "stdout",
          "text": [
            "('arun', 80)\n",
            "('ajay', 90)\n",
            "('bob', 60)\n"
          ]
        }
      ]
    },
    {
      "cell_type": "code",
      "source": [
        "#In a consize way\n",
        "{student:mark for student,mark in zip(students,marks)}"
      ],
      "metadata": {
        "colab": {
          "base_uri": "https://localhost:8080/"
        },
        "id": "UZhqwFKrej5P",
        "outputId": "b6852a81-a14d-4f0c-8312-69110e8b47d2"
      },
      "execution_count": null,
      "outputs": [
        {
          "output_type": "execute_result",
          "data": {
            "text/plain": [
              "{'arun': 80, 'ajay': 90, 'bob': 60}"
            ]
          },
          "metadata": {},
          "execution_count": 66
        }
      ]
    },
    {
      "cell_type": "code",
      "source": [],
      "metadata": {
        "id": "o7GLgsFbeyM9"
      },
      "execution_count": null,
      "outputs": []
    }
  ]
}